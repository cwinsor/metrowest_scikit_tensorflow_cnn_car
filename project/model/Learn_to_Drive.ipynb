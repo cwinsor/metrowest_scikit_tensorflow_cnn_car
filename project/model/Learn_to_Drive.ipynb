{
 "cells": [
  {
   "cell_type": "markdown",
   "metadata": {},
   "source": [
    "# Metrowest machine learning self-driving car\n",
    "```\n",
    "The project is a self-driving car.\n",
    "This notebook trains the the CNN.\n",
    "Refer to the .pdf for details\n",
    "  \n",
    "Much of this is taken from Kiras CIFAR-10 example - see reference.\n",
    "\n",
    "References:\n",
    "https://github.com/keras-team/keras/blob/master/examples/cifar10_cnn.py\n",
    "https://www.meetup.com/Natick-Artificial-Intelligence-Meetup/\n",
    "https://github.com/experiencor.self-driving-toy-car/\n",
    "http://vision.stanford.edu/teaching/cs231n/\n",
    "https://www.tensorflow.org/\n",
    "```"
   ]
  },
  {
   "cell_type": "code",
   "execution_count": 1,
   "metadata": {},
   "outputs": [],
   "source": [
    "# force libraries to re-load every time - helpful during development\n",
    "%load_ext autoreload\n",
    "%autoreload 2"
   ]
  },
  {
   "cell_type": "code",
   "execution_count": 2,
   "metadata": {},
   "outputs": [],
   "source": [
    "import sys\n",
    "sys.path.append('../lib')"
   ]
  },
  {
   "cell_type": "markdown",
   "metadata": {},
   "source": [
    "# Data Loading"
   ]
  },
  {
   "cell_type": "code",
   "execution_count": 3,
   "metadata": {},
   "outputs": [],
   "source": [
    "from metrowestcar_dataset import Dataset\n",
    "dataset = Dataset.data()\n"
   ]
  },
  {
   "cell_type": "code",
   "execution_count": 4,
   "metadata": {},
   "outputs": [
    {
     "name": "stderr",
     "output_type": "stream",
     "text": [
      "Using TensorFlow backend.\n"
     ]
    },
    {
     "name": "stdout",
     "output_type": "stream",
     "text": [
      "x_train before:<class 'numpy.uint8'>\n",
      "x_train after: <class 'numpy.float32'>\n",
      "y_train before <class 'numpy.ndarray'> (15136,) <class 'numpy.uint32'>\n",
      "y_train after  <class 'numpy.ndarray'> (15136, 4)<class 'numpy.float32'>\n"
     ]
    }
   ],
   "source": [
    "from __future__ import print_function\n",
    "import keras\n",
    "\n",
    "num_classes = 4\n",
    "\n",
    "# input image dimensions\n",
    "import my_globals as mygl\n",
    "input_shape = (1, mygl.IMAGE_RAW_H, mygl.IMAGE_RAW_W)\n",
    "\n",
    "# the data, split between train and test sets\n",
    "dataset = Dataset.data()\n",
    "x_train_raw = dataset['images_train']\n",
    "x_test_raw  = dataset['images_test']\n",
    "y_train_raw = dataset['steering_train']\n",
    "y_test_raw  = dataset['steering_test']\n",
    "\n",
    "# dataset is uint8 but Kiras expects float - do this conversion\n",
    "# also - convert class vectors to binary (1-hot) encoded array\n",
    "\n",
    "x_train = x_train_raw.astype('float32')\n",
    "x_test = x_test_raw.astype('float32')\n",
    "x_train /= 255\n",
    "x_test /= 255\n",
    "\n",
    "y_train = keras.utils.to_categorical(y_train_raw, num_classes)\n",
    "y_test = keras.utils.to_categorical(y_test_raw, num_classes)\n",
    "\n",
    "print(\"x_train before:\" + str(type(x_train_raw[0][0][0][0])))\n",
    "print(\"x_train after: \" + str(type(x_train[0][0][0][0])))\n",
    "print(\"y_train before \" + str(type(y_train_raw)) + \" \" + str(y_train_raw.shape) + \" \" +  str(type(y_train_raw[0])))\n",
    "print(\"y_train after  \" + str(type(y_train)) + \" \" + str(y_train.shape) + str(type(y_train[0][0])))"
   ]
  },
  {
   "cell_type": "markdown",
   "metadata": {},
   "source": [
    "## Construct the Model"
   ]
  },
  {
   "cell_type": "code",
   "execution_count": 5,
   "metadata": {},
   "outputs": [
    {
     "name": "stdout",
     "output_type": "stream",
     "text": [
      "_________________________________________________________________\n",
      "Layer (type)                 Output Shape              Param #   \n",
      "=================================================================\n",
      "conv2d_1 (Conv2D)            (None, 45, 90, 32)        896       \n",
      "_________________________________________________________________\n",
      "activation_1 (Activation)    (None, 45, 90, 32)        0         \n",
      "_________________________________________________________________\n",
      "conv2d_2 (Conv2D)            (None, 43, 88, 32)        9248      \n",
      "_________________________________________________________________\n",
      "activation_2 (Activation)    (None, 43, 88, 32)        0         \n",
      "_________________________________________________________________\n",
      "max_pooling2d_1 (MaxPooling2 (None, 21, 44, 32)        0         \n",
      "_________________________________________________________________\n",
      "dropout_1 (Dropout)          (None, 21, 44, 32)        0         \n",
      "_________________________________________________________________\n",
      "conv2d_3 (Conv2D)            (None, 21, 44, 64)        18496     \n",
      "_________________________________________________________________\n",
      "activation_3 (Activation)    (None, 21, 44, 64)        0         \n",
      "_________________________________________________________________\n",
      "conv2d_4 (Conv2D)            (None, 19, 42, 64)        36928     \n",
      "_________________________________________________________________\n",
      "activation_4 (Activation)    (None, 19, 42, 64)        0         \n",
      "_________________________________________________________________\n",
      "max_pooling2d_2 (MaxPooling2 (None, 9, 21, 64)         0         \n",
      "_________________________________________________________________\n",
      "dropout_2 (Dropout)          (None, 9, 21, 64)         0         \n",
      "_________________________________________________________________\n",
      "flatten_1 (Flatten)          (None, 12096)             0         \n",
      "_________________________________________________________________\n",
      "dense_1 (Dense)              (None, 512)               6193664   \n",
      "_________________________________________________________________\n",
      "activation_5 (Activation)    (None, 512)               0         \n",
      "_________________________________________________________________\n",
      "dropout_3 (Dropout)          (None, 512)               0         \n",
      "_________________________________________________________________\n",
      "dense_2 (Dense)              (None, 4)                 2052      \n",
      "_________________________________________________________________\n",
      "activation_6 (Activation)    (None, 4)                 0         \n",
      "=================================================================\n",
      "Total params: 6,261,284\n",
      "Trainable params: 6,261,284\n",
      "Non-trainable params: 0\n",
      "_________________________________________________________________\n",
      "None\n"
     ]
    }
   ],
   "source": [
    "'''Trains a CNN on the dataset.\n",
    "'''\n",
    "\n",
    "from __future__ import print_function\n",
    "\n",
    "import keras\n",
    "from keras.datasets import cifar10\n",
    "from keras.preprocessing.image import ImageDataGenerator\n",
    "from keras.models import Sequential\n",
    "from keras.layers import Dense, Dropout, Activation, Flatten\n",
    "from keras.layers import Conv2D, MaxPooling2D\n",
    "import os\n",
    "\n",
    "\n",
    "model = Sequential()\n",
    "model.add(Conv2D(32, (3, 3), padding='same',\n",
    "                 input_shape=x_train.shape[1:]))\n",
    "model.add(Activation('relu'))\n",
    "model.add(Conv2D(32, (3, 3)))\n",
    "model.add(Activation('relu'))\n",
    "model.add(MaxPooling2D(pool_size=(2, 2)))\n",
    "model.add(Dropout(0.25))\n",
    "\n",
    "model.add(Conv2D(64, (3, 3), padding='same'))\n",
    "model.add(Activation('relu'))\n",
    "model.add(Conv2D(64, (3, 3)))\n",
    "model.add(Activation('relu'))\n",
    "model.add(MaxPooling2D(pool_size=(2, 2)))\n",
    "model.add(Dropout(0.25))\n",
    "\n",
    "model.add(Flatten())\n",
    "model.add(Dense(512))\n",
    "model.add(Activation('relu'))\n",
    "model.add(Dropout(0.5))\n",
    "model.add(Dense(num_classes))\n",
    "model.add(Activation('softmax'))\n",
    "\n",
    "print(model.summary())"
   ]
  },
  {
   "cell_type": "markdown",
   "metadata": {},
   "source": [
    "# Train the model"
   ]
  },
  {
   "cell_type": "code",
   "execution_count": 6,
   "metadata": {},
   "outputs": [
    {
     "name": "stdout",
     "output_type": "stream",
     "text": [
      "Train on 15136 samples, validate on 3785 samples\n",
      "Epoch 1/10\n",
      "15136/15136 [==============================] - 465s 31ms/step - loss: 0.6304 - acc: 0.7287 - val_loss: 0.4880 - val_acc: 0.8177\n",
      "Epoch 2/10\n",
      "15136/15136 [==============================] - 461s 30ms/step - loss: 0.4419 - acc: 0.8216 - val_loss: 0.3704 - val_acc: 0.8589\n",
      "Epoch 3/10\n",
      "15136/15136 [==============================] - 453s 30ms/step - loss: 0.3953 - acc: 0.8418 - val_loss: 0.3324 - val_acc: 0.8748\n",
      "Epoch 4/10\n",
      "15136/15136 [==============================] - 462s 31ms/step - loss: 0.3632 - acc: 0.8587 - val_loss: 0.3250 - val_acc: 0.8695\n",
      "Epoch 5/10\n",
      "15136/15136 [==============================] - 460s 30ms/step - loss: 0.3440 - acc: 0.8680 - val_loss: 0.3209 - val_acc: 0.8742\n",
      "Epoch 6/10\n",
      "15136/15136 [==============================] - 435s 29ms/step - loss: 0.3292 - acc: 0.8698 - val_loss: 0.2859 - val_acc: 0.8867\n",
      "Epoch 7/10\n",
      "15136/15136 [==============================] - 429s 28ms/step - loss: 0.3176 - acc: 0.8788 - val_loss: 0.2813 - val_acc: 0.8906\n",
      "Epoch 8/10\n",
      "15136/15136 [==============================] - 424s 28ms/step - loss: 0.3116 - acc: 0.8794 - val_loss: 0.2843 - val_acc: 0.8867\n",
      "Epoch 9/10\n",
      "15136/15136 [==============================] - 428s 28ms/step - loss: 0.3018 - acc: 0.8800 - val_loss: 0.2847 - val_acc: 0.8882\n",
      "Epoch 10/10\n",
      "15136/15136 [==============================] - 435s 29ms/step - loss: 0.2994 - acc: 0.8818 - val_loss: 0.2840 - val_acc: 0.8906\n",
      "Saved trained model at C:\\code_metrowest\\metrowest_scikit_tensorflow_cnn_car\\project\\model\\saved_models\\metrowest_keras_trained_model.h5 \n",
      "3785/3785 [==============================] - 37s 10ms/step\n",
      "Test loss: 0.28399822100937916\n",
      "Test accuracy: 0.8906208719098584\n"
     ]
    }
   ],
   "source": [
    "batch_size = 32\n",
    "epochs = 10\n",
    "data_augmentation = False\n",
    "\n",
    "save_dir = os.path.join(os.getcwd(), 'saved_models')\n",
    "model_name = 'metrowest_keras_trained_model.h5'\n",
    "\n",
    "\n",
    "# initiate RMSprop optimizer\n",
    "opt = keras.optimizers.rmsprop(lr=0.0001, decay=1e-6)\n",
    "\n",
    "# Let's train the model using RMSprop\n",
    "model.compile(loss='categorical_crossentropy',\n",
    "              optimizer=opt,\n",
    "              metrics=['accuracy'])\n",
    "\n",
    "assert data_augmentation is False, \"data augmentation is not coded\"\n",
    "\n",
    "history = model.fit(x_train, y_train,\n",
    "                    batch_size=batch_size,\n",
    "                    epochs=epochs,\n",
    "                    validation_data=(x_test, y_test),\n",
    "                    shuffle=True)\n",
    "\n",
    "\n",
    "# Save the trained model (structure and values)\n",
    "if not os.path.isdir(save_dir):\n",
    "    os.makedirs(save_dir)\n",
    "model_path = os.path.join(save_dir, model_name)\n",
    "model.save(model_path)\n",
    "print('Saved trained model at %s ' % model_path)\n",
    "\n",
    "# Score trained model.\n",
    "scores = model.evaluate(x_test, y_test, verbose=1)\n",
    "print('Test loss:', scores[0])\n",
    "print('Test accuracy:', scores[1])"
   ]
  },
  {
   "cell_type": "code",
   "execution_count": 7,
   "metadata": {},
   "outputs": [
    {
     "name": "stdout",
     "output_type": "stream",
     "text": [
      "dict_keys(['val_loss', 'val_acc', 'loss', 'acc'])\n"
     ]
    },
    {
     "data": {
      "text/plain": [
       "<Figure size 640x480 with 1 Axes>"
      ]
     },
     "metadata": {},
     "output_type": "display_data"
    },
    {
     "data": {
      "text/plain": [
       "<Figure size 640x480 with 1 Axes>"
      ]
     },
     "metadata": {},
     "output_type": "display_data"
    }
   ],
   "source": [
    "#import pyplot as plt\n",
    "import matplotlib.pyplot as plt\n",
    "\n",
    "# Plot loss as a function of iteration number\n",
    "# list all data in history\n",
    "print(history.history.keys())\n",
    "# summarize history for accuracy\n",
    "plt.plot(history.history['acc'])\n",
    "plt.plot(history.history['val_acc'])\n",
    "plt.title('model accuracy')\n",
    "plt.ylabel('accuracy')\n",
    "plt.xlabel('epoch')\n",
    "plt.legend(['train', 'test'], loc='upper left')\n",
    "plt.show()\n",
    "# summarize history for loss\n",
    "plt.plot(history.history['loss'])\n",
    "plt.plot(history.history['val_loss'])\n",
    "plt.title('model loss')\n",
    "plt.ylabel('loss')\n",
    "plt.xlabel('epoch')\n",
    "plt.legend(['train', 'test'], loc='upper left')\n",
    "plt.show()"
   ]
  },
  {
   "cell_type": "code",
   "execution_count": 8,
   "metadata": {},
   "outputs": [
    {
     "name": "stdout",
     "output_type": "stream",
     "text": [
      "left\n"
     ]
    }
   ],
   "source": [
    "# apply an image to the trained CNN\n",
    "from metrowestcar_display import Displayer\n",
    "displayer = Displayer()\n",
    "\n",
    "image = x_train_raw[5]\n",
    "displayer.display_image(image)\n",
    "image = image.astype('float32')\n",
    "image /= 255\n",
    "\n",
    "import numpy as np\n",
    "image = image[np.newaxis, :]\n",
    "steering_out = model.predict(image)[0]\n",
    "s_max = np.where(steering_out==steering_out.max())\n",
    "s_index = s_max[0][0]\n",
    "if s_index == 1:\n",
    "    print(\"left\")\n",
    "elif s_index == 2:\n",
    "    print(\"right\")\n",
    "elif s_index == 3:\n",
    "    print(\"center\")\n",
    "else:\n",
    "    assert False, \"something wrong in prediction %r\" % s_index\n"
   ]
  },
  {
   "cell_type": "code",
   "execution_count": null,
   "metadata": {},
   "outputs": [],
   "source": []
  }
 ],
 "metadata": {
  "kernelspec": {
   "display_name": "Python 3",
   "language": "python",
   "name": "python3"
  },
  "language_info": {
   "codemirror_mode": {
    "name": "ipython",
    "version": 3
   },
   "file_extension": ".py",
   "mimetype": "text/x-python",
   "name": "python",
   "nbconvert_exporter": "python",
   "pygments_lexer": "ipython3",
   "version": "3.6.8"
  }
 },
 "nbformat": 4,
 "nbformat_minor": 2
}
