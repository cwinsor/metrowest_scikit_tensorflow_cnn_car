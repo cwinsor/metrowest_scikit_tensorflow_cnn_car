{
 "cells": [
  {
   "cell_type": "code",
   "execution_count": 1,
   "metadata": {},
   "outputs": [],
   "source": [
    "# Preprocess the raw data\n",
    "\n",
    "# force libraries to re-load every time - helpful during development\n",
    "%load_ext autoreload\n",
    "%autoreload 2"
   ]
  },
  {
   "cell_type": "code",
   "execution_count": 2,
   "metadata": {},
   "outputs": [],
   "source": [
    "import sys\n",
    "sys.path.append('../lib')"
   ]
  },
  {
   "cell_type": "code",
   "execution_count": 3,
   "metadata": {},
   "outputs": [],
   "source": [
    "from metrowestcar_file_io import FileReader\n",
    "\n",
    "from os import getcwd\n",
    "from os.path import abspath\n",
    "from os.path import join\n",
    "from os.path import exists"
   ]
  },
  {
   "cell_type": "code",
   "execution_count": 4,
   "metadata": {},
   "outputs": [],
   "source": [
    "# creating a FileReader\n",
    "file_reader = FileReader(90, 180, 3)"
   ]
  },
  {
   "cell_type": "code",
   "execution_count": 5,
   "metadata": {},
   "outputs": [],
   "source": [
    "# reference:\n",
    "# git clone https://github.com/geneostrat/TrainingData\n",
    "# from within data_raw_geneograt_git\n",
    "\n",
    "dirpath = join(abspath(getcwd()), \"..\\data_raw_geneostrat_git\\pictures_test\")    \n",
    "\n",
    "\n",
    "# list of all steerings\n",
    "\n",
    "tracklist = [\n",
    "\n",
    "\"121\",\n",
    "    \"122\",\n",
    "    \"124\",\n",
    "    \"125\",\n",
    "    \"R18CCW\",\n",
    "    \"R18CCW_V\",\n",
    "    \"R20CCW\",\n",
    "    \"R20CCW_V\",\n",
    "    \"R21CCW\",\n",
    "    \"R21CCW_V\",\n",
    "    \"R25CCW\",\n",
    "    \"R25CCW_V\",\n",
    "    \n",
    "    \"R18CW\",\n",
    "    \"R18CW_V\",\n",
    "    \"R20CW\",\n",
    "    \"R20CW_V\",\n",
    "    \"R21CW\",\n",
    "    \"R21CW_V\",\n",
    "    \"R25CW\",\n",
    "    \"R25CW_V\",\n",
    "  \n",
    "    \"STR1\",\n",
    "    \"STR1_V\",\n",
    "    \"STR2\",\n",
    "    \"STR2_V\",\n",
    "]\n",
    "\n",
    "\n",
    "\n",
    "#tracklist = [\n",
    "#  \n",
    "#    \"121\",\n",
    "#    \"122\",\n",
    "#    \"124\",\n",
    "#    \"125\",\n",
    "# \n",
    "#]\n",
    "\n",
    "\n",
    "\n",
    "    "
   ]
  },
  {
   "cell_type": "code",
   "execution_count": 6,
   "metadata": {
    "scrolled": true
   },
   "outputs": [
    {
     "ename": "FileNotFoundError",
     "evalue": "[WinError 3] The system cannot find the path specified: 'C:\\\\Users\\\\Chris\\\\Documents\\\\scikit_tensorflow_metrowest_cnn_car\\\\metrowest_scikit_tensorflow_cnn_car\\\\project\\\\lib\\\\..\\\\data_raw_geneostrat\\\\pictures_test\\\\121\\\\steer\\\\'",
     "output_type": "error",
     "traceback": [
      "\u001b[1;31m---------------------------------------------------------------------------\u001b[0m",
      "\u001b[1;31mFileNotFoundError\u001b[0m                         Traceback (most recent call last)",
      "\u001b[1;32m<ipython-input-6-b6a950a7236c>\u001b[0m in \u001b[0;36m<module>\u001b[1;34m\u001b[0m\n\u001b[0;32m      4\u001b[0m \u001b[1;33m\u001b[0m\u001b[0m\n\u001b[0;32m      5\u001b[0m \u001b[1;32mfor\u001b[0m \u001b[0mtrack\u001b[0m \u001b[1;32min\u001b[0m \u001b[0mtracklist\u001b[0m\u001b[1;33m:\u001b[0m\u001b[1;33m\u001b[0m\u001b[0m\n\u001b[1;32m----> 6\u001b[1;33m     \u001b[0mdata\u001b[0m \u001b[1;33m=\u001b[0m \u001b[0mnp\u001b[0m\u001b[1;33m.\u001b[0m\u001b[0mappend\u001b[0m\u001b[1;33m(\u001b[0m\u001b[0mdata\u001b[0m\u001b[1;33m,\u001b[0m \u001b[0mfile_reader\u001b[0m\u001b[1;33m.\u001b[0m\u001b[0mread_steerings_from_directory\u001b[0m\u001b[1;33m(\u001b[0m\u001b[0mdirpath\u001b[0m\u001b[1;33m,\u001b[0m \u001b[0mtrack\u001b[0m\u001b[1;33m)\u001b[0m\u001b[1;33m)\u001b[0m\u001b[1;33m\u001b[0m\u001b[0m\n\u001b[0m\u001b[0;32m      7\u001b[0m \u001b[1;33m\u001b[0m\u001b[0m\n\u001b[0;32m      8\u001b[0m \u001b[0mprint\u001b[0m\u001b[1;33m(\u001b[0m \u001b[0mstr\u001b[0m\u001b[1;33m(\u001b[0m\u001b[0mdata\u001b[0m\u001b[1;33m.\u001b[0m\u001b[0mshape\u001b[0m\u001b[1;33m[\u001b[0m\u001b[1;36m0\u001b[0m\u001b[1;33m]\u001b[0m\u001b[1;33m)\u001b[0m \u001b[1;33m+\u001b[0m \u001b[1;34m\" mean=\"\u001b[0m \u001b[1;33m+\u001b[0m \u001b[0mstr\u001b[0m\u001b[1;33m(\u001b[0m\u001b[0mnp\u001b[0m\u001b[1;33m.\u001b[0m\u001b[0mmean\u001b[0m\u001b[1;33m(\u001b[0m\u001b[0mdata\u001b[0m\u001b[1;33m)\u001b[0m\u001b[1;33m)\u001b[0m \u001b[1;33m+\u001b[0m \u001b[1;34m\" std_dev=\"\u001b[0m \u001b[1;33m+\u001b[0m \u001b[0mstr\u001b[0m\u001b[1;33m(\u001b[0m\u001b[0mnp\u001b[0m\u001b[1;33m.\u001b[0m\u001b[0mstd\u001b[0m\u001b[1;33m(\u001b[0m\u001b[0mdata\u001b[0m\u001b[1;33m)\u001b[0m\u001b[1;33m)\u001b[0m\u001b[1;33m)\u001b[0m\u001b[1;33m\u001b[0m\u001b[0m\n",
      "\u001b[1;32m~\\Documents\\scikit_tensorflow_metrowest_cnn_car\\metrowest_scikit_tensorflow_cnn_car\\project\\lib\\metrowestcar_file_io.py\u001b[0m in \u001b[0;36mread_steerings_from_directory\u001b[1;34m(self, dirpath, trackname)\u001b[0m\n\u001b[0;32m    111\u001b[0m \u001b[1;33m\u001b[0m\u001b[0m\n\u001b[0;32m    112\u001b[0m     \u001b[1;32mdef\u001b[0m \u001b[0mread_steerings_from_directory\u001b[0m\u001b[1;33m(\u001b[0m\u001b[0mself\u001b[0m\u001b[1;33m,\u001b[0m \u001b[0mdirpath\u001b[0m\u001b[1;33m,\u001b[0m \u001b[0mtrackname\u001b[0m\u001b[1;33m)\u001b[0m\u001b[1;33m:\u001b[0m\u001b[1;33m\u001b[0m\u001b[0m\n\u001b[1;32m--> 113\u001b[1;33m         \u001b[0msamplenumbers\u001b[0m \u001b[1;33m=\u001b[0m \u001b[0mself\u001b[0m\u001b[1;33m.\u001b[0m\u001b[0m_get_sample_numbers\u001b[0m\u001b[1;33m(\u001b[0m\u001b[0mdirpath\u001b[0m\u001b[1;33m,\u001b[0m \u001b[0mtrackname\u001b[0m\u001b[1;33m)\u001b[0m\u001b[1;33m\u001b[0m\u001b[0m\n\u001b[0m\u001b[0;32m    114\u001b[0m         \u001b[0msteerings\u001b[0m \u001b[1;33m=\u001b[0m \u001b[0mself\u001b[0m\u001b[1;33m.\u001b[0m\u001b[0mread_steerings_from_directory_given_samplenumbers\u001b[0m\u001b[1;33m(\u001b[0m\u001b[0mdirpath\u001b[0m\u001b[1;33m,\u001b[0m \u001b[0mtrackname\u001b[0m\u001b[1;33m,\u001b[0m \u001b[0msamplenumbers\u001b[0m\u001b[1;33m)\u001b[0m\u001b[1;33m\u001b[0m\u001b[0m\n\u001b[0;32m    115\u001b[0m         \u001b[1;32mreturn\u001b[0m \u001b[0msteerings\u001b[0m\u001b[1;33m\u001b[0m\u001b[0m\n",
      "\u001b[1;32m~\\Documents\\scikit_tensorflow_metrowest_cnn_car\\metrowest_scikit_tensorflow_cnn_car\\project\\lib\\metrowestcar_file_io.py\u001b[0m in \u001b[0;36m_get_sample_numbers\u001b[1;34m(self, dirpath, trackname)\u001b[0m\n\u001b[0;32m     64\u001b[0m \u001b[1;33m\u001b[0m\u001b[0m\n\u001b[0;32m     65\u001b[0m         \u001b[1;31m# get all the file names\u001b[0m\u001b[1;33m\u001b[0m\u001b[1;33m\u001b[0m\u001b[0m\n\u001b[1;32m---> 66\u001b[1;33m         \u001b[0mnames1\u001b[0m \u001b[1;33m=\u001b[0m \u001b[0mos\u001b[0m\u001b[1;33m.\u001b[0m\u001b[0mlistdir\u001b[0m\u001b[1;33m(\u001b[0m\u001b[0mfullpath\u001b[0m\u001b[1;33m)\u001b[0m\u001b[1;33m\u001b[0m\u001b[0m\n\u001b[0m\u001b[0;32m     67\u001b[0m \u001b[1;33m\u001b[0m\u001b[0m\n\u001b[0;32m     68\u001b[0m         \u001b[1;31m# crop everything after \".\" then take whatever follows \"_\"\u001b[0m\u001b[1;33m\u001b[0m\u001b[1;33m\u001b[0m\u001b[0m\n",
      "\u001b[1;31mFileNotFoundError\u001b[0m: [WinError 3] The system cannot find the path specified: 'C:\\\\Users\\\\Chris\\\\Documents\\\\scikit_tensorflow_metrowest_cnn_car\\\\metrowest_scikit_tensorflow_cnn_car\\\\project\\\\lib\\\\..\\\\data_raw_geneostrat\\\\pictures_test\\\\121\\\\steer\\\\'"
     ]
    }
   ],
   "source": [
    "import numpy as np\n",
    "\n",
    "data = np.array([])\n",
    "\n",
    "for track in tracklist:\n",
    "    data = np.append(data, file_reader.read_steerings_from_directory(dirpath, track))\n",
    "    \n",
    "print( str(data.shape[0]) + \" mean=\" + str(np.mean(data)) + \" std_dev=\" + str(np.std(data)))\n",
    "    "
   ]
  },
  {
   "cell_type": "code",
   "execution_count": 105,
   "metadata": {},
   "outputs": [
    {
     "name": "stdout",
     "output_type": "stream",
     "text": [
      "Track 121 #images=1230 mean=411.66504065\n",
      "Track 122 #images=1207 mean=373.322286661\n",
      "Track 124 #images=1486 mean=405.146702557\n",
      "Track 125 #images=974 mean=378.830595483\n",
      "Track R18CCW #images=369 mean=338.547425474\n",
      "Track R18CCW_V #images=644 mean=337.448757764\n",
      "Track R20CCW #images=933 mean=347.663451233\n",
      "Track R20CCW_V #images=909 mean=345.708470847\n",
      "Track R21CCW #images=816 mean=349.512254902\n",
      "Track R21CCW_V #images=840 mean=354.095238095\n",
      "Track R25CCW #images=815 mean=359.295705521\n",
      "Track R25CCW_V #images=1022 mean=359.490215264\n",
      "Track R18CW #images=381 mean=443.165354331\n",
      "Track R18CW_V #images=475 mean=440.315789474\n",
      "Track R20CW #images=725 mean=433.955862069\n",
      "Track R20CW_V #images=734 mean=434.09400545\n",
      "Track R21CW #images=641 mean=425.16224649\n",
      "Track R21CW_V #images=691 mean=427.600578871\n",
      "Track R25CW #images=684 mean=422.578947368\n",
      "Track R25CW_V #images=919 mean=418.68226333\n",
      "Track STR1 #images=657 mean=399.191780822\n",
      "Track STR1_V #images=585 mean=399.153846154\n",
      "Track STR2 #images=590 mean=398.920338983\n",
      "Track STR2_V #images=595 mean=399.154621849\n",
      "-------------\n",
      "528\n",
      "273\n",
      "18922\n",
      "left  7644\n",
      "6205\n",
      "right 5073\n",
      "18922\n",
      "done\n",
      "0.40434064637886297\n"
     ]
    }
   ],
   "source": [
    "\n",
    "\n",
    "# investigate each track a little bit\n",
    "# reference  http://benalexkeen.com/comparative-statistics-in-python-using-scipy/\n",
    "\n",
    "import numpy as np\n",
    "from scipy import stats\n",
    "\n",
    "import matplotlib\n",
    "import matplotlib.pyplot as plt\n",
    "%matplotlib inline\n",
    "matplotlib.style.use('ggplot')\n",
    "\n",
    "import globals\n",
    "\n",
    "absolute_min = 800\n",
    "absolute_max = 0\n",
    "total_images = 0\n",
    "total_left = 0\n",
    "total_straight = 0\n",
    "total_right = 0\n",
    "\n",
    "for track in tracklist:\n",
    "    data = file_reader.read_steerings_from_directory(dirpath, track)\n",
    "    print(\"Track \" + track + \" #images=\" + str(data.shape[0]) + \" mean=\" + str(np.mean(data)))\n",
    "    \n",
    "    #print(\"min =  \" + str(np.min(data)))\n",
    "    #print(\"max =  \" + str(np.max(data)))\n",
    "    # print(\"var n = \" + str(np.var(data)))\n",
    "    #print(\"std  = \" + str(np.std(data)))\n",
    "    if np.min(data) < absolute_min:\n",
    "        absolute_min = np.min(data)\n",
    "    if np.max(data) > absolute_max:\n",
    "        absolute_max = np.max(data)\n",
    "    total_images += data.shape[0]\n",
    "    \n",
    "    count_l = len([i for i in data if i < globals.THRESHOLD_LEFT])\n",
    "    total_left += count_l\n",
    "    count_r = len([i for i in data if globals.THRESHOLD_RIGHT < i])\n",
    "    total_right += count_r\n",
    "    count_s = len([i for i in data if globals.THRESHOLD_LEFT <= i <= globals.THRESHOLD_RIGHT])\n",
    "    total_straight += count_s\n",
    "    \n",
    "    #plt.hist(data, bins=40, range=(0,800), edgecolor='black')\n",
    "    #plt.show()\n",
    "    \n",
    "    #text = input(\"continue(y/n)\")\n",
    "    #if (text != \"y\"):\n",
    "    #    break\n",
    "\n",
    "print(\"-------------\")\n",
    "print(absolute_max)\n",
    "print(absolute_min)\n",
    "print(total_images)\n",
    "print(\"left  \" + str(total_left))\n",
    "print(total_straight)\n",
    "print(\"right \" + str(total_right))\n",
    "print(total_left + total_straight + total_right)\n",
    "print(\"done\")\n",
    "print((total_left - total_right) / ((total_left + total_right) / 2))\n",
    "\n",
    "\n"
   ]
  },
  {
   "cell_type": "code",
   "execution_count": 89,
   "metadata": {},
   "outputs": [
    {
     "name": "stdout",
     "output_type": "stream",
     "text": [
      "0.42071992976295\n",
      "-0.1893429901707191\n",
      "0.19298245614035087\n",
      "-0.047335747542679774\n"
     ]
    }
   ],
   "source": [
    "print( (6893-4497) / ((6893+4497) / 2))\n",
    "\n",
    "print((5250 - 6348) / ((5250 + 6348) / 2))\n",
    "print(1100 / 5700)\n",
    "x = (5250 - 6348) / (5250 + 6348)\n",
    "print(x/2)"
   ]
  },
  {
   "cell_type": "code",
   "execution_count": 44,
   "metadata": {},
   "outputs": [
    {
     "name": "stdout",
     "output_type": "stream",
     "text": [
      "128\n",
      "127\n"
     ]
    }
   ],
   "source": [
    "print(528-400)\n",
    "print(400-273)"
   ]
  },
  {
   "cell_type": "code",
   "execution_count": 50,
   "metadata": {},
   "outputs": [
    {
     "name": "stdout",
     "output_type": "stream",
     "text": [
      "19200\n"
     ]
    }
   ],
   "source": [
    "print(800*24)"
   ]
  },
  {
   "cell_type": "code",
   "execution_count": null,
   "metadata": {
    "collapsed": true
   },
   "outputs": [],
   "source": []
  }
 ],
 "metadata": {
  "kernelspec": {
   "display_name": "Python 3",
   "language": "python",
   "name": "python3"
  },
  "language_info": {
   "codemirror_mode": {
    "name": "ipython",
    "version": 3
   },
   "file_extension": ".py",
   "mimetype": "text/x-python",
   "name": "python",
   "nbconvert_exporter": "python",
   "pygments_lexer": "ipython3",
   "version": "3.6.3"
  }
 },
 "nbformat": 4,
 "nbformat_minor": 2
}
