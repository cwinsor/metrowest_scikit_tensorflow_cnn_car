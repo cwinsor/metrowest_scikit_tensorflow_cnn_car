{
 "cells": [
  {
   "cell_type": "markdown",
   "metadata": {},
   "source": [
    "# Constructing Dataset 1: observed steering values\n",
    "```\n",
    "Construct the dataset 1 from raw images in the flatfiles.\n",
    "This dataset uses steering values observed while the car is being driven.\n",
    "\n",
    "This involves\n",
    "reading raw data from the flatfiles\n",
    "shuffling\n",
    "segmenting into train/test\n",
    "saving to pickle file\n",
    "```"
   ]
  },
  {
   "cell_type": "code",
   "execution_count": 1,
   "metadata": {},
   "outputs": [],
   "source": [
    "# force libraries to re-load every time - helpful during development\n",
    "%load_ext autoreload\n",
    "%autoreload 2"
   ]
  },
  {
   "cell_type": "code",
   "execution_count": 2,
   "metadata": {},
   "outputs": [],
   "source": [
    "import sys\n",
    "sys.path.append('../lib')"
   ]
  },
  {
   "cell_type": "code",
   "execution_count": 26,
   "metadata": {},
   "outputs": [],
   "source": [
    "from os import getcwd\n",
    "from os.path import abspath\n",
    "from os.path import join\n",
    "\n",
    "dirpath = join(abspath(getcwd()), \"..\\data_raw_geneostrat_git\\TrainingData\")\n",
    "\n",
    "tracklist = [\n",
    "    \"121\",\n",
    "    \"122\",\n",
    "    \"124\",\n",
    "    \"125\",\n",
    "\n",
    "    \"R18CCW\",\n",
    "    \"R18CCW_V\",\n",
    "    \"R20CCW\",\n",
    "    \"R20CCW_V\",\n",
    "    \"R21CCW\",\n",
    "    \"R21CCW_V\",\n",
    "    \"R25CCW\",\n",
    "    \"R25CCW_V\",\n",
    "    \n",
    "    \"R18CW\",\n",
    "    \"R18CW_V\",\n",
    "    \"R20CW\",\n",
    "    \"R20CW_V\",\n",
    "    \"R21CW\",\n",
    "    \"R21CW_V\",\n",
    "    \"R25CW\",\n",
    "    \"R25CW_V\",\n",
    "  \n",
    "    \"STR1\",\n",
    "    \"STR1_V\",\n",
    "    \"STR2\",\n",
    "    \"STR2_V\",\n",
    "]\n",
    "\n",
    "\n",
    "tracklist = [\n",
    "\n",
    "    \"R21CCW\",\n",
    "    \"R25CCW\",\n",
    "\n",
    "    \"R21CW\",\n",
    "    \"R25CW\",\n",
    "]\n",
    "\n",
    "\n"
   ]
  },
  {
   "cell_type": "code",
   "execution_count": 27,
   "metadata": {},
   "outputs": [
    {
     "name": "stdout",
     "output_type": "stream",
     "text": [
      "loading images from C:\\Users\\Chris\\Documents\\scikit_tensorflow_metrowest_cnn_car\\metrowest_scikit_tensorflow_cnn_car\\project\\lib\\..\\data_raw_geneostrat_git\\TrainingData\\R21CCW\n",
      "loading images from C:\\Users\\Chris\\Documents\\scikit_tensorflow_metrowest_cnn_car\\metrowest_scikit_tensorflow_cnn_car\\project\\lib\\..\\data_raw_geneostrat_git\\TrainingData\\R25CCW\n",
      "loading images from C:\\Users\\Chris\\Documents\\scikit_tensorflow_metrowest_cnn_car\\metrowest_scikit_tensorflow_cnn_car\\project\\lib\\..\\data_raw_geneostrat_git\\TrainingData\\R21CW\n",
      "loading images from C:\\Users\\Chris\\Documents\\scikit_tensorflow_metrowest_cnn_car\\metrowest_scikit_tensorflow_cnn_car\\project\\lib\\..\\data_raw_geneostrat_git\\TrainingData\\R25CW\n",
      "loading steerings from C:\\Users\\Chris\\Documents\\scikit_tensorflow_metrowest_cnn_car\\metrowest_scikit_tensorflow_cnn_car\\project\\lib\\..\\data_raw_geneostrat_git\\TrainingData\\R21CCW\n",
      "loading steerings from C:\\Users\\Chris\\Documents\\scikit_tensorflow_metrowest_cnn_car\\metrowest_scikit_tensorflow_cnn_car\\project\\lib\\..\\data_raw_geneostrat_git\\TrainingData\\R25CCW\n",
      "loading steerings from C:\\Users\\Chris\\Documents\\scikit_tensorflow_metrowest_cnn_car\\metrowest_scikit_tensorflow_cnn_car\\project\\lib\\..\\data_raw_geneostrat_git\\TrainingData\\R21CW\n",
      "loading steerings from C:\\Users\\Chris\\Documents\\scikit_tensorflow_metrowest_cnn_car\\metrowest_scikit_tensorflow_cnn_car\\project\\lib\\..\\data_raw_geneostrat_git\\TrainingData\\R25CW\n",
      "image array:\n",
      "<class 'numpy.ndarray'>\n",
      "(2956, 90, 180, 3)\n",
      "<class 'numpy.uint8'>\n",
      "\n",
      "steering array (pre_threshold):\n",
      "<class 'numpy.ndarray'>\n",
      "(2956,)\n",
      "<class 'numpy.uint32'>\n",
      "\n",
      "steering array (thresholded):\n",
      "<class 'numpy.ndarray'>\n",
      "(2956,)\n",
      "<class 'numpy.uint32'>\n",
      "#left =     1542\n",
      "#straight = 430\n",
      "#right =    984\n"
     ]
    }
   ],
   "source": [
    "from metrowestcar_dataset_architect import DatasetArchitect\n",
    "\n",
    "import my_globals as myg\n",
    "da = DatasetArchitect(myg.IMAGE_H, myg.IMAGE_W, myg.IMAGE_D)\n",
    "da.read_raw_data_from_files(dirpath, tracklist)"
   ]
  },
  {
   "cell_type": "code",
   "execution_count": 28,
   "metadata": {},
   "outputs": [
    {
     "name": "stdout",
     "output_type": "stream",
     "text": [
      "image array:\n",
      "<class 'numpy.ndarray'>\n",
      "(2956, 90, 180, 3)\n",
      "<class 'numpy.uint8'>\n",
      "steering array:\n",
      "<class 'numpy.ndarray'>\n",
      "(2956,)\n",
      "<class 'numpy.uint32'>\n"
     ]
    }
   ],
   "source": [
    "da.shuffle()"
   ]
  },
  {
   "cell_type": "code",
   "execution_count": 29,
   "metadata": {},
   "outputs": [
    {
     "name": "stdout",
     "output_type": "stream",
     "text": [
      "whole =  2956\n",
      "cut   =  2364   592\n"
     ]
    }
   ],
   "source": [
    "da.split_train_test()"
   ]
  },
  {
   "cell_type": "code",
   "execution_count": 30,
   "metadata": {},
   "outputs": [
    {
     "name": "stdout",
     "output_type": "stream",
     "text": [
      "<class 'dict'>\n",
      "dict_keys(['target_names', 'images_train', 'images_test', 'steering_train', 'steering_test', 'DESCR'])\n",
      "(training) image array is    (2364, 90, 180, 3) of <class 'numpy.uint8'>\n",
      "(training) steering array is (2364,) of <class 'numpy.uint32'>\n",
      "(test) image array is    (592, 90, 180, 3) of <class 'numpy.uint8'>\n",
      "(test) steering array is (592,) of <class 'numpy.uint32'>\n"
     ]
    }
   ],
   "source": [
    "da.organize_as_dictionary()"
   ]
  },
  {
   "cell_type": "code",
   "execution_count": 31,
   "metadata": {},
   "outputs": [],
   "source": [
    "da.save_to_pickle_file(\"../dataset/dataset_01_full_size_images.pickle\")"
   ]
  },
  {
   "cell_type": "code",
   "execution_count": 32,
   "metadata": {},
   "outputs": [
    {
     "name": "stdout",
     "output_type": "stream",
     "text": [
      "<class 'dict'>\n",
      "dict_keys(['target_names', 'images_train', 'images_test', 'steering_train', 'steering_test', 'DESCR'])\n",
      "(training) image array is    (2364, 90, 180, 3) of <class 'numpy.uint8'>\n",
      "(training) steering array is (2364,) of <class 'numpy.uint32'>\n",
      "(test) image array is    (592, 90, 180, 3) of <class 'numpy.uint8'>\n",
      "(test) steering array is (592,) of <class 'numpy.uint32'>\n"
     ]
    }
   ],
   "source": [
    "foo = da.restore_from_pickle_file(\"../dataset/dataset_01_full_size_images.pickle\")"
   ]
  },
  {
   "cell_type": "code",
   "execution_count": null,
   "metadata": {
    "collapsed": true
   },
   "outputs": [],
   "source": []
  }
 ],
 "metadata": {
  "kernelspec": {
   "display_name": "Python 3",
   "language": "python",
   "name": "python3"
  },
  "language_info": {
   "codemirror_mode": {
    "name": "ipython",
    "version": 3
   },
   "file_extension": ".py",
   "mimetype": "text/x-python",
   "name": "python",
   "nbconvert_exporter": "python",
   "pygments_lexer": "ipython3",
   "version": "3.6.3"
  }
 },
 "nbformat": 4,
 "nbformat_minor": 2
}
