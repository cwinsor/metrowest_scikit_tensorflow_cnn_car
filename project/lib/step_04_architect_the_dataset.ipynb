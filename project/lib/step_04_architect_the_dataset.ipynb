{
 "cells": [
  {
   "cell_type": "markdown",
   "metadata": {},
   "source": [
    "# Constructing Dataset 1: observed steering values\n",
    "```\n",
    "Construct the dataset 1 from raw images in the flatfiles.\n",
    "This dataset uses steering values observed while the car is being driven.\n",
    "\n",
    "This involves\n",
    "reading raw data from the flatfiles\n",
    "shuffling\n",
    "segmenting into train/test\n",
    "saving to pickle file\n",
    "```"
   ]
  },
  {
   "cell_type": "code",
   "execution_count": 1,
   "metadata": {},
   "outputs": [],
   "source": [
    "# force libraries to re-load every time - helpful during development\n",
    "%load_ext autoreload\n",
    "%autoreload 2"
   ]
  },
  {
   "cell_type": "code",
   "execution_count": 2,
   "metadata": {},
   "outputs": [],
   "source": [
    "import sys\n",
    "sys.path.append('../lib')"
   ]
  },
  {
   "cell_type": "code",
   "execution_count": 35,
   "metadata": {},
   "outputs": [],
   "source": [
    "from os import getcwd\n",
    "from os.path import abspath\n",
    "from os.path import join\n",
    "\n",
    "dirpath = join(abspath(getcwd()), \"..\\data_raw_geneostrat_git\\TrainingData\")\n",
    "\n",
    "tracklist = [\n",
    "    \"121\",\n",
    "    \"122\",\n",
    "    \"124\",\n",
    "    \"125\",\n",
    "\n",
    "    \"R18CCW\",\n",
    "    \"R18CCW_V\",\n",
    "    \"R20CCW\",\n",
    "    \"R20CCW_V\",\n",
    "    \"R21CCW\",\n",
    "    \"R21CCW_V\",\n",
    "    \"R25CCW\",\n",
    "    \"R25CCW_V\",\n",
    "    \n",
    "    \"R18CW\",\n",
    "    \"R18CW_V\",\n",
    "    \"R20CW\",\n",
    "    \"R20CW_V\",\n",
    "    \"R21CW\",\n",
    "    \"R21CW_V\",\n",
    "    \"R25CW\",\n",
    "    \"R25CW_V\",\n",
    "  \n",
    "    \"STR1\",\n",
    "    \"STR1_V\",\n",
    "    \"STR2\",\n",
    "    \"STR2_V\",\n",
    "]\n",
    "\n",
    "\n",
    "#tracklist = [\n",
    "#\n",
    "#    \"R21CCW\",\n",
    "#    \"R25CCW\",\n",
    "#\n",
    "#    \"R21CW\",\n",
    "#    \"R25CW\",\n",
    "#]\n",
    "\n",
    "\n"
   ]
  },
  {
   "cell_type": "code",
   "execution_count": 36,
   "metadata": {},
   "outputs": [
    {
     "name": "stdout",
     "output_type": "stream",
     "text": [
      "loading images from C:\\Users\\Chris\\Documents\\scikit_tensorflow_metrowest_cnn_car\\metrowest_scikit_tensorflow_cnn_car\\project\\lib\\..\\data_raw_geneostrat_git\\TrainingData\\121\n",
      "loading images from C:\\Users\\Chris\\Documents\\scikit_tensorflow_metrowest_cnn_car\\metrowest_scikit_tensorflow_cnn_car\\project\\lib\\..\\data_raw_geneostrat_git\\TrainingData\\122\n",
      "loading images from C:\\Users\\Chris\\Documents\\scikit_tensorflow_metrowest_cnn_car\\metrowest_scikit_tensorflow_cnn_car\\project\\lib\\..\\data_raw_geneostrat_git\\TrainingData\\124\n",
      "loading images from C:\\Users\\Chris\\Documents\\scikit_tensorflow_metrowest_cnn_car\\metrowest_scikit_tensorflow_cnn_car\\project\\lib\\..\\data_raw_geneostrat_git\\TrainingData\\125\n",
      "loading images from C:\\Users\\Chris\\Documents\\scikit_tensorflow_metrowest_cnn_car\\metrowest_scikit_tensorflow_cnn_car\\project\\lib\\..\\data_raw_geneostrat_git\\TrainingData\\R18CCW\n",
      "loading images from C:\\Users\\Chris\\Documents\\scikit_tensorflow_metrowest_cnn_car\\metrowest_scikit_tensorflow_cnn_car\\project\\lib\\..\\data_raw_geneostrat_git\\TrainingData\\R18CCW_V\n",
      "loading images from C:\\Users\\Chris\\Documents\\scikit_tensorflow_metrowest_cnn_car\\metrowest_scikit_tensorflow_cnn_car\\project\\lib\\..\\data_raw_geneostrat_git\\TrainingData\\R20CCW\n",
      "loading images from C:\\Users\\Chris\\Documents\\scikit_tensorflow_metrowest_cnn_car\\metrowest_scikit_tensorflow_cnn_car\\project\\lib\\..\\data_raw_geneostrat_git\\TrainingData\\R20CCW_V\n",
      "loading images from C:\\Users\\Chris\\Documents\\scikit_tensorflow_metrowest_cnn_car\\metrowest_scikit_tensorflow_cnn_car\\project\\lib\\..\\data_raw_geneostrat_git\\TrainingData\\R21CCW\n",
      "loading images from C:\\Users\\Chris\\Documents\\scikit_tensorflow_metrowest_cnn_car\\metrowest_scikit_tensorflow_cnn_car\\project\\lib\\..\\data_raw_geneostrat_git\\TrainingData\\R21CCW_V\n",
      "loading images from C:\\Users\\Chris\\Documents\\scikit_tensorflow_metrowest_cnn_car\\metrowest_scikit_tensorflow_cnn_car\\project\\lib\\..\\data_raw_geneostrat_git\\TrainingData\\R25CCW\n",
      "loading images from C:\\Users\\Chris\\Documents\\scikit_tensorflow_metrowest_cnn_car\\metrowest_scikit_tensorflow_cnn_car\\project\\lib\\..\\data_raw_geneostrat_git\\TrainingData\\R25CCW_V\n",
      "loading images from C:\\Users\\Chris\\Documents\\scikit_tensorflow_metrowest_cnn_car\\metrowest_scikit_tensorflow_cnn_car\\project\\lib\\..\\data_raw_geneostrat_git\\TrainingData\\R18CW\n",
      "loading images from C:\\Users\\Chris\\Documents\\scikit_tensorflow_metrowest_cnn_car\\metrowest_scikit_tensorflow_cnn_car\\project\\lib\\..\\data_raw_geneostrat_git\\TrainingData\\R18CW_V\n",
      "loading images from C:\\Users\\Chris\\Documents\\scikit_tensorflow_metrowest_cnn_car\\metrowest_scikit_tensorflow_cnn_car\\project\\lib\\..\\data_raw_geneostrat_git\\TrainingData\\R20CW\n",
      "loading images from C:\\Users\\Chris\\Documents\\scikit_tensorflow_metrowest_cnn_car\\metrowest_scikit_tensorflow_cnn_car\\project\\lib\\..\\data_raw_geneostrat_git\\TrainingData\\R20CW_V\n",
      "loading images from C:\\Users\\Chris\\Documents\\scikit_tensorflow_metrowest_cnn_car\\metrowest_scikit_tensorflow_cnn_car\\project\\lib\\..\\data_raw_geneostrat_git\\TrainingData\\R21CW\n",
      "loading images from C:\\Users\\Chris\\Documents\\scikit_tensorflow_metrowest_cnn_car\\metrowest_scikit_tensorflow_cnn_car\\project\\lib\\..\\data_raw_geneostrat_git\\TrainingData\\R21CW_V\n",
      "loading images from C:\\Users\\Chris\\Documents\\scikit_tensorflow_metrowest_cnn_car\\metrowest_scikit_tensorflow_cnn_car\\project\\lib\\..\\data_raw_geneostrat_git\\TrainingData\\R25CW\n",
      "loading images from C:\\Users\\Chris\\Documents\\scikit_tensorflow_metrowest_cnn_car\\metrowest_scikit_tensorflow_cnn_car\\project\\lib\\..\\data_raw_geneostrat_git\\TrainingData\\R25CW_V\n",
      "loading images from C:\\Users\\Chris\\Documents\\scikit_tensorflow_metrowest_cnn_car\\metrowest_scikit_tensorflow_cnn_car\\project\\lib\\..\\data_raw_geneostrat_git\\TrainingData\\STR1\n",
      "loading images from C:\\Users\\Chris\\Documents\\scikit_tensorflow_metrowest_cnn_car\\metrowest_scikit_tensorflow_cnn_car\\project\\lib\\..\\data_raw_geneostrat_git\\TrainingData\\STR1_V\n",
      "loading images from C:\\Users\\Chris\\Documents\\scikit_tensorflow_metrowest_cnn_car\\metrowest_scikit_tensorflow_cnn_car\\project\\lib\\..\\data_raw_geneostrat_git\\TrainingData\\STR2\n",
      "loading images from C:\\Users\\Chris\\Documents\\scikit_tensorflow_metrowest_cnn_car\\metrowest_scikit_tensorflow_cnn_car\\project\\lib\\..\\data_raw_geneostrat_git\\TrainingData\\STR2_V\n",
      "loading steerings from C:\\Users\\Chris\\Documents\\scikit_tensorflow_metrowest_cnn_car\\metrowest_scikit_tensorflow_cnn_car\\project\\lib\\..\\data_raw_geneostrat_git\\TrainingData\\121\n",
      "loading steerings from C:\\Users\\Chris\\Documents\\scikit_tensorflow_metrowest_cnn_car\\metrowest_scikit_tensorflow_cnn_car\\project\\lib\\..\\data_raw_geneostrat_git\\TrainingData\\122\n",
      "loading steerings from C:\\Users\\Chris\\Documents\\scikit_tensorflow_metrowest_cnn_car\\metrowest_scikit_tensorflow_cnn_car\\project\\lib\\..\\data_raw_geneostrat_git\\TrainingData\\124\n",
      "loading steerings from C:\\Users\\Chris\\Documents\\scikit_tensorflow_metrowest_cnn_car\\metrowest_scikit_tensorflow_cnn_car\\project\\lib\\..\\data_raw_geneostrat_git\\TrainingData\\125\n",
      "loading steerings from C:\\Users\\Chris\\Documents\\scikit_tensorflow_metrowest_cnn_car\\metrowest_scikit_tensorflow_cnn_car\\project\\lib\\..\\data_raw_geneostrat_git\\TrainingData\\R18CCW\n",
      "loading steerings from C:\\Users\\Chris\\Documents\\scikit_tensorflow_metrowest_cnn_car\\metrowest_scikit_tensorflow_cnn_car\\project\\lib\\..\\data_raw_geneostrat_git\\TrainingData\\R18CCW_V\n",
      "loading steerings from C:\\Users\\Chris\\Documents\\scikit_tensorflow_metrowest_cnn_car\\metrowest_scikit_tensorflow_cnn_car\\project\\lib\\..\\data_raw_geneostrat_git\\TrainingData\\R20CCW\n",
      "loading steerings from C:\\Users\\Chris\\Documents\\scikit_tensorflow_metrowest_cnn_car\\metrowest_scikit_tensorflow_cnn_car\\project\\lib\\..\\data_raw_geneostrat_git\\TrainingData\\R20CCW_V\n",
      "loading steerings from C:\\Users\\Chris\\Documents\\scikit_tensorflow_metrowest_cnn_car\\metrowest_scikit_tensorflow_cnn_car\\project\\lib\\..\\data_raw_geneostrat_git\\TrainingData\\R21CCW\n",
      "loading steerings from C:\\Users\\Chris\\Documents\\scikit_tensorflow_metrowest_cnn_car\\metrowest_scikit_tensorflow_cnn_car\\project\\lib\\..\\data_raw_geneostrat_git\\TrainingData\\R21CCW_V\n",
      "loading steerings from C:\\Users\\Chris\\Documents\\scikit_tensorflow_metrowest_cnn_car\\metrowest_scikit_tensorflow_cnn_car\\project\\lib\\..\\data_raw_geneostrat_git\\TrainingData\\R25CCW\n",
      "loading steerings from C:\\Users\\Chris\\Documents\\scikit_tensorflow_metrowest_cnn_car\\metrowest_scikit_tensorflow_cnn_car\\project\\lib\\..\\data_raw_geneostrat_git\\TrainingData\\R25CCW_V\n",
      "loading steerings from C:\\Users\\Chris\\Documents\\scikit_tensorflow_metrowest_cnn_car\\metrowest_scikit_tensorflow_cnn_car\\project\\lib\\..\\data_raw_geneostrat_git\\TrainingData\\R18CW\n",
      "loading steerings from C:\\Users\\Chris\\Documents\\scikit_tensorflow_metrowest_cnn_car\\metrowest_scikit_tensorflow_cnn_car\\project\\lib\\..\\data_raw_geneostrat_git\\TrainingData\\R18CW_V\n",
      "loading steerings from C:\\Users\\Chris\\Documents\\scikit_tensorflow_metrowest_cnn_car\\metrowest_scikit_tensorflow_cnn_car\\project\\lib\\..\\data_raw_geneostrat_git\\TrainingData\\R20CW\n",
      "loading steerings from C:\\Users\\Chris\\Documents\\scikit_tensorflow_metrowest_cnn_car\\metrowest_scikit_tensorflow_cnn_car\\project\\lib\\..\\data_raw_geneostrat_git\\TrainingData\\R20CW_V\n",
      "loading steerings from C:\\Users\\Chris\\Documents\\scikit_tensorflow_metrowest_cnn_car\\metrowest_scikit_tensorflow_cnn_car\\project\\lib\\..\\data_raw_geneostrat_git\\TrainingData\\R21CW\n",
      "loading steerings from C:\\Users\\Chris\\Documents\\scikit_tensorflow_metrowest_cnn_car\\metrowest_scikit_tensorflow_cnn_car\\project\\lib\\..\\data_raw_geneostrat_git\\TrainingData\\R21CW_V\n",
      "loading steerings from C:\\Users\\Chris\\Documents\\scikit_tensorflow_metrowest_cnn_car\\metrowest_scikit_tensorflow_cnn_car\\project\\lib\\..\\data_raw_geneostrat_git\\TrainingData\\R25CW\n",
      "loading steerings from C:\\Users\\Chris\\Documents\\scikit_tensorflow_metrowest_cnn_car\\metrowest_scikit_tensorflow_cnn_car\\project\\lib\\..\\data_raw_geneostrat_git\\TrainingData\\R25CW_V\n",
      "loading steerings from C:\\Users\\Chris\\Documents\\scikit_tensorflow_metrowest_cnn_car\\metrowest_scikit_tensorflow_cnn_car\\project\\lib\\..\\data_raw_geneostrat_git\\TrainingData\\STR1\n",
      "loading steerings from C:\\Users\\Chris\\Documents\\scikit_tensorflow_metrowest_cnn_car\\metrowest_scikit_tensorflow_cnn_car\\project\\lib\\..\\data_raw_geneostrat_git\\TrainingData\\STR1_V\n",
      "loading steerings from C:\\Users\\Chris\\Documents\\scikit_tensorflow_metrowest_cnn_car\\metrowest_scikit_tensorflow_cnn_car\\project\\lib\\..\\data_raw_geneostrat_git\\TrainingData\\STR2\n"
     ]
    },
    {
     "name": "stdout",
     "output_type": "stream",
     "text": [
      "loading steerings from C:\\Users\\Chris\\Documents\\scikit_tensorflow_metrowest_cnn_car\\metrowest_scikit_tensorflow_cnn_car\\project\\lib\\..\\data_raw_geneostrat_git\\TrainingData\\STR2_V\n",
      "image array:\n",
      "<class 'numpy.ndarray'>\n",
      "(18921, 90, 180, 3)\n",
      "<class 'numpy.uint8'>\n",
      "\n",
      "steering array (pre_threshold):\n",
      "<class 'numpy.ndarray'>\n",
      "(18921,)\n",
      "<class 'numpy.uint32'>\n",
      "\n",
      "steering array (thresholded):\n",
      "<class 'numpy.ndarray'>\n",
      "(18921,)\n",
      "<class 'numpy.uint32'>\n",
      "#left =     7644\n",
      "#straight = 6265\n",
      "#right =    5012\n"
     ]
    }
   ],
   "source": [
    "from metrowestcar_dataset_architect import DatasetArchitect\n",
    "\n",
    "import my_globals as myg\n",
    "da = DatasetArchitect(myg.IMAGE_H, myg.IMAGE_W, myg.IMAGE_D)\n",
    "da.read_raw_data_from_files(dirpath, tracklist)"
   ]
  },
  {
   "cell_type": "code",
   "execution_count": 37,
   "metadata": {},
   "outputs": [
    {
     "name": "stdout",
     "output_type": "stream",
     "text": [
      "image array:\n",
      "<class 'numpy.ndarray'>\n",
      "(18921, 90, 180, 3)\n",
      "<class 'numpy.uint8'>\n",
      "steering array:\n",
      "<class 'numpy.ndarray'>\n",
      "(18921,)\n",
      "<class 'numpy.uint32'>\n"
     ]
    }
   ],
   "source": [
    "da.shuffle()"
   ]
  },
  {
   "cell_type": "code",
   "execution_count": 38,
   "metadata": {},
   "outputs": [
    {
     "name": "stdout",
     "output_type": "stream",
     "text": [
      "whole =  18921\n",
      "cut   =  15136   3785\n"
     ]
    }
   ],
   "source": [
    "da.split_train_test()"
   ]
  },
  {
   "cell_type": "code",
   "execution_count": 39,
   "metadata": {},
   "outputs": [
    {
     "name": "stdout",
     "output_type": "stream",
     "text": [
      "<class 'dict'>\n",
      "dict_keys(['target_names', 'images_train', 'images_test', 'steering_train', 'steering_test', 'DESCR'])\n",
      "(training) image array is    (15136, 90, 180, 3) of <class 'numpy.uint8'>\n",
      "(training) steering array is (15136,) of <class 'numpy.uint32'>\n",
      "(test) image array is    (3785, 90, 180, 3) of <class 'numpy.uint8'>\n",
      "(test) steering array is (3785,) of <class 'numpy.uint32'>\n"
     ]
    }
   ],
   "source": [
    "da.organize_as_dictionary()"
   ]
  },
  {
   "cell_type": "code",
   "execution_count": 40,
   "metadata": {},
   "outputs": [],
   "source": [
    "da.save_to_pickle_file(\"../dataset/dataset_01_full_size_images.pickle\")"
   ]
  },
  {
   "cell_type": "code",
   "execution_count": 41,
   "metadata": {},
   "outputs": [
    {
     "name": "stdout",
     "output_type": "stream",
     "text": [
      "<class 'dict'>\n",
      "dict_keys(['target_names', 'images_train', 'images_test', 'steering_train', 'steering_test', 'DESCR'])\n",
      "(training) image array is    (15136, 90, 180, 3) of <class 'numpy.uint8'>\n",
      "(training) steering array is (15136,) of <class 'numpy.uint32'>\n",
      "(test) image array is    (3785, 90, 180, 3) of <class 'numpy.uint8'>\n",
      "(test) steering array is (3785,) of <class 'numpy.uint32'>\n"
     ]
    }
   ],
   "source": [
    "foo = da.restore_from_pickle_file(\"../dataset/dataset_01_full_size_images.pickle\")"
   ]
  },
  {
   "cell_type": "code",
   "execution_count": null,
   "metadata": {
    "collapsed": true
   },
   "outputs": [],
   "source": []
  }
 ],
 "metadata": {
  "kernelspec": {
   "display_name": "Python 3",
   "language": "python",
   "name": "python3"
  },
  "language_info": {
   "codemirror_mode": {
    "name": "ipython",
    "version": 3
   },
   "file_extension": ".py",
   "mimetype": "text/x-python",
   "name": "python",
   "nbconvert_exporter": "python",
   "pygments_lexer": "ipython3",
   "version": "3.6.3"
  }
 },
 "nbformat": 4,
 "nbformat_minor": 2
}
