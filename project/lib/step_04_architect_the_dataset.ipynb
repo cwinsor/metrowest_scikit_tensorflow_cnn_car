{
 "cells": [
  {
   "cell_type": "markdown",
   "metadata": {},
   "source": [
    "# Constructing Dataset 1: observed steering values\n",
    "```\n",
    "Construct the dataset 1 from raw images in the flatfiles.\n",
    "This dataset uses steering values observed while the car is being driven.\n",
    "\n",
    "This involves\n",
    "reading raw data from the flatfiles\n",
    "shuffling\n",
    "segmenting into train/test\n",
    "saving to pickle file\n",
    "```"
   ]
  },
  {
   "cell_type": "code",
   "execution_count": 1,
   "metadata": {},
   "outputs": [],
   "source": [
    "# force libraries to re-load every time - helpful during development\n",
    "%load_ext autoreload\n",
    "%autoreload 2"
   ]
  },
  {
   "cell_type": "code",
   "execution_count": 2,
   "metadata": {},
   "outputs": [],
   "source": [
    "import sys\n",
    "sys.path.append('../lib')"
   ]
  },
  {
   "cell_type": "code",
   "execution_count": 3,
   "metadata": {},
   "outputs": [],
   "source": [
    "from os import getcwd\n",
    "from os.path import abspath\n",
    "from os.path import join\n",
    "\n",
    "dirpath = join(abspath(getcwd()), \"..\\data_raw_geneostrat_git\\TrainingData\")\n",
    "\n",
    "tracklist = [\n",
    "    \"121\",\n",
    "    \"122\",\n",
    "    \"124\",\n",
    "    \"125\",\n",
    "\n",
    "    \"R18CCW\",\n",
    "    \"R18CCW_V\",\n",
    "    \"R20CCW\",\n",
    "    \"R20CCW_V\",\n",
    "    \"R21CCW\",\n",
    "    \"R21CCW_V\",\n",
    "    \"R25CCW\",\n",
    "    \"R25CCW_V\",\n",
    "    \n",
    "    \"R18CW\",\n",
    "    \"R18CW_V\",\n",
    "    \"R20CW\",\n",
    "    \"R20CW_V\",\n",
    "    \"R21CW\",\n",
    "    \"R21CW_V\",\n",
    "    \"R25CW\",\n",
    "    \"R25CW_V\",\n",
    "  \n",
    "    \"STR1\",\n",
    "    \"STR1_V\",\n",
    "    \"STR2\",\n",
    "    \"STR2_V\",\n",
    "]\n",
    "\n",
    "\n",
    "#tracklist = [\n",
    "#\n",
    "#    \"R21CCW\",\n",
    "#    \"R25CCW\",\n",
    "#\n",
    "#    \"R21CW\",\n",
    "#    \"R25CW\",\n",
    "#]\n",
    "\n",
    "\n"
   ]
  },
  {
   "cell_type": "code",
   "execution_count": 5,
   "metadata": {},
   "outputs": [
    {
     "name": "stderr",
     "output_type": "stream",
     "text": [
      "Using TensorFlow backend.\n"
     ]
    },
    {
     "name": "stdout",
     "output_type": "stream",
     "text": [
      "loading images from C:\\code_metrowest\\metrowest_scikit_tensorflow_cnn_car\\project\\lib\\..\\data_raw_geneostrat_git\\TrainingData\\121\n"
     ]
    },
    {
     "ename": "FileNotFoundError",
     "evalue": "[WinError 3] The system cannot find the path specified: 'C:\\\\code_metrowest\\\\metrowest_scikit_tensorflow_cnn_car\\\\project\\\\lib\\\\..\\\\data_raw_geneostrat_git\\\\TrainingData\\\\121\\\\steer\\\\'",
     "output_type": "error",
     "traceback": [
      "\u001b[1;31m---------------------------------------------------------------------------\u001b[0m",
      "\u001b[1;31mFileNotFoundError\u001b[0m                         Traceback (most recent call last)",
      "\u001b[1;32m<ipython-input-5-d1adcb1fbe42>\u001b[0m in \u001b[0;36m<module>\u001b[1;34m\u001b[0m\n\u001b[0;32m      3\u001b[0m \u001b[1;32mimport\u001b[0m \u001b[0mmy_globals\u001b[0m \u001b[1;32mas\u001b[0m \u001b[0mmyg\u001b[0m\u001b[1;33m\u001b[0m\u001b[1;33m\u001b[0m\u001b[0m\n\u001b[0;32m      4\u001b[0m \u001b[0mda\u001b[0m \u001b[1;33m=\u001b[0m \u001b[0mDatasetArchitect\u001b[0m\u001b[1;33m(\u001b[0m\u001b[0mmyg\u001b[0m\u001b[1;33m.\u001b[0m\u001b[0mIMAGE_H\u001b[0m\u001b[1;33m,\u001b[0m \u001b[0mmyg\u001b[0m\u001b[1;33m.\u001b[0m\u001b[0mIMAGE_W\u001b[0m\u001b[1;33m,\u001b[0m \u001b[0mmyg\u001b[0m\u001b[1;33m.\u001b[0m\u001b[0mIMAGE_D\u001b[0m\u001b[1;33m)\u001b[0m\u001b[1;33m\u001b[0m\u001b[1;33m\u001b[0m\u001b[0m\n\u001b[1;32m----> 5\u001b[1;33m \u001b[0mda\u001b[0m\u001b[1;33m.\u001b[0m\u001b[0mread_raw_data_from_files\u001b[0m\u001b[1;33m(\u001b[0m\u001b[0mdirpath\u001b[0m\u001b[1;33m,\u001b[0m \u001b[0mtracklist\u001b[0m\u001b[1;33m)\u001b[0m\u001b[1;33m\u001b[0m\u001b[1;33m\u001b[0m\u001b[0m\n\u001b[0m",
      "\u001b[1;32mC:\\code_metrowest\\metrowest_scikit_tensorflow_cnn_car\\project\\lib\\metrowestcar_dataset_architect.py\u001b[0m in \u001b[0;36mread_raw_data_from_files\u001b[1;34m(self, dirpath, tracklist)\u001b[0m\n\u001b[0;32m     30\u001b[0m \u001b[1;33m\u001b[0m\u001b[0m\n\u001b[0;32m     31\u001b[0m         \u001b[0mfile_reader\u001b[0m \u001b[1;33m=\u001b[0m \u001b[0mFileReader\u001b[0m\u001b[1;33m(\u001b[0m\u001b[0mself\u001b[0m\u001b[1;33m.\u001b[0m\u001b[0mimage_h\u001b[0m\u001b[1;33m,\u001b[0m \u001b[0mself\u001b[0m\u001b[1;33m.\u001b[0m\u001b[0mimage_w\u001b[0m\u001b[1;33m,\u001b[0m \u001b[0mself\u001b[0m\u001b[1;33m.\u001b[0m\u001b[0mimage_d\u001b[0m\u001b[1;33m)\u001b[0m\u001b[1;33m\u001b[0m\u001b[1;33m\u001b[0m\u001b[0m\n\u001b[1;32m---> 32\u001b[1;33m         \u001b[0mself\u001b[0m\u001b[1;33m.\u001b[0m\u001b[0mimage_array\u001b[0m \u001b[1;33m=\u001b[0m \u001b[0mfile_reader\u001b[0m\u001b[1;33m.\u001b[0m\u001b[0mread_images_from_list_of_tracks\u001b[0m\u001b[1;33m(\u001b[0m\u001b[0mdirpath\u001b[0m\u001b[1;33m,\u001b[0m \u001b[0mtracklist\u001b[0m\u001b[1;33m)\u001b[0m\u001b[1;33m\u001b[0m\u001b[1;33m\u001b[0m\u001b[0m\n\u001b[0m\u001b[0;32m     33\u001b[0m         \u001b[0msteering_array_pre_threshold\u001b[0m \u001b[1;33m=\u001b[0m \u001b[0mfile_reader\u001b[0m\u001b[1;33m.\u001b[0m\u001b[0mread_steerings_from_list_of_tracks\u001b[0m\u001b[1;33m(\u001b[0m\u001b[0mdirpath\u001b[0m\u001b[1;33m,\u001b[0m \u001b[0mtracklist\u001b[0m\u001b[1;33m)\u001b[0m\u001b[1;33m\u001b[0m\u001b[1;33m\u001b[0m\u001b[0m\n\u001b[0;32m     34\u001b[0m \u001b[1;33m\u001b[0m\u001b[0m\n",
      "\u001b[1;32mC:\\code_metrowest\\metrowest_scikit_tensorflow_cnn_car\\project\\lib\\metrowestcar_file_io.py\u001b[0m in \u001b[0;36mread_images_from_list_of_tracks\u001b[1;34m(self, dirpath, tracklist)\u001b[0m\n\u001b[0;32m     96\u001b[0m         \u001b[1;32mfor\u001b[0m \u001b[0mtrackname\u001b[0m \u001b[1;32min\u001b[0m \u001b[0mtracklist\u001b[0m\u001b[1;33m:\u001b[0m\u001b[1;33m\u001b[0m\u001b[1;33m\u001b[0m\u001b[0m\n\u001b[0;32m     97\u001b[0m             \u001b[0mprint\u001b[0m\u001b[1;33m(\u001b[0m\u001b[1;34m'loading images from '\u001b[0m \u001b[1;33m+\u001b[0m \u001b[0mdirpath\u001b[0m \u001b[1;33m+\u001b[0m \u001b[1;34m\"\\\\\"\u001b[0m \u001b[1;33m+\u001b[0m \u001b[0mtrackname\u001b[0m\u001b[1;33m)\u001b[0m\u001b[1;33m\u001b[0m\u001b[1;33m\u001b[0m\u001b[0m\n\u001b[1;32m---> 98\u001b[1;33m             \u001b[0mmore_images\u001b[0m \u001b[1;33m=\u001b[0m \u001b[0mself\u001b[0m\u001b[1;33m.\u001b[0m\u001b[0mread_images_from_directory\u001b[0m\u001b[1;33m(\u001b[0m\u001b[0mdirpath\u001b[0m\u001b[1;33m,\u001b[0m \u001b[0mtrackname\u001b[0m\u001b[1;33m)\u001b[0m\u001b[1;33m\u001b[0m\u001b[1;33m\u001b[0m\u001b[0m\n\u001b[0m\u001b[0;32m     99\u001b[0m             \u001b[0mimages\u001b[0m \u001b[1;33m=\u001b[0m \u001b[0mnp\u001b[0m\u001b[1;33m.\u001b[0m\u001b[0mappend\u001b[0m\u001b[1;33m(\u001b[0m\u001b[0mimages\u001b[0m\u001b[1;33m,\u001b[0m \u001b[0mmore_images\u001b[0m\u001b[1;33m,\u001b[0m \u001b[0maxis\u001b[0m\u001b[1;33m=\u001b[0m\u001b[1;36m0\u001b[0m\u001b[1;33m)\u001b[0m\u001b[1;33m\u001b[0m\u001b[1;33m\u001b[0m\u001b[0m\n\u001b[0;32m    100\u001b[0m         \u001b[1;32mreturn\u001b[0m \u001b[0mimages\u001b[0m\u001b[1;33m\u001b[0m\u001b[1;33m\u001b[0m\u001b[0m\n",
      "\u001b[1;32mC:\\code_metrowest\\metrowest_scikit_tensorflow_cnn_car\\project\\lib\\metrowestcar_file_io.py\u001b[0m in \u001b[0;36mread_images_from_directory\u001b[1;34m(self, dirpath, trackname)\u001b[0m\n\u001b[0;32m     86\u001b[0m \u001b[1;33m\u001b[0m\u001b[0m\n\u001b[0;32m     87\u001b[0m     \u001b[1;32mdef\u001b[0m \u001b[0mread_images_from_directory\u001b[0m\u001b[1;33m(\u001b[0m\u001b[0mself\u001b[0m\u001b[1;33m,\u001b[0m \u001b[0mdirpath\u001b[0m\u001b[1;33m,\u001b[0m \u001b[0mtrackname\u001b[0m\u001b[1;33m)\u001b[0m\u001b[1;33m:\u001b[0m\u001b[1;33m\u001b[0m\u001b[1;33m\u001b[0m\u001b[0m\n\u001b[1;32m---> 88\u001b[1;33m         \u001b[0msamplenumbers\u001b[0m \u001b[1;33m=\u001b[0m \u001b[0mself\u001b[0m\u001b[1;33m.\u001b[0m\u001b[0m_get_sample_numbers\u001b[0m\u001b[1;33m(\u001b[0m\u001b[0mdirpath\u001b[0m\u001b[1;33m,\u001b[0m \u001b[0mtrackname\u001b[0m\u001b[1;33m)\u001b[0m\u001b[1;33m\u001b[0m\u001b[1;33m\u001b[0m\u001b[0m\n\u001b[0m\u001b[0;32m     89\u001b[0m         \u001b[0mimages\u001b[0m \u001b[1;33m=\u001b[0m \u001b[0mself\u001b[0m\u001b[1;33m.\u001b[0m\u001b[0mread_images_from_directory_given_samplenumbers\u001b[0m\u001b[1;33m(\u001b[0m\u001b[0mdirpath\u001b[0m\u001b[1;33m,\u001b[0m \u001b[0mtrackname\u001b[0m\u001b[1;33m,\u001b[0m \u001b[0msamplenumbers\u001b[0m\u001b[1;33m)\u001b[0m\u001b[1;33m\u001b[0m\u001b[1;33m\u001b[0m\u001b[0m\n\u001b[0;32m     90\u001b[0m         \u001b[1;32mreturn\u001b[0m \u001b[0mimages\u001b[0m\u001b[1;33m\u001b[0m\u001b[1;33m\u001b[0m\u001b[0m\n",
      "\u001b[1;32mC:\\code_metrowest\\metrowest_scikit_tensorflow_cnn_car\\project\\lib\\metrowestcar_file_io.py\u001b[0m in \u001b[0;36m_get_sample_numbers\u001b[1;34m(self, dirpath, trackname)\u001b[0m\n\u001b[0;32m     64\u001b[0m \u001b[1;33m\u001b[0m\u001b[0m\n\u001b[0;32m     65\u001b[0m         \u001b[1;31m# get all the file names\u001b[0m\u001b[1;33m\u001b[0m\u001b[1;33m\u001b[0m\u001b[1;33m\u001b[0m\u001b[0m\n\u001b[1;32m---> 66\u001b[1;33m         \u001b[0mnames1\u001b[0m \u001b[1;33m=\u001b[0m \u001b[0mos\u001b[0m\u001b[1;33m.\u001b[0m\u001b[0mlistdir\u001b[0m\u001b[1;33m(\u001b[0m\u001b[0mfullpath\u001b[0m\u001b[1;33m)\u001b[0m\u001b[1;33m\u001b[0m\u001b[1;33m\u001b[0m\u001b[0m\n\u001b[0m\u001b[0;32m     67\u001b[0m \u001b[1;33m\u001b[0m\u001b[0m\n\u001b[0;32m     68\u001b[0m         \u001b[1;31m# crop everything after \".\" then take whatever follows \"_\"\u001b[0m\u001b[1;33m\u001b[0m\u001b[1;33m\u001b[0m\u001b[1;33m\u001b[0m\u001b[0m\n",
      "\u001b[1;31mFileNotFoundError\u001b[0m: [WinError 3] The system cannot find the path specified: 'C:\\\\code_metrowest\\\\metrowest_scikit_tensorflow_cnn_car\\\\project\\\\lib\\\\..\\\\data_raw_geneostrat_git\\\\TrainingData\\\\121\\\\steer\\\\'"
     ]
    }
   ],
   "source": [
    "from metrowestcar_dataset_architect import DatasetArchitect\n",
    "\n",
    "import my_globals as myg\n",
    "da = DatasetArchitect(myg.IMAGE_H, myg.IMAGE_W, myg.IMAGE_D)\n",
    "da.read_raw_data_from_files(dirpath, tracklist)"
   ]
  },
  {
   "cell_type": "code",
   "execution_count": 37,
   "metadata": {},
   "outputs": [
    {
     "name": "stdout",
     "output_type": "stream",
     "text": [
      "image array:\n",
      "<class 'numpy.ndarray'>\n",
      "(18921, 90, 180, 3)\n",
      "<class 'numpy.uint8'>\n",
      "steering array:\n",
      "<class 'numpy.ndarray'>\n",
      "(18921,)\n",
      "<class 'numpy.uint32'>\n"
     ]
    }
   ],
   "source": [
    "da.shuffle()"
   ]
  },
  {
   "cell_type": "code",
   "execution_count": 38,
   "metadata": {},
   "outputs": [
    {
     "name": "stdout",
     "output_type": "stream",
     "text": [
      "whole =  18921\n",
      "cut   =  15136   3785\n"
     ]
    }
   ],
   "source": [
    "da.split_train_test()"
   ]
  },
  {
   "cell_type": "code",
   "execution_count": 39,
   "metadata": {},
   "outputs": [
    {
     "name": "stdout",
     "output_type": "stream",
     "text": [
      "<class 'dict'>\n",
      "dict_keys(['target_names', 'images_train', 'images_test', 'steering_train', 'steering_test', 'DESCR'])\n",
      "(training) image array is    (15136, 90, 180, 3) of <class 'numpy.uint8'>\n",
      "(training) steering array is (15136,) of <class 'numpy.uint32'>\n",
      "(test) image array is    (3785, 90, 180, 3) of <class 'numpy.uint8'>\n",
      "(test) steering array is (3785,) of <class 'numpy.uint32'>\n"
     ]
    }
   ],
   "source": [
    "da.organize_as_dictionary()"
   ]
  },
  {
   "cell_type": "code",
   "execution_count": 40,
   "metadata": {},
   "outputs": [],
   "source": [
    "da.save_to_pickle_file(\"../dataset/dataset_01_full_size_images.pickle\")"
   ]
  },
  {
   "cell_type": "code",
   "execution_count": 41,
   "metadata": {},
   "outputs": [
    {
     "name": "stdout",
     "output_type": "stream",
     "text": [
      "<class 'dict'>\n",
      "dict_keys(['target_names', 'images_train', 'images_test', 'steering_train', 'steering_test', 'DESCR'])\n",
      "(training) image array is    (15136, 90, 180, 3) of <class 'numpy.uint8'>\n",
      "(training) steering array is (15136,) of <class 'numpy.uint32'>\n",
      "(test) image array is    (3785, 90, 180, 3) of <class 'numpy.uint8'>\n",
      "(test) steering array is (3785,) of <class 'numpy.uint32'>\n"
     ]
    }
   ],
   "source": [
    "foo = da.restore_from_pickle_file(\"../dataset/dataset_01_full_size_images.pickle\")"
   ]
  },
  {
   "cell_type": "code",
   "execution_count": null,
   "metadata": {
    "collapsed": true
   },
   "outputs": [],
   "source": []
  }
 ],
 "metadata": {
  "kernelspec": {
   "display_name": "Python 3",
   "language": "python",
   "name": "python3"
  },
  "language_info": {
   "codemirror_mode": {
    "name": "ipython",
    "version": 3
   },
   "file_extension": ".py",
   "mimetype": "text/x-python",
   "name": "python",
   "nbconvert_exporter": "python",
   "pygments_lexer": "ipython3",
   "version": "3.6.8"
  }
 },
 "nbformat": 4,
 "nbformat_minor": 2
}
