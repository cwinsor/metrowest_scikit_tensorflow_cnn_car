{
 "cells": [
  {
   "cell_type": "code",
   "execution_count": 7,
   "metadata": {},
   "outputs": [
    {
     "name": "stdout",
     "output_type": "stream",
     "text": [
      "The autoreload extension is already loaded. To reload it, use:\n",
      "  %reload_ext autoreload\n"
     ]
    }
   ],
   "source": [
    "# Preprocess the raw data\n",
    "\n",
    "# force modules to re-load every time - helpful during development\n",
    "%load_ext autoreload\n",
    "%autoreload 2"
   ]
  },
  {
   "cell_type": "code",
   "execution_count": 8,
   "metadata": {},
   "outputs": [],
   "source": [
    "import sys\n",
    "sys.path.append('../lib')"
   ]
  },
  {
   "cell_type": "code",
   "execution_count": 9,
   "metadata": {},
   "outputs": [],
   "source": [
    "from metrowestcar_file_io import FileReader\n",
    "\n",
    "from os import getcwd\n",
    "from os.path import abspath\n",
    "from os.path import join\n",
    "from os.path import exists"
   ]
  },
  {
   "cell_type": "code",
   "execution_count": 10,
   "metadata": {},
   "outputs": [],
   "source": [
    "# creating a FileReader\n",
    "file_reader = FileReader(90, 180, 3)"
   ]
  },
  {
   "cell_type": "code",
   "execution_count": 15,
   "metadata": {},
   "outputs": [],
   "source": [
    "# reference:\n",
    "# git clone https://github.com/geneostrat/TrainingData\n",
    "# from within data_raw_geneograt_git\n",
    "\n",
    "dirpath = join(abspath(getcwd()), \"..\\data_raw_geneostrat_git\\TrainingData\")\n",
    "\n",
    "\n",
    "# list of all steerings\n",
    "\n",
    "tracklist = [\n",
    "\n",
    "    \"121\",\n",
    "    \"122\",\n",
    "    \"124\",\n",
    "    \"125\",\n",
    "    \"R18CCW\",\n",
    "    \"R18CCW_V\",\n",
    "    \"R20CCW\",\n",
    "    \"R20CCW_V\",\n",
    "    \"R21CCW\",\n",
    "    \"R21CCW_V\",\n",
    "    \"R25CCW\",\n",
    "    \"R25CCW_V\",\n",
    "    \n",
    "    \"R18CW\",\n",
    "    \"R18CW_V\",\n",
    "    \"R20CW\",\n",
    "    \"R20CW_V\",\n",
    "    \"R21CW\",\n",
    "    \"R21CW_V\",\n",
    "    \"R25CW\",\n",
    "    \"R25CW_V\",\n",
    "  \n",
    "    \"STR1\",\n",
    "    \"STR1_V\",\n",
    "    \"STR2\",\n",
    "    \"STR2_V\",\n",
    "]\n",
    "\n",
    "\n",
    "\n",
    "#tracklist = [\n",
    "#  \n",
    "#    \"121\",\n",
    "#    \"122\",\n",
    "#    \"124\",\n",
    "#    \"125\",\n",
    "# \n",
    "#]\n",
    "\n",
    "\n",
    "\n",
    "    "
   ]
  },
  {
   "cell_type": "code",
   "execution_count": 16,
   "metadata": {
    "scrolled": true
   },
   "outputs": [
    {
     "name": "stdout",
     "output_type": "stream",
     "text": [
      "18922 mean=389.67292041010467 std_dev=39.01074215669062\n"
     ]
    }
   ],
   "source": [
    "import numpy as np\n",
    "\n",
    "data = np.array([])\n",
    "\n",
    "for track in tracklist:\n",
    "    data = np.append(data, file_reader.read_steerings_from_directory(dirpath, track))\n",
    "    \n",
    "print( str(data.shape[0]) + \" mean=\" + str(np.mean(data)) + \" std_dev=\" + str(np.std(data)))\n",
    "    "
   ]
  },
  {
   "cell_type": "code",
   "execution_count": 25,
   "metadata": {},
   "outputs": [
    {
     "name": "stdout",
     "output_type": "stream",
     "text": [
      "Track 121 #images=1230 mean=411.6650406504065\n",
      "82 743 405\n",
      "Track 122 #images=1207 mean=373.3222866611433\n",
      "667 526 14\n",
      "Track 124 #images=1486 mean=405.1467025572005\n",
      "194 955 337\n",
      "Track 125 #images=974 mean=378.8305954825462\n",
      "475 465 34\n",
      "Track R18CCW #images=369 mean=338.54742547425474\n",
      "331 38 0\n",
      "Track R18CCW_V #images=644 mean=337.44875776397515\n",
      "625 16 3\n",
      "Track R20CCW #images=933 mean=347.66345123258304\n",
      "908 25 0\n",
      "Track R20CCW_V #images=909 mean=345.7084708470847\n",
      "886 21 2\n",
      "Track R21CCW #images=816 mean=349.5122549019608\n",
      "786 26 4\n",
      "Track R21CCW_V #images=840 mean=354.0952380952381\n",
      "759 74 7\n",
      "Track R25CCW #images=815 mean=359.29570552147237\n",
      "756 55 4\n",
      "Track R25CCW_V #images=1022 mean=359.49021526418784\n",
      "941 77 4\n",
      "Track R18CW #images=381 mean=443.1653543307087\n",
      "0 58 323\n",
      "Track R18CW_V #images=475 mean=440.3157894736842\n",
      "0 55 420\n",
      "Track R20CW #images=725 mean=433.95586206896553\n",
      "0 66 659\n",
      "Track R20CW_V #images=734 mean=434.0940054495913\n",
      "0 111 623\n",
      "Track R21CW #images=641 mean=425.16224648985957\n",
      "0 181 460\n",
      "Track R21CW_V #images=691 mean=427.60057887120115\n",
      "4 155 532\n",
      "Track R25CW #images=684 mean=422.57894736842104\n",
      "0 168 516\n",
      "Track R25CW_V #images=919 mean=418.6822633297062\n",
      "15 352 552\n",
      "Track STR1 #images=657 mean=399.1917808219178\n",
      "55 575 27\n",
      "Track STR1_V #images=585 mean=399.15384615384613\n",
      "65 485 35\n",
      "Track STR2 #images=590 mean=398.92033898305084\n",
      "52 508 30\n",
      "Track STR2_V #images=595 mean=399.1546218487395\n",
      "43 531 21\n",
      "-------------\n",
      "528\n",
      "273\n",
      "18922\n",
      "left     7644\n",
      "straight 6266\n",
      "right    5012\n",
      "18922\n",
      "done\n",
      "0.415929203539823\n"
     ]
    }
   ],
   "source": [
    "\n",
    "\n",
    "# investigate each track a little bit\n",
    "# reference  http://benalexkeen.com/comparative-statistics-in-python-using-scipy/\n",
    "\n",
    "import numpy as np\n",
    "from scipy import stats\n",
    "\n",
    "#import matplotlib\n",
    "#import matplotlib.pyplot as plt\n",
    "#%matplotlib inline\n",
    "#matplotlib.style.use('ggplot')\n",
    "\n",
    "import my_globals as myg\n",
    "\n",
    "absolute_min = 800\n",
    "absolute_max = 0\n",
    "total_images = 0\n",
    "total_left = 0\n",
    "total_straight = 0\n",
    "total_right = 0\n",
    "\n",
    "for track in tracklist:\n",
    "    data = file_reader.read_steerings_from_directory(dirpath, track)\n",
    "    print(\"Track \" + track + \" #images=\" + str(data.shape[0]) + \" mean=\" + str(np.mean(data)))\n",
    "    \n",
    "    #print(\"min =  \" + str(np.min(data)))\n",
    "    #print(\"max =  \" + str(np.max(data)))\n",
    "    #print(\"var n = \" + str(np.var(data)))\n",
    "    #print(\"std  = \" + str(np.std(data)))\n",
    "    if np.min(data) < absolute_min:\n",
    "        absolute_min = np.min(data)\n",
    "    if np.max(data) > absolute_max:\n",
    "        absolute_max = np.max(data)\n",
    "    total_images += data.shape[0]\n",
    "    \n",
    "    foo = [i for i in data if i < myg.THRESHOLD_LEFT]\n",
    "    count_l = len(foo)\n",
    "    total_left += count_l\n",
    "\n",
    "    foo = [i for i in data if (myg.THRESHOLD_LEFT <= i <= myg.THRESHOLD_RIGHT)]\n",
    "    count_s = len(foo)\n",
    "    total_straight += count_s\n",
    "\n",
    "    foo = [i for i in data if myg.THRESHOLD_RIGHT < i]\n",
    "    count_r = len(foo)\n",
    "    total_right += count_r\n",
    "\n",
    "    \n",
    "    print(str(count_l) + \" \" + str(count_s) + \" \" + str(count_r))\n",
    "\n",
    "    #plt.hist(data, bins=40, range=(0,800), edgecolor='black')\n",
    "    #plt.show()\n",
    "    \n",
    "    #text = input(\"continue(y/n)\")\n",
    "    #if (text != \"y\"):\n",
    "    #    break\n",
    "\n",
    "print(\"-------------\")\n",
    "print(absolute_max)\n",
    "print(absolute_min)\n",
    "print(total_images)\n",
    "print(\"left     \" + str(total_left))\n",
    "print(\"straight \" + str(total_straight))\n",
    "print(\"right    \" + str(total_right))\n",
    "print(total_left + total_straight + total_right)\n",
    "print(\"done\")\n",
    "print((total_left - total_right) / ((total_left + total_right) / 2))\n",
    "\n",
    "\n"
   ]
  },
  {
   "cell_type": "code",
   "execution_count": null,
   "metadata": {
    "collapsed": true
   },
   "outputs": [],
   "source": []
  }
 ],
 "metadata": {
  "kernelspec": {
   "display_name": "Python 3",
   "language": "python",
   "name": "python3"
  },
  "language_info": {
   "codemirror_mode": {
    "name": "ipython",
    "version": 3
   },
   "file_extension": ".py",
   "mimetype": "text/x-python",
   "name": "python",
   "nbconvert_exporter": "python",
   "pygments_lexer": "ipython3",
   "version": "3.6.8"
  }
 },
 "nbformat": 4,
 "nbformat_minor": 2
}
