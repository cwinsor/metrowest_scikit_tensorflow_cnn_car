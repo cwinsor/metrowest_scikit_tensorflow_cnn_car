{
 "cells": [
  {
   "cell_type": "code",
   "execution_count": 1,
   "metadata": {},
   "outputs": [],
   "source": [
    "# Test the display module\n",
    "\n",
    "# force modules to re-load every time - helpful during development\n",
    "%load_ext autoreload\n",
    "%autoreload 2"
   ]
  },
  {
   "cell_type": "code",
   "execution_count": 4,
   "metadata": {},
   "outputs": [],
   "source": [
    "import sys\n",
    "sys.path.append('../lib')"
   ]
  },
  {
   "cell_type": "code",
   "execution_count": 6,
   "metadata": {},
   "outputs": [],
   "source": [
    "from metrowestcar_file_io import FileReader\n",
    "from metrowestcar_display import Displayer\n",
    "\n",
    "from os import getcwd\n",
    "from os.path import abspath\n",
    "from os.path import join\n",
    "from os.path import exists\n",
    "\n",
    "import my_globals as myg\n",
    "\n",
    "# file_io is tested elsewhere but used here\n",
    "file_reader = FileReader(myg.IMAGE_RAW_H, myg.IMAGE_RAW_W, myg.IMAGE_RAW_D)\n",
    "\n",
    "dirpath = join(abspath(getcwd()), \"..\\data_raw_geneostrat_samples\\pictures_test\")  \n",
    "trackname = \"R21CW\"\n",
    "samplenumber = \"0\"\n",
    "filename = trackname + \"_\" + samplenumber + \".jpg\"\n",
    "\n",
    "image = file_reader.read_image_from_file_using_samplenumber(dirpath, trackname, samplenumber)\n",
    "steering = file_reader.read_steering_from_file_using_samplenumber(dirpath, trackname, samplenumber)\n"
   ]
  },
  {
   "cell_type": "code",
   "execution_count": 8,
   "metadata": {},
   "outputs": [],
   "source": [
    "# displaying an image\n",
    "\n",
    "displayer = Displayer()\n",
    "displayer.display_image(image)\n",
    "#displayer.display_thumbnail(image)"
   ]
  },
  {
   "cell_type": "code",
   "execution_count": 9,
   "metadata": {},
   "outputs": [
    {
     "name": "stdout",
     "output_type": "stream",
     "text": [
      "400\n"
     ]
    }
   ],
   "source": [
    "# displaying an annotated image (with arrow showing control direction)\n",
    "print(steering)\n",
    "displayer.display_annotated_image(image, steering)\n",
    "\n",
    "#displayer.display_annotated_image(image, 1)\n",
    "\n",
    "#displayer.display_annotated_thumbnail(image, steering)\n",
    "\n",
    "#test ability to draw arrows...\n",
    "#displayer.display_annotated_thumbnail(image, 0) # straight\n",
    "#displayer.display_annotated_thumbnail(image, 1) # left\n",
    "#displayer.display_annotated_thumbnail(image, 2) # right\n",
    "#displayer.display_annotated_thumbnail(image, 3) # invalid draws box"
   ]
  },
  {
   "cell_type": "code",
   "execution_count": null,
   "metadata": {
    "collapsed": true
   },
   "outputs": [],
   "source": []
  },
  {
   "cell_type": "code",
   "execution_count": null,
   "metadata": {
    "collapsed": true
   },
   "outputs": [],
   "source": []
  }
 ],
 "metadata": {
  "kernelspec": {
   "display_name": "Python 3",
   "language": "python",
   "name": "python3"
  },
  "language_info": {
   "codemirror_mode": {
    "name": "ipython",
    "version": 3
   },
   "file_extension": ".py",
   "mimetype": "text/x-python",
   "name": "python",
   "nbconvert_exporter": "python",
   "pygments_lexer": "ipython3",
   "version": "3.6.8"
  }
 },
 "nbformat": 4,
 "nbformat_minor": 2
}
