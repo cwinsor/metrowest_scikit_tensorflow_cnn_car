{
 "cells": [
  {
   "cell_type": "markdown",
   "metadata": {},
   "source": [
    "# Testing the dataset and dataset library\n",
    "```\n",
    "Demonstrate use of the user library to load the dataset (show that a user can load it).\n",
    "```"
   ]
  },
  {
   "cell_type": "markdown",
   "metadata": {},
   "source": [
    "# User loading the dataset"
   ]
  },
  {
   "cell_type": "code",
   "execution_count": 1,
   "metadata": {},
   "outputs": [],
   "source": [
    "# force libraries to re-load every time - helpful during development\n",
    "%load_ext autoreload\n",
    "%autoreload 2"
   ]
  },
  {
   "cell_type": "code",
   "execution_count": 2,
   "metadata": {},
   "outputs": [],
   "source": [
    "import sys\n",
    "sys.path.append('../lib')"
   ]
  },
  {
   "cell_type": "code",
   "execution_count": 3,
   "metadata": {},
   "outputs": [],
   "source": [
    "from metrowestcar_dataset import Dataset"
   ]
  },
  {
   "cell_type": "code",
   "execution_count": 4,
   "metadata": {},
   "outputs": [
    {
     "name": "stdout",
     "output_type": "stream",
     "text": [
      "<class 'dict'>\n",
      "dict_keys(['target_names', 'images_train', 'images_test', 'steering_train', 'steering_test', 'DESCR'])\n",
      "There are 15136 images (training)\n",
      "There are 3785 images (test)\n",
      "There are 15136 steering values (training)\n",
      "There are 3785 steering values (test)\n",
      "<class 'numpy.ndarray'>\n",
      "<class 'numpy.ndarray'>\n",
      "<class 'numpy.ndarray'>\n",
      "<class 'numpy.ndarray'>\n",
      "The image array (training) is a (15136, 30, 60, 3) of <class 'numpy.uint8'>\n",
      "The image array (test)     is a (3785, 30, 60, 3) of <class 'numpy.uint8'>\n",
      "The steering array (training) is a (15136,) of <class 'numpy.uint32'>\n",
      "The steering array (test)     is a (3785,) of <class 'numpy.uint32'>\n",
      "\n",
      "\n",
      "                The dataset is a collection of images and steering from a toy\n",
      "                car as it is driven around a track.\n",
      "                \n",
      "                The track is set up on a concrete floor. A piece of tape defines\n",
      "                the centerline and the car will be trained to follow this line.\n",
      "                During training the steering values applied by the driver to\n",
      "                keep the car on the track are captured.\n",
      "                                \n",
      "                The dataset is split into training and test subsets\n",
      "                of size ???? and ???? respectively.\n",
      "                \n",
      "                Images are square, size 90hx180w using RGB encoding.\n",
      "                This is kept as a 4-dimensional numpy array of numpy.uint8.\n",
      "                The dimensions of this array are [N][90][180][3].\n",
      "\n",
      "                The first dimension is image number.\n",
      "                The next two dimensions are height, width.\n",
      "                The final dimension is color.\n",
      "\n",
      "                Steering values are categorical with 1=left, 3=straight 2=right.\n",
      "                The data is kept as a 1-dimensional numpy array of numpy.uint32\n",
      "                The array is size [N] which is the direction the car is\n",
      "                being steered at the time of the correspondingly-numbered image.\n",
      "\n",
      "                The structure of the dataset is:\n",
      "\n",
      "                \"DESCR\" - an overview description of the dataset.\n",
      "                \"images_train\"   - training images\n",
      "                \"images_test\"    - testing image\n",
      "                \"steering_train\" - training steering values\n",
      "                \"steering_test\"  - testing steering values\n",
      "                \"target_names\"   - a list of values of the steering class [1, 3, 2]\n",
      "\n",
      "                The dataset is available from:\n",
      "                https://github.com/cwinsor/metrowest_scikit_tensorflow_cnn_car.git\n",
      "            \n"
     ]
    }
   ],
   "source": [
    "dataset = Dataset.data()\n",
    "\n",
    "print(type(dataset))\n",
    "print(dataset.keys())\n",
    "\n",
    "print(\"The image array (training) is a \" + str(dataset['images_train'].shape) + \" of \" + str(type(dataset['images_train'][0][0][0][0])))\n",
    "print(\"The image array (test)     is a \" + str(dataset['images_test'].shape) + \" of \" + str(type(dataset['images_test'][0][0][0][0])))\n",
    "print(\"The steering array (training) is a \" + str(dataset['steering_train'].shape) + \" of \" + str(type(dataset['steering_train'][0])))  \n",
    "print(\"The steering array (test)     is a \" + str(dataset['steering_test'].shape) + \" of \" + str(type(dataset['steering_test'][0])))\n",
    "\n",
    "print(dataset['DESCR'])\n",
    "        "
   ]
  },
  {
   "cell_type": "code",
   "execution_count": 11,
   "metadata": {},
   "outputs": [
    {
     "name": "stderr",
     "output_type": "stream",
     "text": [
      "Using TensorFlow backend.\n"
     ]
    },
    {
     "name": "stdout",
     "output_type": "stream",
     "text": [
      "\n",
      "before:\n",
      "<class 'numpy.ndarray'>\n",
      "(15136, 90, 180, 3)\n",
      "<class 'numpy.uint8'>\n",
      "\n",
      "after:\n",
      "<class 'numpy.ndarray'>\n",
      "(15136, 90, 180, 3)\n",
      "<class 'numpy.float32'>\n",
      "\n",
      "before\n",
      "<class 'numpy.ndarray'>\n",
      "(15136,)\n",
      "<class 'numpy.uint32'>\n",
      "\n",
      "after\n",
      "<class 'numpy.ndarray'>\n",
      "(15136, 4)\n",
      "<class 'numpy.float32'>\n"
     ]
    }
   ],
   "source": [
    "from __future__ import print_function\n",
    "import keras\n",
    "from keras import backend as K\n",
    "\n",
    "batch_size = 128\n",
    "num_classes = 4 # unused,left,center,right\n",
    "epochs = 12\n",
    "\n",
    "# input image dimensions\n",
    "img_rows, img_cols = 28, 28\n",
    "\n",
    "# the data, split between train and test sets\n",
    "dataset = Dataset.data()\n",
    "x_train = dataset['images_train']\n",
    "x_test = dataset['images_test']\n",
    "y_train = dataset['steering_train']\n",
    "y_test = dataset['steering_test']\n",
    "\n",
    "#(x_train, y_train), (x_test, y_test) = Dataset.data()\n",
    "\n",
    "#if K.image_data_format() == 'channels_first':\n",
    "#    x_train = x_train.reshape(x_train.shape[0], 1, img_rows, img_cols)\n",
    "#    x_test = x_test.reshape(x_test.shape[0], 1, img_rows, img_cols)\n",
    "#    input_shape = (1, img_rows, img_cols)\n",
    "#else:\n",
    "#    x_train = x_train.reshape(x_train.shape[0], img_rows, img_cols, 1)\n",
    "#    x_test = x_test.reshape(x_test.shape[0], img_rows, img_cols, 1)\n",
    "#    input_shape = (img_rows, img_cols, 1)\n",
    "\n",
    "print(\"\\nbefore:\")\n",
    "print(type(x_train))\n",
    "print(x_train.shape)\n",
    "print(type(x_train[0][0][0][0]))\n",
    "\n",
    "x_train = x_train.astype('float32')\n",
    "x_test = x_test.astype('float32')\n",
    "x_train /= 255\n",
    "x_test /= 255\n",
    "\n",
    "print(\"\\nafter:\")\n",
    "print(type(x_train))\n",
    "print(x_train.shape)\n",
    "print(type(x_train[0][0][0][0]))\n",
    "\n",
    "# convert class vectors to binary class matrices\n",
    "print(\"\\nbefore\")\n",
    "print(type(y_train))\n",
    "print(y_train.shape)\n",
    "print(type(y_train[0]))\n",
    "\n",
    "y_train = keras.utils.to_categorical(y_train, num_classes)\n",
    "y_test = keras.utils.to_categorical(y_test, num_classes)\n",
    "\n",
    "print(\"\\nafter\")\n",
    "print(type(y_train))\n",
    "print(y_train.shape)\n",
    "print(type(y_train[0][0]))\n",
    "\n"
   ]
  },
  {
   "cell_type": "code",
   "execution_count": null,
   "metadata": {
    "collapsed": true
   },
   "outputs": [],
   "source": []
  }
 ],
 "metadata": {
  "kernelspec": {
   "display_name": "Python 3",
   "language": "python",
   "name": "python3"
  },
  "language_info": {
   "codemirror_mode": {
    "name": "ipython",
    "version": 3
   },
   "file_extension": ".py",
   "mimetype": "text/x-python",
   "name": "python",
   "nbconvert_exporter": "python",
   "pygments_lexer": "ipython3",
   "version": "3.6.8"
  }
 },
 "nbformat": 4,
 "nbformat_minor": 2
}
