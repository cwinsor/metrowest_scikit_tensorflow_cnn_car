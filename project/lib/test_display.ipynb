{
 "cells": [
  {
   "cell_type": "code",
   "execution_count": 18,
   "metadata": {},
   "outputs": [
    {
     "name": "stdout",
     "output_type": "stream",
     "text": [
      "The autoreload extension is already loaded. To reload it, use:\n",
      "  %reload_ext autoreload\n"
     ]
    }
   ],
   "source": [
    "# Test the display library\n",
    "\n",
    "# force libraries to re-load every time - helpful during development\n",
    "%load_ext autoreload\n",
    "%autoreload 2"
   ]
  },
  {
   "cell_type": "code",
   "execution_count": 19,
   "metadata": {},
   "outputs": [],
   "source": [
    "import sys\n",
    "sys.path.append('../lib')"
   ]
  },
  {
   "cell_type": "code",
   "execution_count": 40,
   "metadata": {},
   "outputs": [],
   "source": [
    "from metrowestcar_file_io import FileReader\n",
    "from metrowestcar_display import Displayer\n",
    "\n",
    "from os import getcwd\n",
    "from os.path import abspath\n",
    "from os.path import join\n",
    "from os.path import exists\n",
    "\n",
    "\n",
    "# file_io is tested elsewhere but used here\n",
    "file_reader = FileReader(64,64,3)\n",
    "fullpath = join(abspath(getcwd()), \"../data/pictures_test\")\n",
    "\n",
    "filename = \"image1101.jpg\"\n",
    "image = file_reader.read_image_from_file(join(fullpath,filename))\n",
    "\n",
    "filename = \"control1101\"\n",
    "steering = file_reader.read_steering_from_file(join(fullpath,filename))"
   ]
  },
  {
   "cell_type": "code",
   "execution_count": 41,
   "metadata": {},
   "outputs": [],
   "source": [
    "# displaying an image\n",
    "\n",
    "displayer = Displayer()\n",
    "displayer.display_image(image)\n",
    "#displayer.display_thumbnail(image)"
   ]
  },
  {
   "cell_type": "code",
   "execution_count": 42,
   "metadata": {},
   "outputs": [
    {
     "name": "stdout",
     "output_type": "stream",
     "text": [
      "1\n"
     ]
    }
   ],
   "source": [
    "# displaying an annotated image (with arrow showing control direction)\n",
    "print(steering)\n",
    "displayer.display_annotated_image(image, steering)\n",
    "\n",
    "#displayer.display_annotated_image(image, 1)\n",
    "\n",
    "#displayer.display_annotated_thumbnail(image, steering)\n",
    "\n",
    "#test ability to draw arrows...\n",
    "#displayer.display_annotated_thumbnail(image, 0) # straight\n",
    "#displayer.display_annotated_thumbnail(image, 1) # left\n",
    "#displayer.display_annotated_thumbnail(image, 2) # right\n",
    "#displayer.display_annotated_thumbnail(image, 3) # invalid draws box"
   ]
  },
  {
   "cell_type": "code",
   "execution_count": null,
   "metadata": {},
   "outputs": [],
   "source": []
  }
 ],
 "metadata": {
  "kernelspec": {
   "display_name": "Python 3",
   "language": "python",
   "name": "python3"
  },
  "language_info": {
   "codemirror_mode": {
    "name": "ipython",
    "version": 3
   },
   "file_extension": ".py",
   "mimetype": "text/x-python",
   "name": "python",
   "nbconvert_exporter": "python",
   "pygments_lexer": "ipython3",
   "version": "3.5.2"
  }
 },
 "nbformat": 4,
 "nbformat_minor": 2
}
