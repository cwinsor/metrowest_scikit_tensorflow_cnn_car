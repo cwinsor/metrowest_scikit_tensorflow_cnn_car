{
 "cells": [
  {
   "cell_type": "code",
   "execution_count": 1,
   "metadata": {
    "collapsed": true
   },
   "outputs": [],
   "source": [
    "# Test the display library\n",
    "\n",
    "# force libraries to re-load every time - helpful during development\n",
    "%load_ext autoreload\n",
    "%autoreload 2"
   ]
  },
  {
   "cell_type": "code",
   "execution_count": 2,
   "metadata": {
    "collapsed": true
   },
   "outputs": [],
   "source": [
    "import sys\n",
    "sys.path.append('../lib')"
   ]
  },
  {
   "cell_type": "code",
   "execution_count": 3,
   "metadata": {
    "collapsed": true
   },
   "outputs": [],
   "source": [
    "from metrowestcar_file_io import FileReader\n",
    "\n",
    "from os import getcwd\n",
    "from os.path import abspath\n",
    "from os.path import join\n",
    "from os.path import exists"
   ]
  },
  {
   "cell_type": "code",
   "execution_count": 4,
   "metadata": {
    "collapsed": true
   },
   "outputs": [],
   "source": [
    "# creating a FileReader\n",
    "file_reader = FileReader(90, 180, 3)"
   ]
  },
  {
   "cell_type": "code",
   "execution_count": 8,
   "metadata": {
    "collapsed": true
   },
   "outputs": [],
   "source": [
    "dirpath = join(abspath(getcwd()), \"..\\\\data_geneostrat\\\\TrainingData\")\n",
    "\n",
    "\n",
    "# list of all steerings\n",
    "\n",
    "tracklist = [\n",
    "    \"120\",\n",
    "    \"121\",\n",
    "    \"122\",\n",
    "    \"124\",\n",
    "    \"125\",\n",
    "    \"R18CCW\",\n",
    "    \"R18CCW_V\",\n",
    "    \"R18CW\",\n",
    "    \"R18CW_V\",\n",
    "    \"R20CCW\",\n",
    "    \"R20CCW_V\",\n",
    "    \"R20CW\",\n",
    "    \"R20CW_V\",\n",
    "    \"R21CCW\",\n",
    "    \"R21CCW_V\",\n",
    "    \"R21CW\",\n",
    "    \"R21CW_V\",\n",
    "    \"R25CCW\",\n",
    "    \"R25CCW_V\",\n",
    "    \"R25CW\",\n",
    "    \"R25CW_V\",\n",
    "    \"STR1\",\n",
    "    \"STR1_V\",\n",
    "    \"STR2\",\n",
    "    \"STR2_V\",\n",
    "]\n",
    "\n",
    "\n",
    "\n",
    "tracklist = [\n",
    "  \n",
    "    \"R18CCW\",\n",
    "    \"R18CW\",\n",
    " \n",
    "]\n",
    "\n",
    "\n",
    "\n",
    "    "
   ]
  },
  {
   "cell_type": "code",
   "execution_count": 13,
   "metadata": {},
   "outputs": [
    {
     "name": "stdout",
     "output_type": "stream",
     "text": [
      "Track R18CCW\n",
      "# images = 369\n",
      "min =  17\n",
      "max =  145\n",
      "mean = 82.5474254743\n",
      "var n = 953.543143778\n",
      "std  = 30.8794939042\n"
     ]
    },
    {
     "data": {
      "image/png": "[encoded data removed]",
      "text/plain": [
       "<matplotlib.figure.Figure at 0x1e7fe6ede48>"
      ]
     },
     "metadata": {},
     "output_type": "display_data"
    },
    {
     "name": "stdout",
     "output_type": "stream",
     "text": [
      "continue(y/n)y\n"
     ]
    },
    {
     "ename": "AssertionError",
     "evalue": "the steering value is invalid (512),(0) --> C:\\Users\\Chris\\Documents\\scikit_tensorflow_metrowest_cnn_car\\metrowest_scikit_tensorflow_cnn_car\\project\\lib\\..\\data_geneostrat\\TrainingData\\R18CW\\steer\\R18CW_184.txt",
     "output_type": "error",
     "traceback": [
      "\u001b[1;31m---------------------------------------------------------------------------\u001b[0m",
      "\u001b[1;31mAssertionError\u001b[0m                            Traceback (most recent call last)",
      "\u001b[1;32m<ipython-input-13-83cb2cfb5496>\u001b[0m in \u001b[0;36m<module>\u001b[1;34m()\u001b[0m\n\u001b[0;32m     13\u001b[0m \u001b[1;33m\u001b[0m\u001b[0m\n\u001b[0;32m     14\u001b[0m \u001b[1;32mfor\u001b[0m \u001b[0mtrack\u001b[0m \u001b[1;32min\u001b[0m \u001b[0mtracklist\u001b[0m\u001b[1;33m:\u001b[0m\u001b[1;33m\u001b[0m\u001b[0m\n\u001b[1;32m---> 15\u001b[1;33m     \u001b[0mdata\u001b[0m \u001b[1;33m=\u001b[0m \u001b[0mfile_reader\u001b[0m\u001b[1;33m.\u001b[0m\u001b[0mread_steerings_from_directory\u001b[0m\u001b[1;33m(\u001b[0m\u001b[0mdirpath\u001b[0m\u001b[1;33m,\u001b[0m \u001b[0mtrack\u001b[0m\u001b[1;33m)\u001b[0m\u001b[1;33m\u001b[0m\u001b[0m\n\u001b[0m\u001b[0;32m     16\u001b[0m     \u001b[0mprint\u001b[0m\u001b[1;33m(\u001b[0m\u001b[1;34m\"Track \"\u001b[0m \u001b[1;33m+\u001b[0m \u001b[0mtrack\u001b[0m\u001b[1;33m)\u001b[0m\u001b[1;33m\u001b[0m\u001b[0m\n\u001b[0;32m     17\u001b[0m     \u001b[0mprint\u001b[0m\u001b[1;33m(\u001b[0m\u001b[1;34m\"# images = \"\u001b[0m \u001b[1;33m+\u001b[0m \u001b[0mstr\u001b[0m\u001b[1;33m(\u001b[0m\u001b[0mdata\u001b[0m\u001b[1;33m.\u001b[0m\u001b[0mshape\u001b[0m\u001b[1;33m[\u001b[0m\u001b[1;36m0\u001b[0m\u001b[1;33m]\u001b[0m\u001b[1;33m)\u001b[0m\u001b[1;33m)\u001b[0m\u001b[1;33m\u001b[0m\u001b[0m\n",
      "\u001b[1;32m~\\Documents\\scikit_tensorflow_metrowest_cnn_car\\metrowest_scikit_tensorflow_cnn_car\\project\\lib\\metrowestcar_file_io.py\u001b[0m in \u001b[0;36mread_steerings_from_directory\u001b[1;34m(self, dirpath, trackname)\u001b[0m\n\u001b[0;32m    111\u001b[0m     \u001b[1;32mdef\u001b[0m \u001b[0mread_steerings_from_directory\u001b[0m\u001b[1;33m(\u001b[0m\u001b[0mself\u001b[0m\u001b[1;33m,\u001b[0m \u001b[0mdirpath\u001b[0m\u001b[1;33m,\u001b[0m \u001b[0mtrackname\u001b[0m\u001b[1;33m)\u001b[0m\u001b[1;33m:\u001b[0m\u001b[1;33m\u001b[0m\u001b[0m\n\u001b[0;32m    112\u001b[0m         \u001b[0msamplenumbers\u001b[0m \u001b[1;33m=\u001b[0m \u001b[0mself\u001b[0m\u001b[1;33m.\u001b[0m\u001b[0m_get_sample_numbers\u001b[0m\u001b[1;33m(\u001b[0m\u001b[0mdirpath\u001b[0m\u001b[1;33m,\u001b[0m \u001b[0mtrackname\u001b[0m\u001b[1;33m)\u001b[0m\u001b[1;33m\u001b[0m\u001b[0m\n\u001b[1;32m--> 113\u001b[1;33m         \u001b[0msteerings\u001b[0m \u001b[1;33m=\u001b[0m \u001b[0mself\u001b[0m\u001b[1;33m.\u001b[0m\u001b[0mread_steerings_from_directory_given_samplenumbers\u001b[0m\u001b[1;33m(\u001b[0m\u001b[0mdirpath\u001b[0m\u001b[1;33m,\u001b[0m \u001b[0mtrackname\u001b[0m\u001b[1;33m,\u001b[0m \u001b[0msamplenumbers\u001b[0m\u001b[1;33m)\u001b[0m\u001b[1;33m\u001b[0m\u001b[0m\n\u001b[0m\u001b[0;32m    114\u001b[0m         \u001b[1;32mreturn\u001b[0m \u001b[0msteerings\u001b[0m\u001b[1;33m\u001b[0m\u001b[0m\n\u001b[0;32m    115\u001b[0m \u001b[1;33m\u001b[0m\u001b[0m\n",
      "\u001b[1;32m~\\Documents\\scikit_tensorflow_metrowest_cnn_car\\metrowest_scikit_tensorflow_cnn_car\\project\\lib\\metrowestcar_file_io.py\u001b[0m in \u001b[0;36mread_steerings_from_directory_given_samplenumbers\u001b[1;34m(self, dirpath, trackname, samplenumbers)\u001b[0m\n\u001b[0;32m    105\u001b[0m \u001b[1;33m\u001b[0m\u001b[0m\n\u001b[0;32m    106\u001b[0m         \u001b[1;32mfor\u001b[0m \u001b[0msnum\u001b[0m \u001b[1;32min\u001b[0m \u001b[0msamplenumbers\u001b[0m\u001b[1;33m:\u001b[0m\u001b[1;33m\u001b[0m\u001b[0m\n\u001b[1;32m--> 107\u001b[1;33m             \u001b[0msteering\u001b[0m \u001b[1;33m=\u001b[0m \u001b[0mself\u001b[0m\u001b[1;33m.\u001b[0m\u001b[0mread_steering_from_file_using_samplenumber\u001b[0m\u001b[1;33m(\u001b[0m\u001b[0mdirpath\u001b[0m\u001b[1;33m,\u001b[0m \u001b[0mtrackname\u001b[0m\u001b[1;33m,\u001b[0m \u001b[0msnum\u001b[0m\u001b[1;33m)\u001b[0m\u001b[1;33m\u001b[0m\u001b[0m\n\u001b[0m\u001b[0;32m    108\u001b[0m             \u001b[0mmy_steering\u001b[0m \u001b[1;33m=\u001b[0m \u001b[0mnp\u001b[0m\u001b[1;33m.\u001b[0m\u001b[0mappend\u001b[0m\u001b[1;33m(\u001b[0m\u001b[0mmy_steering\u001b[0m\u001b[1;33m,\u001b[0m \u001b[0msteering\u001b[0m\u001b[1;33m)\u001b[0m\u001b[1;33m\u001b[0m\u001b[0m\n\u001b[0;32m    109\u001b[0m         \u001b[1;32mreturn\u001b[0m \u001b[0mmy_steering\u001b[0m\u001b[1;33m\u001b[0m\u001b[0m\n",
      "\u001b[1;32m~\\Documents\\scikit_tensorflow_metrowest_cnn_car\\metrowest_scikit_tensorflow_cnn_car\\project\\lib\\metrowestcar_file_io.py\u001b[0m in \u001b[0;36mread_steering_from_file_using_samplenumber\u001b[1;34m(self, dirpath, trackname, samplenumber)\u001b[0m\n\u001b[0;32m     47\u001b[0m     \u001b[1;32mdef\u001b[0m \u001b[0mread_steering_from_file_using_samplenumber\u001b[0m\u001b[1;33m(\u001b[0m\u001b[0mself\u001b[0m\u001b[1;33m,\u001b[0m \u001b[0mdirpath\u001b[0m\u001b[1;33m,\u001b[0m \u001b[0mtrackname\u001b[0m\u001b[1;33m,\u001b[0m \u001b[0msamplenumber\u001b[0m\u001b[1;33m)\u001b[0m\u001b[1;33m:\u001b[0m\u001b[1;33m\u001b[0m\u001b[0m\n\u001b[0;32m     48\u001b[0m         \u001b[0mfilename\u001b[0m \u001b[1;33m=\u001b[0m \u001b[0mtrackname\u001b[0m \u001b[1;33m+\u001b[0m \u001b[1;34m\"_\"\u001b[0m \u001b[1;33m+\u001b[0m \u001b[0mstr\u001b[0m\u001b[1;33m(\u001b[0m\u001b[0msamplenumber\u001b[0m\u001b[1;33m)\u001b[0m \u001b[1;33m+\u001b[0m \u001b[1;34m'.txt'\u001b[0m\u001b[1;33m\u001b[0m\u001b[0m\n\u001b[1;32m---> 49\u001b[1;33m         \u001b[0msteering\u001b[0m \u001b[1;33m=\u001b[0m \u001b[0mself\u001b[0m\u001b[1;33m.\u001b[0m\u001b[0mread_steering_from_file\u001b[0m\u001b[1;33m(\u001b[0m\u001b[0mdirpath\u001b[0m\u001b[1;33m,\u001b[0m \u001b[0mtrackname\u001b[0m\u001b[1;33m,\u001b[0m \u001b[0mfilename\u001b[0m\u001b[1;33m)\u001b[0m\u001b[1;33m\u001b[0m\u001b[0m\n\u001b[0m\u001b[0;32m     50\u001b[0m         \u001b[1;32mreturn\u001b[0m \u001b[0msteering\u001b[0m\u001b[1;33m\u001b[0m\u001b[0m\n\u001b[0;32m     51\u001b[0m \u001b[1;33m\u001b[0m\u001b[0m\n",
      "\u001b[1;32m~\\Documents\\scikit_tensorflow_metrowest_cnn_car\\metrowest_scikit_tensorflow_cnn_car\\project\\lib\\metrowestcar_file_io.py\u001b[0m in \u001b[0;36mread_steering_from_file\u001b[1;34m(self, dirpath, trackname, filename)\u001b[0m\n\u001b[0;32m     42\u001b[0m             \u001b[0mline\u001b[0m \u001b[1;33m=\u001b[0m \u001b[0mfile\u001b[0m\u001b[1;33m.\u001b[0m\u001b[0mread\u001b[0m\u001b[1;33m(\u001b[0m\u001b[1;33m)\u001b[0m\u001b[1;33m\u001b[0m\u001b[0m\n\u001b[0;32m     43\u001b[0m             \u001b[0mvalue\u001b[0m \u001b[1;33m=\u001b[0m \u001b[0mnp\u001b[0m\u001b[1;33m.\u001b[0m\u001b[0muint8\u001b[0m\u001b[1;33m(\u001b[0m\u001b[0mline\u001b[0m\u001b[1;33m)\u001b[0m\u001b[1;33m\u001b[0m\u001b[0m\n\u001b[1;32m---> 44\u001b[1;33m             \u001b[1;32massert\u001b[0m \u001b[1;33m(\u001b[0m\u001b[0mvalue\u001b[0m \u001b[1;33m>\u001b[0m \u001b[1;36m0\u001b[0m\u001b[1;33m)\u001b[0m \u001b[1;33m&\u001b[0m \u001b[1;33m(\u001b[0m\u001b[0mvalue\u001b[0m \u001b[1;33m<\u001b[0m \u001b[1;36m800\u001b[0m\u001b[1;33m)\u001b[0m\u001b[1;33m,\u001b[0m \u001b[1;34m\"the steering value is invalid (\"\u001b[0m \u001b[1;33m+\u001b[0m \u001b[0mline\u001b[0m \u001b[1;33m+\u001b[0m \u001b[1;34m\"),(\"\u001b[0m \u001b[1;33m+\u001b[0m \u001b[0mstr\u001b[0m\u001b[1;33m(\u001b[0m\u001b[0mvalue\u001b[0m\u001b[1;33m)\u001b[0m \u001b[1;33m+\u001b[0m \u001b[1;34m\") --> \"\u001b[0m \u001b[1;33m+\u001b[0m \u001b[0mfullpath\u001b[0m\u001b[1;33m\u001b[0m\u001b[0m\n\u001b[0m\u001b[0;32m     45\u001b[0m             \u001b[1;32mreturn\u001b[0m \u001b[0mvalue\u001b[0m\u001b[1;33m\u001b[0m\u001b[0m\n\u001b[0;32m     46\u001b[0m \u001b[1;33m\u001b[0m\u001b[0m\n",
      "\u001b[1;31mAssertionError\u001b[0m: the steering value is invalid (512),(0) --> C:\\Users\\Chris\\Documents\\scikit_tensorflow_metrowest_cnn_car\\metrowest_scikit_tensorflow_cnn_car\\project\\lib\\..\\data_geneostrat\\TrainingData\\R18CW\\steer\\R18CW_184.txt"
     ]
    }
   ],
   "source": [
    "\n",
    "\n",
    "# investigate each track a little bit\n",
    "# reference  http://benalexkeen.com/comparative-statistics-in-python-using-scipy/\n",
    "\n",
    "import numpy as np\n",
    "from scipy import stats\n",
    "\n",
    "import matplotlib\n",
    "import matplotlib.pyplot as plt\n",
    "%matplotlib inline\n",
    "matplotlib.style.use('ggplot')\n",
    "\n",
    "for track in tracklist:\n",
    "    data = file_reader.read_steerings_from_directory(dirpath, track)\n",
    "    print(\"Track \" + track)\n",
    "    print(\"# images = \" + str(data.shape[0]))\n",
    "    print(\"min =  \" + str(np.min(data)))\n",
    "    print(\"max =  \" + str(np.max(data)))\n",
    "    print(\"mean = \" + str(np.mean(data)))\n",
    "    print(\"var n = \" + str(np.var(data)))\n",
    "    print(\"std  = \" + str(np.std(data)))\n",
    "\n",
    "    plt.hist(data, bins=10, range=(0,1000), edgecolor='black')\n",
    "    plt.show()\n",
    "    \n",
    "    text = input(\"continue(y/n)\")\n",
    "    if (text != \"y\"):\n",
    "        break\n",
    "\n",
    "\n",
    "\n"
   ]
  },
  {
   "cell_type": "code",
   "execution_count": 17,
   "metadata": {},
   "outputs": [
    {
     "name": "stdout",
     "output_type": "stream",
     "text": [
      "1\n"
     ]
    }
   ],
   "source": [
    "line = \"513\"\n",
    "value = np.uint32(line)\n",
    "assert (value > 0) & (value < 800), \"the steering value is invalid (\" + str(value)\n",
    "print(value)"
   ]
  },
  {
   "cell_type": "code",
   "execution_count": null,
   "metadata": {
    "collapsed": true
   },
   "outputs": [],
   "source": []
  }
 ],
 "metadata": {
  "kernelspec": {
   "display_name": "Python 3",
   "language": "python",
   "name": "python3"
  },
  "language_info": {
   "codemirror_mode": {
    "name": "ipython",
    "version": 3
   },
   "file_extension": ".py",
   "mimetype": "text/x-python",
   "name": "python",
   "nbconvert_exporter": "python",
   "pygments_lexer": "ipython3",
   "version": "3.6.3"
  }
 },
 "nbformat": 4,
 "nbformat_minor": 2
}
