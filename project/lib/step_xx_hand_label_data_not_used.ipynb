{
 "cells": [
  {
   "cell_type": "markdown",
   "metadata": {},
   "source": [
    "# hand-labeling steering values (constructing Dataset 2)\n",
    "\n",
    "```\n",
    "Construct the dataset 2.\n",
    "This dataset uses the same raw images, but steering values are manually assigned\n",
    "after images have been captured.\n",
    "\n",
    "This involves\n",
    "loading the original dataset from pickle file\n",
    "iterating through the images\n",
    "    display the image\n",
    "    capture a user keystroke indicating left, center, right (or none of the above)\n",
    "```"
   ]
  },
  {
   "cell_type": "code",
   "execution_count": 1,
   "metadata": {
    "collapsed": true
   },
   "outputs": [],
   "source": [
    "# force libraries to re-load every time - helpful during development\n",
    "%load_ext autoreload\n",
    "%autoreload 2"
   ]
  },
  {
   "cell_type": "code",
   "execution_count": 2,
   "metadata": {
    "collapsed": true
   },
   "outputs": [],
   "source": [
    "import sys\n",
    "sys.path.append('../lib')"
   ]
  },
  {
   "cell_type": "code",
   "execution_count": 3,
   "metadata": {},
   "outputs": [
    {
     "data": {
      "text/plain": [
       "'/home/chris/Documents/projects_scikit_tensorflow/metrowest_scikit_tensorflow_cnn_car/lib/../data_raw_2'"
      ]
     },
     "execution_count": 3,
     "metadata": {},
     "output_type": "execute_result"
    }
   ],
   "source": [
    "# copy the original raw_data into raw_data_2\n",
    "import os\n",
    "from os import getcwd\n",
    "from os.path import abspath\n",
    "from shutil import copytree, rmtree\n",
    "\n",
    "src_tree = os.path.join(abspath(getcwd()), \"../data/pictures_test\")\n",
    "dst_tree = os.path.join(abspath(getcwd()), \"../data_raw_2\")\n",
    "\n",
    "rmtree(dst_tree)\n",
    "copytree(src_tree, dst_tree)    "
   ]
  },
  {
   "cell_type": "code",
   "execution_count": 4,
   "metadata": {
    "collapsed": true
   },
   "outputs": [],
   "source": [
    "# delete the \"control\" files\n",
    "import os\n",
    "import glob\n",
    "rm_files = glob.glob(os.path.join(dst_tree, \"control*\"))\n",
    "for f in rm_files:\n",
    "    os.remove(f)"
   ]
  },
  {
   "cell_type": "code",
   "execution_count": 7,
   "metadata": {},
   "outputs": [
    {
     "name": "stdout",
     "output_type": "stream",
     "text": [
      "done\n"
     ]
    }
   ],
   "source": [
    "# reference https://www.python-course.eu/python_tkinter.php\n",
    "\n",
    "import tkinter as tk\n",
    "from PIL import Image, ImageTk\n",
    "import re\n",
    "\n",
    "image_files = glob.glob(os.path.join(dst_tree, \"image*\"))\n",
    "num_images = len(image_files)\n",
    "inum = -1\n",
    "\n",
    "\n",
    "def post_and_update(msg):\n",
    "    #print(\"%d %s\" % (inum, msg))\n",
    "\n",
    "    image_fn = image_files[inum]\n",
    "    control_fn = re.sub(\"image\",\"control\",image_fn)\n",
    "    control_fn = re.sub(\".jpg\",\"\",control_fn)\n",
    "    #print(control_fn)\n",
    "    \n",
    "    if msg == \"left\":\n",
    "        code = \"01\"\n",
    "    elif msg == \"straight\":\n",
    "        code = \"11\"\n",
    "    elif msg == \"right\":\n",
    "        code = \"10\"\n",
    "    else:\n",
    "        code = \"00\"\n",
    "        \n",
    "    fhandle = open(control_fn, 'w')\n",
    "    fhandle.write(code)\n",
    "    fhandle.close()\n",
    "    \n",
    "    update()\n",
    "\n",
    "def update():\n",
    "    global inum\n",
    "    inum += 1\n",
    "    if inum >= num_images:\n",
    "        print(\"last image - gonna exit now...\")\n",
    "        root.destroy()\n",
    "        return\n",
    "    im2 = Image.open(image_files[inum])\n",
    "    im2 = im2.resize((250, 250), Image.ANTIALIAS) \n",
    "    ph2 = ImageTk.PhotoImage(im2)\n",
    "    label.image = ph2 # keep a reference!\n",
    "    label.configure(image=ph2)\n",
    "\n",
    "def do_left():\n",
    "    post_and_update(\"left\")\n",
    "def do_straight():\n",
    "    post_and_update(\"straight\")\n",
    "def do_right():\n",
    "    post_and_update(\"right\")\n",
    "def do_unknown():\n",
    "    post_and_update(\"unknown\")\n",
    "    \n",
    "root = tk.Tk()\n",
    "\n",
    "label = tk.Label(root)\n",
    "\n",
    "buttonL = tk.Button(root, \n",
    "                   text=\"LEFT\", \n",
    "                   command=do_left)\n",
    "buttonS = tk.Button(root, \n",
    "                   text=\"STRAIGHT\", \n",
    "                   command=do_straight)\n",
    "buttonR = tk.Button(root, \n",
    "                   text=\"RIGHT\", \n",
    "                   command=do_right)\n",
    "buttonU = tk.Button(root, \n",
    "                   text=\"UNKOWN\", \n",
    "                   command=do_unknown)\n",
    "buttonQ = tk.Button(root, \n",
    "                   text=\"QUIT\", \n",
    "                   command=root.destroy)\n",
    "\n",
    "buttonL.pack(side=tk.LEFT)\n",
    "buttonS.pack(side=tk.LEFT)\n",
    "buttonR.pack(side=tk.LEFT)\n",
    "buttonU.pack(side=tk.BOTTOM, anchor=tk.W, fill=tk.X, expand=tk.YES)\n",
    "label.pack(side=tk.BOTTOM, anchor=tk.W, fill=tk.X, expand=tk.YES)\n",
    "buttonQ.pack(side=tk.BOTTOM, anchor=tk.W, fill=tk.X, expand=tk.YES)\n",
    "\n",
    "\n",
    "update()\n",
    "\n",
    "root.mainloop()\n",
    "print(\"done\")"
   ]
  },
  {
   "cell_type": "code",
   "execution_count": null,
   "metadata": {
    "collapsed": true
   },
   "outputs": [],
   "source": []
  },
  {
   "cell_type": "code",
   "execution_count": null,
   "metadata": {
    "collapsed": true
   },
   "outputs": [],
   "source": []
  }
 ],
 "metadata": {
  "kernelspec": {
   "display_name": "Python 3",
   "language": "python",
   "name": "python3"
  },
  "language_info": {
   "codemirror_mode": {
    "name": "ipython",
    "version": 3
   },
   "file_extension": ".py",
   "mimetype": "text/x-python",
   "name": "python",
   "nbconvert_exporter": "python",
   "pygments_lexer": "ipython3",
   "version": "3.6.3"
  }
 },
 "nbformat": 4,
 "nbformat_minor": 2
}
