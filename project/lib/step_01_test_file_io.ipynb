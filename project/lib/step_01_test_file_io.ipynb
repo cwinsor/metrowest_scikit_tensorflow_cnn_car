{
 "cells": [
  {
   "cell_type": "code",
   "execution_count": 1,
   "metadata": {},
   "outputs": [],
   "source": [
    "# Test the file_io library\n",
    "\n",
    "# force libraries to re-load every time - helpful during development\n",
    "%load_ext autoreload\n",
    "%autoreload 2"
   ]
  },
  {
   "cell_type": "code",
   "execution_count": 2,
   "metadata": {},
   "outputs": [],
   "source": [
    "import sys\n",
    "sys.path.append('../lib')"
   ]
  },
  {
   "cell_type": "code",
   "execution_count": 3,
   "metadata": {},
   "outputs": [],
   "source": [
    "from metrowestcar_file_io import FileReader\n",
    "\n",
    "from os import getcwd\n",
    "from os.path import abspath\n",
    "from os.path import join\n",
    "from os.path import exists"
   ]
  },
  {
   "cell_type": "code",
   "execution_count": 6,
   "metadata": {},
   "outputs": [],
   "source": [
    "# creating a FileReader\n",
    "import my_globals as myg\n",
    "file_reader = FileReader(myg.IMAGE_H, myg.IMAGE_W, myg.IMAGE_D)"
   ]
  },
  {
   "cell_type": "code",
   "execution_count": 9,
   "metadata": {},
   "outputs": [],
   "source": [
    "dirpath = join(abspath(getcwd()), \"..\\data_raw_geneostrat_samples\\pictures_test\")    \n",
    "trackname = \"R21CW\"\n",
    "samplenumber = \"0\""
   ]
  },
  {
   "cell_type": "code",
   "execution_count": 10,
   "metadata": {},
   "outputs": [
    {
     "name": "stdout",
     "output_type": "stream",
     "text": [
      "<class 'numpy.ndarray'>\n",
      "(90, 180, 3)\n",
      "<class 'numpy.uint8'>\n"
     ]
    }
   ],
   "source": [
    "# reading an image file\n",
    "filename = trackname + \"_\" + samplenumber + \".jpg\"\n",
    "image = file_reader.read_image_from_file(dirpath, trackname, filename)\n",
    "\n",
    "print(type(image))\n",
    "print(image.shape)\n",
    "print(type(image[0][0][0]))"
   ]
  },
  {
   "cell_type": "code",
   "execution_count": 11,
   "metadata": {},
   "outputs": [
    {
     "name": "stdout",
     "output_type": "stream",
     "text": [
      "<class 'numpy.ndarray'>\n",
      "(90, 180, 3)\n",
      "<class 'numpy.uint8'>\n"
     ]
    }
   ],
   "source": [
    "# reading an image file using sample number\n",
    "image = file_reader.read_image_from_file_using_samplenumber(dirpath, trackname, samplenumber)\n",
    "\n",
    "print(type(image))\n",
    "print(image.shape)\n",
    "print(type(image[0][0][0]))"
   ]
  },
  {
   "cell_type": "code",
   "execution_count": 12,
   "metadata": {},
   "outputs": [
    {
     "name": "stdout",
     "output_type": "stream",
     "text": [
      "<class 'numpy.uint32'>\n",
      "400\n"
     ]
    }
   ],
   "source": [
    "# reading a steering file\n",
    "filename = trackname + \"_\" + samplenumber + \".txt\"\n",
    "steering = file_reader.read_steering_from_file(dirpath, trackname, filename)\n",
    "\n",
    "print(type(steering))\n",
    "print(steering)"
   ]
  },
  {
   "cell_type": "code",
   "execution_count": 13,
   "metadata": {},
   "outputs": [
    {
     "name": "stdout",
     "output_type": "stream",
     "text": [
      "<class 'numpy.uint32'>\n",
      "400\n"
     ]
    }
   ],
   "source": [
    "# reading a steering using sample number\n",
    "steering = file_reader.read_steering_from_file_using_samplenumber(dirpath, trackname, samplenumber)\n",
    "\n",
    "print(type(steering))\n",
    "print(steering)"
   ]
  },
  {
   "cell_type": "code",
   "execution_count": 14,
   "metadata": {},
   "outputs": [
    {
     "name": "stdout",
     "output_type": "stream",
     "text": [
      "['0', '1', '10', '11', '12', '2', '3', '4', '5', '6', '7', '8', '9']\n"
     ]
    }
   ],
   "source": [
    "# getting a list of sample numbers from a directory\n",
    "\n",
    "samplenumbers = file_reader._get_sample_numbers(dirpath, trackname)\n",
    "print(samplenumbers)"
   ]
  },
  {
   "cell_type": "code",
   "execution_count": 15,
   "metadata": {},
   "outputs": [
    {
     "name": "stdout",
     "output_type": "stream",
     "text": [
      "<class 'numpy.ndarray'>\n",
      "(13, 90, 180, 3)\n",
      "<class 'numpy.uint8'>\n"
     ]
    }
   ],
   "source": [
    "# using the list of file numbers to get images\n",
    "# this returns a 4-d numpy array indexed as\n",
    "# [image#][height][width][RGB]\n",
    "\n",
    "image_array = file_reader.read_images_from_directory_given_samplenumbers(dirpath, trackname, samplenumbers)\n",
    "print(type(image_array))\n",
    "print(image_array.shape)\n",
    "print(type(image_array[0][0][0][0]))"
   ]
  },
  {
   "cell_type": "code",
   "execution_count": 16,
   "metadata": {},
   "outputs": [
    {
     "name": "stdout",
     "output_type": "stream",
     "text": [
      "<class 'numpy.ndarray'>\n",
      "(13, 90, 180, 3)\n",
      "<class 'numpy.uint8'>\n"
     ]
    }
   ],
   "source": [
    "# reading all images given a directory\n",
    "image_array = file_reader.read_images_from_directory(dirpath, trackname)\n",
    "print(type(image_array))\n",
    "print(image_array.shape)\n",
    "print(type(image_array[0][0][0][0]))"
   ]
  },
  {
   "cell_type": "code",
   "execution_count": 17,
   "metadata": {},
   "outputs": [
    {
     "name": "stdout",
     "output_type": "stream",
     "text": [
      "loading images from C:\\Users\\Chris\\Documents\\scikit_tensorflow_metrowest_cnn_car\\metrowest_scikit_tensorflow_cnn_car\\project\\lib\\..\\data_raw_geneostrat\\pictures_test\\R21CW\n",
      "loading images from C:\\Users\\Chris\\Documents\\scikit_tensorflow_metrowest_cnn_car\\metrowest_scikit_tensorflow_cnn_car\\project\\lib\\..\\data_raw_geneostrat\\pictures_test\\R21CW\n",
      "<class 'numpy.ndarray'>\n",
      "(26, 90, 180, 3)\n",
      "<class 'numpy.uint8'>\n"
     ]
    }
   ],
   "source": [
    "# reading all images given a list of track names\n",
    "# here I read the same track\n",
    "\n",
    "tracklist = [\n",
    "    trackname,\n",
    "    trackname,\n",
    "]\n",
    "\n",
    "image_array = file_reader.read_images_from_list_of_tracks(dirpath, tracklist)\n",
    "print(type(image_array))\n",
    "print(image_array.shape)    \n",
    "print(type(image_array[0][0][0][0]))"
   ]
  },
  {
   "cell_type": "code",
   "execution_count": 18,
   "metadata": {},
   "outputs": [
    {
     "name": "stdout",
     "output_type": "stream",
     "text": [
      "<class 'numpy.ndarray'>\n",
      "(13,)\n",
      "<class 'numpy.uint32'>\n"
     ]
    }
   ],
   "source": [
    "# using the list of file numbers to get steerings\n",
    "# this returns a 1-d numpy array indexed as\n",
    "# [steering#]\n",
    "\n",
    "steering_array = file_reader.read_steerings_from_directory_given_samplenumbers(dirpath, trackname, samplenumbers)\n",
    "print(type(steering_array))\n",
    "print(steering_array.shape)\n",
    "print(type(steering_array[0]))"
   ]
  },
  {
   "cell_type": "code",
   "execution_count": 19,
   "metadata": {},
   "outputs": [
    {
     "name": "stdout",
     "output_type": "stream",
     "text": [
      "<class 'numpy.ndarray'>\n",
      "(13,)\n"
     ]
    }
   ],
   "source": [
    "# reading all steerings given a directory\n",
    "steering_array = file_reader.read_steerings_from_directory(dirpath, trackname)\n",
    "print(type(steering_array))\n",
    "print(steering_array.shape)"
   ]
  },
  {
   "cell_type": "code",
   "execution_count": 20,
   "metadata": {},
   "outputs": [
    {
     "name": "stdout",
     "output_type": "stream",
     "text": [
      "loading steerings from C:\\Users\\Chris\\Documents\\scikit_tensorflow_metrowest_cnn_car\\metrowest_scikit_tensorflow_cnn_car\\project\\lib\\..\\data_raw_geneostrat\\pictures_test\\R21CW\n",
      "loading steerings from C:\\Users\\Chris\\Documents\\scikit_tensorflow_metrowest_cnn_car\\metrowest_scikit_tensorflow_cnn_car\\project\\lib\\..\\data_raw_geneostrat\\pictures_test\\R21CW\n",
      "<class 'numpy.ndarray'>\n",
      "(26,)\n"
     ]
    }
   ],
   "source": [
    "# reading all steerings given a list of track names\n",
    "\n",
    "tracklist = [\n",
    "    trackname,\n",
    "    trackname,\n",
    "]\n",
    "\n",
    "steering_array = file_reader.read_steerings_from_list_of_tracks(dirpath, tracklist)\n",
    "     \n",
    "print(type(steering_array))\n",
    "print(steering_array.shape)  "
   ]
  },
  {
   "cell_type": "code",
   "execution_count": null,
   "metadata": {
    "collapsed": true
   },
   "outputs": [],
   "source": []
  }
 ],
 "metadata": {
  "kernelspec": {
   "display_name": "Python 3",
   "language": "python",
   "name": "python3"
  },
  "language_info": {
   "codemirror_mode": {
    "name": "ipython",
    "version": 3
   },
   "file_extension": ".py",
   "mimetype": "text/x-python",
   "name": "python",
   "nbconvert_exporter": "python",
   "pygments_lexer": "ipython3",
   "version": "3.6.3"
  }
 },
 "nbformat": 4,
 "nbformat_minor": 2
}
