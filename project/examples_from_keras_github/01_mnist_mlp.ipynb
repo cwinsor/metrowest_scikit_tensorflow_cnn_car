{
 "cells": [
  {
   "cell_type": "markdown",
   "metadata": {},
   "source": [
    "# MNIST \"DNN\" (Deep Neural Network)\n",
    "```\n",
    "Reference:\n",
    "https://github.com/keras-team/keras/blob/master/examples/mnist_mlp.py\n",
    "\n",
    "Dataset\n",
    "MNIST - full-image classification - handwritten digits in black/white\n",
    "The input image is 784 (black/white)\n",
    "The output is 10 classes (categorical)\n",
    "Training is 60K images, test is 10K images.\n",
    "\n",
    "Model:\n",
    "DNN (deep) rather than a CNN.\n",
    "Image is input flattened\n",
    "650K parameters\n",
    "\n",
    "Training Time:\n",
    "I get 60 sec/epoch so their K520GPU is 30 times faster\n",
    "Estimated time on my laptop = 20 minutes\n",
    "\n",
    "```"
   ]
  },
  {
   "cell_type": "code",
   "execution_count": 1,
   "metadata": {},
   "outputs": [
    {
     "name": "stdout",
     "output_type": "stream",
     "text": [
      "b'Hello, TensorFlow!'\n"
     ]
    }
   ],
   "source": [
    "# sanity check\n",
    "import tensorflow as tf\n",
    "hello = tf.constant('Hello, TensorFlow!')\n",
    "sess = tf.Session()\n",
    "print(sess.run(hello))\n"
   ]
  },
  {
   "cell_type": "code",
   "execution_count": 2,
   "metadata": {},
   "outputs": [
    {
     "name": "stderr",
     "output_type": "stream",
     "text": [
      "Using TensorFlow backend.\n"
     ]
    },
    {
     "name": "stdout",
     "output_type": "stream",
     "text": [
      "Downloading data from https://s3.amazonaws.com/img-datasets/mnist.npz\n",
      "11493376/11490434 [==============================] - 1s 0us/step\n",
      "60000 train samples\n",
      "10000 test samples\n",
      "_________________________________________________________________\n",
      "Layer (type)                 Output Shape              Param #   \n",
      "=================================================================\n",
      "dense_1 (Dense)              (None, 512)               401920    \n",
      "_________________________________________________________________\n",
      "dropout_1 (Dropout)          (None, 512)               0         \n",
      "_________________________________________________________________\n",
      "dense_2 (Dense)              (None, 512)               262656    \n",
      "_________________________________________________________________\n",
      "dropout_2 (Dropout)          (None, 512)               0         \n",
      "_________________________________________________________________\n",
      "dense_3 (Dense)              (None, 10)                5130      \n",
      "=================================================================\n",
      "Total params: 669,706\n",
      "Trainable params: 669,706\n",
      "Non-trainable params: 0\n",
      "_________________________________________________________________\n",
      "None\n"
     ]
    }
   ],
   "source": [
    "'''Trains a simple deep NN on the MNIST dataset.\n",
    "Gets to 98.40% test accuracy after 20 epochs\n",
    "(there is *a lot* of margin for parameter tuning).\n",
    "2 seconds per epoch on a K520 GPU.\n",
    "'''\n",
    "\n",
    "from __future__ import print_function\n",
    "\n",
    "import keras\n",
    "from keras.datasets import mnist\n",
    "from keras.models import Sequential\n",
    "from keras.layers import Dense, Dropout\n",
    "from keras.optimizers import RMSprop\n",
    "\n",
    "batch_size = 128\n",
    "num_classes = 10\n",
    "epochs = 20\n",
    "\n",
    "# the data, split between train and test sets\n",
    "(x_train, y_train), (x_test, y_test) = mnist.load_data()\n",
    "\n",
    "x_train = x_train.reshape(60000, 784)\n",
    "x_test = x_test.reshape(10000, 784)\n",
    "x_train = x_train.astype('float32')\n",
    "x_test = x_test.astype('float32')\n",
    "x_train /= 255\n",
    "x_test /= 255\n",
    "print(x_train.shape[0], 'train samples')\n",
    "print(x_test.shape[0], 'test samples')\n",
    "\n",
    "# convert class vectors to binary class matrices\n",
    "y_train = keras.utils.to_categorical(y_train, num_classes)\n",
    "y_test = keras.utils.to_categorical(y_test, num_classes)\n",
    "\n",
    "model = Sequential()\n",
    "model.add(Dense(512, activation='relu', input_shape=(784,)))\n",
    "model.add(Dropout(0.2))\n",
    "model.add(Dense(512, activation='relu'))\n",
    "model.add(Dropout(0.2))\n",
    "model.add(Dense(num_classes, activation='softmax'))\n",
    "\n",
    "print(model.summary())\n"
   ]
  },
  {
   "cell_type": "code",
   "execution_count": 3,
   "metadata": {},
   "outputs": [
    {
     "name": "stdout",
     "output_type": "stream",
     "text": [
      "Train on 60000 samples, validate on 10000 samples\n",
      "Epoch 1/20\n",
      "60000/60000 [==============================] - 25s 415us/step - loss: 0.2463 - acc: 0.9248 - val_loss: 0.1182 - val_acc: 0.9631\n",
      "Epoch 2/20\n",
      "60000/60000 [==============================] - 27s 444us/step - loss: 0.1046 - acc: 0.9679 - val_loss: 0.1160 - val_acc: 0.9644\n",
      "Epoch 3/20\n",
      "60000/60000 [==============================] - 23s 375us/step - loss: 0.0757 - acc: 0.9777 - val_loss: 0.0893 - val_acc: 0.9717\n",
      "Epoch 4/20\n",
      "60000/60000 [==============================] - 23s 387us/step - loss: 0.0596 - acc: 0.9817 - val_loss: 0.0737 - val_acc: 0.9803\n",
      "Epoch 5/20\n",
      "60000/60000 [==============================] - 22s 371us/step - loss: 0.0519 - acc: 0.9843 - val_loss: 0.0705 - val_acc: 0.9809\n",
      "Epoch 6/20\n",
      "60000/60000 [==============================] - 23s 386us/step - loss: 0.0441 - acc: 0.9869 - val_loss: 0.0782 - val_acc: 0.9786\n",
      "Epoch 7/20\n",
      "60000/60000 [==============================] - 23s 391us/step - loss: 0.0381 - acc: 0.9888 - val_loss: 0.0818 - val_acc: 0.9807\n",
      "Epoch 8/20\n",
      "60000/60000 [==============================] - 25s 422us/step - loss: 0.0326 - acc: 0.9904 - val_loss: 0.0807 - val_acc: 0.9837\n",
      "Epoch 9/20\n",
      "60000/60000 [==============================] - 23s 384us/step - loss: 0.0325 - acc: 0.9906 - val_loss: 0.0820 - val_acc: 0.9828\n",
      "Epoch 10/20\n",
      "60000/60000 [==============================] - 25s 414us/step - loss: 0.0282 - acc: 0.9921 - val_loss: 0.0939 - val_acc: 0.9829\n",
      "Epoch 11/20\n",
      "60000/60000 [==============================] - 27s 448us/step - loss: 0.0262 - acc: 0.9924 - val_loss: 0.0835 - val_acc: 0.9826\n",
      "Epoch 12/20\n",
      "60000/60000 [==============================] - 25s 424us/step - loss: 0.0252 - acc: 0.9928 - val_loss: 0.1092 - val_acc: 0.9805\n",
      "Epoch 13/20\n",
      "60000/60000 [==============================] - 23s 384us/step - loss: 0.0231 - acc: 0.9935 - val_loss: 0.0977 - val_acc: 0.9824\n",
      "Epoch 14/20\n",
      "60000/60000 [==============================] - 26s 441us/step - loss: 0.0219 - acc: 0.9939 - val_loss: 0.1029 - val_acc: 0.9823\n",
      "Epoch 15/20\n",
      "60000/60000 [==============================] - 22s 369us/step - loss: 0.0218 - acc: 0.9941 - val_loss: 0.1152 - val_acc: 0.9808c: 0.9\n",
      "Epoch 16/20\n",
      "60000/60000 [==============================] - 20s 337us/step - loss: 0.0205 - acc: 0.9944 - val_loss: 0.1042 - val_acc: 0.9826\n",
      "Epoch 17/20\n",
      "60000/60000 [==============================] - 20s 333us/step - loss: 0.0200 - acc: 0.9950 - val_loss: 0.1055 - val_acc: 0.9846\n",
      "Epoch 18/20\n",
      "60000/60000 [==============================] - 21s 352us/step - loss: 0.0190 - acc: 0.9955 - val_loss: 0.1010 - val_acc: 0.9848\n",
      "Epoch 19/20\n",
      "60000/60000 [==============================] - 20s 339us/step - loss: 0.0194 - acc: 0.9953 - val_loss: 0.1115 - val_acc: 0.9811\n",
      "Epoch 20/20\n",
      "60000/60000 [==============================] - 20s 330us/step - loss: 0.0181 - acc: 0.9951 - val_loss: 0.1154 - val_acc: 0.9830\n",
      "Test loss: 0.11539484615623632\n",
      "Test accuracy: 0.983\n"
     ]
    }
   ],
   "source": [
    "\n",
    "model.compile(loss='categorical_crossentropy',\n",
    "              optimizer=RMSprop(),\n",
    "              metrics=['accuracy'])\n",
    "\n",
    "history = model.fit(x_train, y_train,\n",
    "                    batch_size=batch_size,\n",
    "                    epochs=epochs,\n",
    "                    verbose=1,\n",
    "                    validation_data=(x_test, y_test))\n",
    "score = model.evaluate(x_test, y_test, verbose=0)\n",
    "print('Test loss:', score[0])\n",
    "print('Test accuracy:', score[1])"
   ]
  },
  {
   "cell_type": "code",
   "execution_count": null,
   "metadata": {
    "collapsed": true
   },
   "outputs": [],
   "source": []
  }
 ],
 "metadata": {
  "kernelspec": {
   "display_name": "Python 3",
   "language": "python",
   "name": "python3"
  },
  "language_info": {
   "codemirror_mode": {
    "name": "ipython",
    "version": 3
   },
   "file_extension": ".py",
   "mimetype": "text/x-python",
   "name": "python",
   "nbconvert_exporter": "python",
   "pygments_lexer": "ipython3",
   "version": "3.6.3"
  }
 },
 "nbformat": 4,
 "nbformat_minor": 2
}
