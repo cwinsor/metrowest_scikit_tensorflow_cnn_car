{
 "cells": [
  {
   "cell_type": "markdown",
   "metadata": {},
   "source": [
    "# Metrowest machine learning self-driving car\n",
    "```\n",
    "The project is a self-driving car.\n",
    "This notebook trains the the CNN.\n",
    "Refer to the .pdf for details\n",
    "  \n",
    "Much of this is taken from Kiras CIFAR-10 example - see reference.\n",
    "\n",
    "References:\n",
    "https://github.com/keras-team/keras/blob/master/examples/cifar10_cnn.py\n",
    "https://www.meetup.com/Natick-Artificial-Intelligence-Meetup/\n",
    "https://github.com/experiencor.self-driving-toy-car/\n",
    "http://vision.stanford.edu/teaching/cs231n/\n",
    "https://www.tensorflow.org/\n",
    "```"
   ]
  },
  {
   "cell_type": "code",
   "execution_count": null,
   "metadata": {},
   "outputs": [],
   "source": [
    "# force libraries to re-load every time - helpful during development\n",
    "%load_ext autoreload\n",
    "%autoreload 2"
   ]
  },
  {
   "cell_type": "code",
   "execution_count": null,
   "metadata": {},
   "outputs": [],
   "source": [
    "import sys\n",
    "sys.path.append('../lib')"
   ]
  },
  {
   "cell_type": "markdown",
   "metadata": {},
   "source": [
    "# Data Loading"
   ]
  },
  {
   "cell_type": "code",
   "execution_count": null,
   "metadata": {},
   "outputs": [],
   "source": [
    "from metrowestcar_dataset import Dataset\n",
    "dataset = Dataset.data()\n"
   ]
  },
  {
   "cell_type": "code",
   "execution_count": 43,
   "metadata": {},
   "outputs": [
    {
     "name": "stdout",
     "output_type": "stream",
     "text": [
      "x_train before:<class 'numpy.uint8'>\n",
      "x_train after: <class 'numpy.float32'>\n",
      "y_train before <class 'numpy.ndarray'> (54,) <class 'numpy.uint8'>\n",
      "y_train after  <class 'numpy.ndarray'> (54, 3)<class 'numpy.float32'>\n"
     ]
    }
   ],
   "source": [
    "\n",
    "num_classes = 3\n",
    "\n",
    "# input image dimensions\n",
    "img_rows, img_cols = 64, 64\n",
    "input_shape = (1, img_rows, img_cols)\n",
    "\n",
    "# the data, split between train and test sets\n",
    "dataset = Dataset.data()\n",
    "x_train_raw = dataset['images_train']\n",
    "x_test_raw  = dataset['images_test']\n",
    "y_train_raw = dataset['steering_train']\n",
    "y_test_raw  = dataset['steering_test']\n",
    "\n",
    "# dataset is uint8 but Kiras expects float - do this conversion\n",
    "# also - convert class vectors to binary (1-hot) encoded array\n",
    "\n",
    "x_train = x_train_raw.astype('float32')\n",
    "x_test = x_test_raw.astype('float32')\n",
    "x_train /= 255\n",
    "x_test /= 255\n",
    "\n",
    "y_train = keras.utils.to_categorical(y_train_raw, num_classes)\n",
    "y_test = keras.utils.to_categorical(y_test_raw, num_classes)\n",
    "\n",
    "print(\"x_train before:\" + str(type(x_train_raw[0][0][0][0])))\n",
    "print(\"x_train after: \" + str(type(x_train[0][0][0][0])))\n",
    "print(\"y_train before \" + str(type(y_train_raw)) + \" \" + str(y_train_raw.shape) + \" \" +  str(type(y_train_raw[0])))\n",
    "print(\"y_train after  \" + str(type(y_train)) + \" \" + str(y_train.shape) + str(type(y_train[0][0])))"
   ]
  },
  {
   "cell_type": "markdown",
   "metadata": {},
   "source": [
    "## Construct the Model"
   ]
  },
  {
   "cell_type": "code",
   "execution_count": 44,
   "metadata": {},
   "outputs": [
    {
     "name": "stdout",
     "output_type": "stream",
     "text": [
      "_________________________________________________________________\n",
      "Layer (type)                 Output Shape              Param #   \n",
      "=================================================================\n",
      "conv2d_14 (Conv2D)           (None, 64, 64, 32)        896       \n",
      "_________________________________________________________________\n",
      "activation_19 (Activation)   (None, 64, 64, 32)        0         \n",
      "_________________________________________________________________\n",
      "conv2d_15 (Conv2D)           (None, 62, 62, 32)        9248      \n",
      "_________________________________________________________________\n",
      "activation_20 (Activation)   (None, 62, 62, 32)        0         \n",
      "_________________________________________________________________\n",
      "max_pooling2d_7 (MaxPooling2 (None, 31, 31, 32)        0         \n",
      "_________________________________________________________________\n",
      "dropout_10 (Dropout)         (None, 31, 31, 32)        0         \n",
      "_________________________________________________________________\n",
      "conv2d_16 (Conv2D)           (None, 31, 31, 64)        18496     \n",
      "_________________________________________________________________\n",
      "activation_21 (Activation)   (None, 31, 31, 64)        0         \n",
      "_________________________________________________________________\n",
      "conv2d_17 (Conv2D)           (None, 29, 29, 64)        36928     \n",
      "_________________________________________________________________\n",
      "activation_22 (Activation)   (None, 29, 29, 64)        0         \n",
      "_________________________________________________________________\n",
      "max_pooling2d_8 (MaxPooling2 (None, 14, 14, 64)        0         \n",
      "_________________________________________________________________\n",
      "dropout_11 (Dropout)         (None, 14, 14, 64)        0         \n",
      "_________________________________________________________________\n",
      "flatten_4 (Flatten)          (None, 12544)             0         \n",
      "_________________________________________________________________\n",
      "dense_7 (Dense)              (None, 512)               6423040   \n",
      "_________________________________________________________________\n",
      "activation_23 (Activation)   (None, 512)               0         \n",
      "_________________________________________________________________\n",
      "dropout_12 (Dropout)         (None, 512)               0         \n",
      "_________________________________________________________________\n",
      "dense_8 (Dense)              (None, 3)                 1539      \n",
      "_________________________________________________________________\n",
      "activation_24 (Activation)   (None, 3)                 0         \n",
      "=================================================================\n",
      "Total params: 6,490,147\n",
      "Trainable params: 6,490,147\n",
      "Non-trainable params: 0\n",
      "_________________________________________________________________\n",
      "None\n"
     ]
    }
   ],
   "source": [
    "'''Trains a CNN on the dataset.\n",
    "'''\n",
    "\n",
    "from __future__ import print_function\n",
    "\n",
    "import keras\n",
    "from keras.datasets import cifar10\n",
    "from keras.preprocessing.image import ImageDataGenerator\n",
    "from keras.models import Sequential\n",
    "from keras.layers import Dense, Dropout, Activation, Flatten\n",
    "from keras.layers import Conv2D, MaxPooling2D\n",
    "import os\n",
    "\n",
    "\n",
    "model = Sequential()\n",
    "model.add(Conv2D(32, (3, 3), padding='same',\n",
    "                 input_shape=x_train.shape[1:]))\n",
    "model.add(Activation('relu'))\n",
    "model.add(Conv2D(32, (3, 3)))\n",
    "model.add(Activation('relu'))\n",
    "model.add(MaxPooling2D(pool_size=(2, 2)))\n",
    "model.add(Dropout(0.25))\n",
    "\n",
    "model.add(Conv2D(64, (3, 3), padding='same'))\n",
    "model.add(Activation('relu'))\n",
    "model.add(Conv2D(64, (3, 3)))\n",
    "model.add(Activation('relu'))\n",
    "model.add(MaxPooling2D(pool_size=(2, 2)))\n",
    "model.add(Dropout(0.25))\n",
    "\n",
    "model.add(Flatten())\n",
    "model.add(Dense(512))\n",
    "model.add(Activation('relu'))\n",
    "model.add(Dropout(0.5))\n",
    "model.add(Dense(num_classes))\n",
    "model.add(Activation('softmax'))\n",
    "\n",
    "print(model.summary())"
   ]
  },
  {
   "cell_type": "markdown",
   "metadata": {},
   "source": [
    "# Train the model"
   ]
  },
  {
   "cell_type": "code",
   "execution_count": 45,
   "metadata": {},
   "outputs": [
    {
     "name": "stdout",
     "output_type": "stream",
     "text": [
      "Train on 54 samples, validate on 14 samples\n",
      "Epoch 1/3\n",
      "54/54 [==============================] - 6s 105ms/step - loss: 0.7791 - acc: 0.9074 - val_loss: 0.3015 - val_acc: 1.0000\n",
      "Epoch 2/3\n",
      "54/54 [==============================] - 4s 74ms/step - loss: 0.0991 - acc: 1.0000 - val_loss: 0.1412 - val_acc: 1.0000\n",
      "Epoch 3/3\n",
      "54/54 [==============================] - 4s 82ms/step - loss: 0.0334 - acc: 1.0000 - val_loss: 0.0873 - val_acc: 1.0000\n",
      "Saved trained model at /home/chris/Documents/projects_scikit_tensorflow/test2/metrowest_scikit_tensorflow_cnn_car/model/saved_models/metrowest_keras_trained_model.h5 \n",
      "14/14 [==============================] - 0s 25ms/step\n",
      "Test loss: 0.08730027824640274\n",
      "Test accuracy: 1.0\n"
     ]
    }
   ],
   "source": [
    "batch_size = 32\n",
    "epochs = 3\n",
    "data_augmentation = False\n",
    "\n",
    "save_dir = os.path.join(os.getcwd(), 'saved_models')\n",
    "model_name = 'metrowest_keras_trained_model.h5'\n",
    "\n",
    "\n",
    "# initiate RMSprop optimizer\n",
    "opt = keras.optimizers.rmsprop(lr=0.0001, decay=1e-6)\n",
    "\n",
    "# Let's train the model using RMSprop\n",
    "model.compile(loss='categorical_crossentropy',\n",
    "              optimizer=opt,\n",
    "              metrics=['accuracy'])\n",
    "\n",
    "assert data_augmentation is False, \"data augmentation is not coded\"\n",
    "\n",
    "model.fit(x_train, y_train,\n",
    "          batch_size=batch_size,\n",
    "          epochs=epochs,\n",
    "          validation_data=(x_test, y_test),\n",
    "          shuffle=True)\n",
    "\n",
    "\n",
    "# Save model and weights\n",
    "if not os.path.isdir(save_dir):\n",
    "    os.makedirs(save_dir)\n",
    "model_path = os.path.join(save_dir, model_name)\n",
    "model.save(model_path)\n",
    "print('Saved trained model at %s ' % model_path)\n",
    "\n",
    "# Score trained model.\n",
    "scores = model.evaluate(x_test, y_test, verbose=1)\n",
    "print('Test loss:', scores[0])\n",
    "print('Test accuracy:', scores[1])"
   ]
  },
  {
   "cell_type": "code",
   "execution_count": 46,
   "metadata": {},
   "outputs": [],
   "source": [
    "# Plot loss as a function of iteration number"
   ]
  },
  {
   "cell_type": "code",
   "execution_count": 73,
   "metadata": {},
   "outputs": [
    {
     "name": "stdout",
     "output_type": "stream",
     "text": [
      "(3,)\n",
      "(1, 3)\n"
     ]
    }
   ],
   "source": [
    "foo = np.array([1,2,3])\n",
    "print(foo.shape)\n",
    "foo = foo[np.newaxis, :]\n",
    "print(foo.shape)"
   ]
  },
  {
   "cell_type": "code",
   "execution_count": 84,
   "metadata": {},
   "outputs": [
    {
     "name": "stdout",
     "output_type": "stream",
     "text": [
      "[[0.91775024 0.03758329 0.04466651]]\n",
      "left\n"
     ]
    }
   ],
   "source": [
    "# apply an image to the trained CNN\n",
    "from metrowestcar_display import Displayer\n",
    "displayer = Displayer()\n",
    "\n",
    "image = x_train_raw[5]\n",
    "displayer.display_image(image)\n",
    "image = image.astype('float32')\n",
    "image /= 255\n",
    "\n",
    "image = image[np.newaxis, :]\n",
    "steering_out = model.predict(image)\n",
    "print(steering_out)\n",
    "\n",
    "s_max = np.where(steering_out==steering_out.max())\n",
    "s_index = s_max[0][0]\n",
    "if s_index == 0:\n",
    "    print(\"left\")\n",
    "elif s_index == 1:\n",
    "    print(\"center\")\n",
    "elif s_index == 2:\n",
    "    print(\"right\")\n",
    "else:\n",
    "    assert False, \"something wrong in prediction %r\" % s_index\n",
    "\n",
    "    "
   ]
  }
 ],
 "metadata": {
  "kernelspec": {
   "display_name": "Python 3",
   "language": "python",
   "name": "python3"
  },
  "language_info": {
   "codemirror_mode": {
    "name": "ipython",
    "version": 3
   },
   "file_extension": ".py",
   "mimetype": "text/x-python",
   "name": "python",
   "nbconvert_exporter": "python",
   "pygments_lexer": "ipython3",
   "version": "3.5.2"
  }
 },
 "nbformat": 4,
 "nbformat_minor": 2
}
