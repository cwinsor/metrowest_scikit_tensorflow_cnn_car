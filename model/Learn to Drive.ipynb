{
 "cells": [
  {
   "cell_type": "markdown",
   "metadata": {},
   "source": [
    "# Metrowest machine learning self-driving car\n",
    "```\n",
    "The project is a self-driving car.\n",
    "This notebook trains the the CNN.\n",
    "Refer to the .pdf for details\n",
    "  \n",
    "Much of this is taken from Kiras CIFAR-10 example - see reference.\n",
    "\n",
    "References:\n",
    "https://github.com/keras-team/keras/blob/master/examples/cifar10_cnn.py\n",
    "https://www.meetup.com/Natick-Artificial-Intelligence-Meetup/\n",
    "https://github.com/experiencor.self-driving-toy-car/\n",
    "http://vision.stanford.edu/teaching/cs231n/\n",
    "https://www.tensorflow.org/\n",
    "```"
   ]
  },
  {
   "cell_type": "code",
   "execution_count": 85,
   "metadata": {},
   "outputs": [],
   "source": [
    "# force libraries to re-load every time - helpful during development\n",
    "%load_ext autoreload\n",
    "%autoreload 2"
   ]
  },
  {
   "cell_type": "code",
   "execution_count": 86,
   "metadata": {},
   "outputs": [],
   "source": [
    "import sys\n",
    "sys.path.append('../lib')"
   ]
  },
  {
   "cell_type": "markdown",
   "metadata": {},
   "source": [
    "# Data Loading"
   ]
  },
  {
   "cell_type": "code",
   "execution_count": 87,
   "metadata": {},
   "outputs": [],
   "source": [
    "from metrowestcar_dataset import Dataset\n",
    "dataset = Dataset.data()\n"
   ]
  },
  {
   "cell_type": "code",
   "execution_count": 88,
   "metadata": {},
   "outputs": [
    {
     "name": "stdout",
     "output_type": "stream",
     "text": [
      "x_train before:<class 'numpy.uint8'>\n",
      "x_train after: <class 'numpy.float32'>\n",
      "y_train before <class 'numpy.ndarray'> (2582,) <class 'numpy.uint8'>\n",
      "y_train after  <class 'numpy.ndarray'> (2582, 4)<class 'numpy.float32'>\n"
     ]
    }
   ],
   "source": [
    "\n",
    "num_classes = 4\n",
    "\n",
    "# input image dimensions\n",
    "img_rows, img_cols = 64, 64\n",
    "input_shape = (1, img_rows, img_cols)\n",
    "\n",
    "# the data, split between train and test sets\n",
    "dataset = Dataset.data()\n",
    "x_train_raw = dataset['images_train']\n",
    "x_test_raw  = dataset['images_test']\n",
    "y_train_raw = dataset['steering_train']\n",
    "y_test_raw  = dataset['steering_test']\n",
    "\n",
    "# dataset is uint8 but Kiras expects float - do this conversion\n",
    "# also - convert class vectors to binary (1-hot) encoded array\n",
    "\n",
    "x_train = x_train_raw.astype('float32')\n",
    "x_test = x_test_raw.astype('float32')\n",
    "x_train /= 255\n",
    "x_test /= 255\n",
    "\n",
    "y_train = keras.utils.to_categorical(y_train_raw, num_classes)\n",
    "y_test = keras.utils.to_categorical(y_test_raw, num_classes)\n",
    "\n",
    "print(\"x_train before:\" + str(type(x_train_raw[0][0][0][0])))\n",
    "print(\"x_train after: \" + str(type(x_train[0][0][0][0])))\n",
    "print(\"y_train before \" + str(type(y_train_raw)) + \" \" + str(y_train_raw.shape) + \" \" +  str(type(y_train_raw[0])))\n",
    "print(\"y_train after  \" + str(type(y_train)) + \" \" + str(y_train.shape) + str(type(y_train[0][0])))"
   ]
  },
  {
   "cell_type": "markdown",
   "metadata": {},
   "source": [
    "## Construct the Model"
   ]
  },
  {
   "cell_type": "code",
   "execution_count": 89,
   "metadata": {},
   "outputs": [
    {
     "name": "stdout",
     "output_type": "stream",
     "text": [
      "_________________________________________________________________\n",
      "Layer (type)                 Output Shape              Param #   \n",
      "=================================================================\n",
      "conv2d_18 (Conv2D)           (None, 64, 64, 32)        896       \n",
      "_________________________________________________________________\n",
      "activation_25 (Activation)   (None, 64, 64, 32)        0         \n",
      "_________________________________________________________________\n",
      "conv2d_19 (Conv2D)           (None, 62, 62, 32)        9248      \n",
      "_________________________________________________________________\n",
      "activation_26 (Activation)   (None, 62, 62, 32)        0         \n",
      "_________________________________________________________________\n",
      "max_pooling2d_9 (MaxPooling2 (None, 31, 31, 32)        0         \n",
      "_________________________________________________________________\n",
      "dropout_13 (Dropout)         (None, 31, 31, 32)        0         \n",
      "_________________________________________________________________\n",
      "conv2d_20 (Conv2D)           (None, 31, 31, 64)        18496     \n",
      "_________________________________________________________________\n",
      "activation_27 (Activation)   (None, 31, 31, 64)        0         \n",
      "_________________________________________________________________\n",
      "conv2d_21 (Conv2D)           (None, 29, 29, 64)        36928     \n",
      "_________________________________________________________________\n",
      "activation_28 (Activation)   (None, 29, 29, 64)        0         \n",
      "_________________________________________________________________\n",
      "max_pooling2d_10 (MaxPooling (None, 14, 14, 64)        0         \n",
      "_________________________________________________________________\n",
      "dropout_14 (Dropout)         (None, 14, 14, 64)        0         \n",
      "_________________________________________________________________\n",
      "flatten_5 (Flatten)          (None, 12544)             0         \n",
      "_________________________________________________________________\n",
      "dense_9 (Dense)              (None, 512)               6423040   \n",
      "_________________________________________________________________\n",
      "activation_29 (Activation)   (None, 512)               0         \n",
      "_________________________________________________________________\n",
      "dropout_15 (Dropout)         (None, 512)               0         \n",
      "_________________________________________________________________\n",
      "dense_10 (Dense)             (None, 4)                 2052      \n",
      "_________________________________________________________________\n",
      "activation_30 (Activation)   (None, 4)                 0         \n",
      "=================================================================\n",
      "Total params: 6,490,660\n",
      "Trainable params: 6,490,660\n",
      "Non-trainable params: 0\n",
      "_________________________________________________________________\n",
      "None\n"
     ]
    }
   ],
   "source": [
    "'''Trains a CNN on the dataset.\n",
    "'''\n",
    "\n",
    "from __future__ import print_function\n",
    "\n",
    "import keras\n",
    "from keras.datasets import cifar10\n",
    "from keras.preprocessing.image import ImageDataGenerator\n",
    "from keras.models import Sequential\n",
    "from keras.layers import Dense, Dropout, Activation, Flatten\n",
    "from keras.layers import Conv2D, MaxPooling2D\n",
    "import os\n",
    "\n",
    "\n",
    "model = Sequential()\n",
    "model.add(Conv2D(32, (3, 3), padding='same',\n",
    "                 input_shape=x_train.shape[1:]))\n",
    "model.add(Activation('relu'))\n",
    "model.add(Conv2D(32, (3, 3)))\n",
    "model.add(Activation('relu'))\n",
    "model.add(MaxPooling2D(pool_size=(2, 2)))\n",
    "model.add(Dropout(0.25))\n",
    "\n",
    "model.add(Conv2D(64, (3, 3), padding='same'))\n",
    "model.add(Activation('relu'))\n",
    "model.add(Conv2D(64, (3, 3)))\n",
    "model.add(Activation('relu'))\n",
    "model.add(MaxPooling2D(pool_size=(2, 2)))\n",
    "model.add(Dropout(0.25))\n",
    "\n",
    "model.add(Flatten())\n",
    "model.add(Dense(512))\n",
    "model.add(Activation('relu'))\n",
    "model.add(Dropout(0.5))\n",
    "model.add(Dense(num_classes))\n",
    "model.add(Activation('softmax'))\n",
    "\n",
    "print(model.summary())"
   ]
  },
  {
   "cell_type": "markdown",
   "metadata": {},
   "source": [
    "# Train the model"
   ]
  },
  {
   "cell_type": "code",
   "execution_count": 90,
   "metadata": {},
   "outputs": [
    {
     "name": "stdout",
     "output_type": "stream",
     "text": [
      "Train on 2582 samples, validate on 646 samples\n",
      "Epoch 1/3\n",
      "2582/2582 [==============================] - 193s 75ms/step - loss: 1.4695 - acc: 0.3803 - val_loss: 1.3131 - val_acc: 0.4443\n",
      "Epoch 2/3\n",
      "2582/2582 [==============================] - 247s 96ms/step - loss: 1.3428 - acc: 0.4094 - val_loss: 1.1251 - val_acc: 0.4009\n",
      "Epoch 3/3\n",
      "2582/2582 [==============================] - 197s 76ms/step - loss: 1.2420 - acc: 0.4136 - val_loss: 1.0371 - val_acc: 0.4303\n",
      "Saved trained model at /home/chris/Documents/projects_scikit_tensorflow/test2/metrowest_scikit_tensorflow_cnn_car/model/saved_models/metrowest_keras_trained_model.h5 \n",
      "646/646 [==============================] - 12s 19ms/step\n",
      "Test loss: 1.0370822100447428\n",
      "Test accuracy: 0.43034055727554177\n"
     ]
    }
   ],
   "source": [
    "batch_size = 32\n",
    "epochs = 3\n",
    "data_augmentation = False\n",
    "\n",
    "save_dir = os.path.join(os.getcwd(), 'saved_models')\n",
    "model_name = 'metrowest_keras_trained_model.h5'\n",
    "\n",
    "\n",
    "# initiate RMSprop optimizer\n",
    "opt = keras.optimizers.rmsprop(lr=0.0001, decay=1e-6)\n",
    "\n",
    "# Let's train the model using RMSprop\n",
    "model.compile(loss='categorical_crossentropy',\n",
    "              optimizer=opt,\n",
    "              metrics=['accuracy'])\n",
    "\n",
    "assert data_augmentation is False, \"data augmentation is not coded\"\n",
    "\n",
    "model.fit(x_train, y_train,\n",
    "          batch_size=batch_size,\n",
    "          epochs=epochs,\n",
    "          validation_data=(x_test, y_test),\n",
    "          shuffle=True)\n",
    "\n",
    "\n",
    "# Save model and weights\n",
    "if not os.path.isdir(save_dir):\n",
    "    os.makedirs(save_dir)\n",
    "model_path = os.path.join(save_dir, model_name)\n",
    "model.save(model_path)\n",
    "print('Saved trained model at %s ' % model_path)\n",
    "\n",
    "# Score trained model.\n",
    "scores = model.evaluate(x_test, y_test, verbose=1)\n",
    "print('Test loss:', scores[0])\n",
    "print('Test accuracy:', scores[1])"
   ]
  },
  {
   "cell_type": "code",
   "execution_count": 46,
   "metadata": {},
   "outputs": [],
   "source": [
    "# Plot loss as a function of iteration number"
   ]
  },
  {
   "cell_type": "code",
   "execution_count": 146,
   "metadata": {},
   "outputs": [
    {
     "name": "stdout",
     "output_type": "stream",
     "text": [
      "center\n"
     ]
    }
   ],
   "source": [
    "# apply an image to the trained CNN\n",
    "from metrowestcar_display import Displayer\n",
    "displayer = Displayer()\n",
    "\n",
    "image = x_train_raw[5]\n",
    "displayer.display_image(image)\n",
    "image = image.astype('float32')\n",
    "image /= 255\n",
    "\n",
    "image = image[np.newaxis, :]\n",
    "steering_out = model.predict(image)[0]\n",
    "s_max = np.where(steering_out==steering_out.max())\n",
    "s_index = s_max[0][0]\n",
    "if s_index == 1:\n",
    "    print(\"left\")\n",
    "elif s_index == 2:\n",
    "    print(\"right\")\n",
    "elif s_index == 3:\n",
    "    print(\"center\")\n",
    "else:\n",
    "    assert False, \"something wrong in prediction %r\" % s_index\n"
   ]
  }
 ],
 "metadata": {
  "kernelspec": {
   "display_name": "Python 3",
   "language": "python",
   "name": "python3"
  },
  "language_info": {
   "codemirror_mode": {
    "name": "ipython",
    "version": 3
   },
   "file_extension": ".py",
   "mimetype": "text/x-python",
   "name": "python",
   "nbconvert_exporter": "python",
   "pygments_lexer": "ipython3",
   "version": "3.5.2"
  }
 },
 "nbformat": 4,
 "nbformat_minor": 2
}
