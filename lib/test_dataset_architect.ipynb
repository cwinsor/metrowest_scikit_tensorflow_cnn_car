{
 "cells": [
  {
   "cell_type": "markdown",
   "metadata": {},
   "source": [
    "# Testing the dataset_architect library\n",
    "```\n",
    "Demonstate CONSTRUCTION of the dataset (that an architect\n",
    "can construct it from raw images in the flatfiles.\n",
    "\n",
    "This involves\n",
    "reading raw data from the flatfiles\n",
    "shuffling\n",
    "segmenting into train/test\n",
    "saving to pickle file\n",
    "```"
   ]
  },
  {
   "cell_type": "markdown",
   "metadata": {},
   "source": [
    "# Construction of dataset from flatfiles"
   ]
  },
  {
   "cell_type": "code",
   "execution_count": 1,
   "metadata": {},
   "outputs": [],
   "source": [
    "# force libraries to re-load every time - helpful during development\n",
    "%load_ext autoreload\n",
    "%autoreload 2"
   ]
  },
  {
   "cell_type": "code",
   "execution_count": 2,
   "metadata": {},
   "outputs": [],
   "source": [
    "import sys\n",
    "sys.path.append('../lib')"
   ]
  },
  {
   "cell_type": "code",
   "execution_count": 3,
   "metadata": {},
   "outputs": [
    {
     "name": "stderr",
     "output_type": "stream",
     "text": [
      "Using TensorFlow backend.\n"
     ]
    },
    {
     "name": "stdout",
     "output_type": "stream",
     "text": [
      "loading images from /home/chris/Documents/projects_scikit_tensorflow/test2/metrowest_scikit_tensorflow_cnn_car/lib/../data/picturesX\n",
      "loading images from /home/chris/Documents/projects_scikit_tensorflow/test2/metrowest_scikit_tensorflow_cnn_car/lib/../data/picturesX\n",
      "loading steering from /home/chris/Documents/projects_scikit_tensorflow/test2/metrowest_scikit_tensorflow_cnn_car/lib/../data/picturesX\n",
      "loading steering from /home/chris/Documents/projects_scikit_tensorflow/test2/metrowest_scikit_tensorflow_cnn_car/lib/../data/picturesX\n",
      "image array:\n",
      "<class 'numpy.ndarray'>\n",
      "(68, 64, 64, 3)\n",
      "<class 'numpy.uint8'>\n",
      "steering array:\n",
      "<class 'numpy.ndarray'>\n",
      "(68,)\n",
      "<class 'numpy.uint8'>\n"
     ]
    }
   ],
   "source": [
    "from metrowestcar_dataset_architect import DatasetArchitect\n",
    "\n",
    "da = DatasetArchitect()\n",
    "da.read_raw_data_from_files()"
   ]
  },
  {
   "cell_type": "code",
   "execution_count": 4,
   "metadata": {},
   "outputs": [],
   "source": [
    "da.shuffle()"
   ]
  },
  {
   "cell_type": "code",
   "execution_count": 5,
   "metadata": {},
   "outputs": [],
   "source": [
    "da.split_train_test()"
   ]
  },
  {
   "cell_type": "code",
   "execution_count": 6,
   "metadata": {},
   "outputs": [
    {
     "name": "stdout",
     "output_type": "stream",
     "text": [
      "<class 'dict'>\n",
      "dict_keys(['images', 'target_names', 'DESCR', 'target'])\n",
      "There are 68 images\n",
      "There are 68 targets\n",
      "The image array is a (68, 64, 64, 3) of <class 'numpy.ndarray'>\n",
      "The class array is a (68,) of <class 'numpy.ndarray'>\n"
     ]
    }
   ],
   "source": [
    "da.organize_as_dictionary()"
   ]
  },
  {
   "cell_type": "code",
   "execution_count": 7,
   "metadata": {},
   "outputs": [],
   "source": [
    "#da.save_to_pickle_file(\"../data/dataset\") # over-write the dataset file (actually publish)\n",
    "da.save_to_pickle_file(\"../data/dataset_temp_test\")"
   ]
  },
  {
   "cell_type": "code",
   "execution_count": 8,
   "metadata": {},
   "outputs": [
    {
     "name": "stdout",
     "output_type": "stream",
     "text": [
      "<class 'dict'>\n",
      "dict_keys(['target', 'target_names', 'DESCR', 'images'])\n",
      "There are 68 images\n",
      "There are 68 targets\n",
      "The image array is a (68, 64, 64, 3) of <class 'numpy.ndarray'>\n",
      "The class array is a (68,) of <class 'numpy.ndarray'>\n"
     ]
    }
   ],
   "source": [
    "foo = da.restore_from_pickle_file(\"../data/dataset_temp_test\")"
   ]
  },
  {
   "cell_type": "code",
   "execution_count": null,
   "metadata": {},
   "outputs": [],
   "source": []
  }
 ],
 "metadata": {
  "kernelspec": {
   "display_name": "Python 3",
   "language": "python",
   "name": "python3"
  },
  "language_info": {
   "codemirror_mode": {
    "name": "ipython",
    "version": 3
   },
   "file_extension": ".py",
   "mimetype": "text/x-python",
   "name": "python",
   "nbconvert_exporter": "python",
   "pygments_lexer": "ipython3",
   "version": "3.5.2"
  }
 },
 "nbformat": 4,
 "nbformat_minor": 2
}
