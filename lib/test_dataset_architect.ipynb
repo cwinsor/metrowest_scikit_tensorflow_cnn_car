{
 "cells": [
  {
   "cell_type": "markdown",
   "metadata": {},
   "source": [
    "# Testing the dataset_architect library\n",
    "```\n",
    "Demonstate CONSTRUCTION of the dataset (that an architect\n",
    "can construct it from raw images in the flatfiles.\n",
    "\n",
    "This involves\n",
    "reading raw data from the flatfiles\n",
    "shuffling\n",
    "segmenting into train/test\n",
    "saving to pickle file\n",
    "```"
   ]
  },
  {
   "cell_type": "markdown",
   "metadata": {},
   "source": [
    "# Construction of dataset from flatfiles"
   ]
  },
  {
   "cell_type": "code",
   "execution_count": 14,
   "metadata": {},
   "outputs": [
    {
     "name": "stdout",
     "output_type": "stream",
     "text": [
      "The autoreload extension is already loaded. To reload it, use:\n",
      "  %reload_ext autoreload\n"
     ]
    }
   ],
   "source": [
    "# force libraries to re-load every time - helpful during development\n",
    "%load_ext autoreload\n",
    "%autoreload 2"
   ]
  },
  {
   "cell_type": "code",
   "execution_count": 15,
   "metadata": {},
   "outputs": [],
   "source": [
    "import sys\n",
    "sys.path.append('../lib')"
   ]
  },
  {
   "cell_type": "code",
   "execution_count": 16,
   "metadata": {},
   "outputs": [
    {
     "name": "stdout",
     "output_type": "stream",
     "text": [
      "loading images from /home/chris/Documents/projects_scikit_tensorflow/test2/metrowest_scikit_tensorflow_cnn_car/lib/../data_raw/2018-09-30-15:36:34.534073\n",
      "loading images from /home/chris/Documents/projects_scikit_tensorflow/test2/metrowest_scikit_tensorflow_cnn_car/lib/../data_raw/2018-09-30-15:55:20.859268\n",
      "loading steering from /home/chris/Documents/projects_scikit_tensorflow/test2/metrowest_scikit_tensorflow_cnn_car/lib/../data_raw/2018-09-30-15:36:34.534073\n",
      "loading steering from /home/chris/Documents/projects_scikit_tensorflow/test2/metrowest_scikit_tensorflow_cnn_car/lib/../data_raw/2018-09-30-15:55:20.859268\n",
      "image array:\n",
      "<class 'numpy.ndarray'>\n",
      "(3228, 64, 64, 3)\n",
      "<class 'numpy.uint8'>\n",
      "steering array:\n",
      "<class 'numpy.ndarray'>\n",
      "(3228,)\n",
      "<class 'numpy.uint8'>\n"
     ]
    }
   ],
   "source": [
    "from metrowestcar_dataset_architect import DatasetArchitect\n",
    "\n",
    "from os import getcwd\n",
    "from os.path import abspath\n",
    "from os.path import join\n",
    "\n",
    "# the original raw data files are in...\n",
    "dir_list = [\n",
    "    join(abspath(getcwd()), \"../data_raw/2018-09-30-15:36:34.534073\"),\n",
    "    join(abspath(getcwd()), \"../data_raw/2018-09-30-15:55:20.859268\"),\n",
    "]\n",
    "\n",
    "da = DatasetArchitect()\n",
    "da.read_raw_data_from_files(dir_list)"
   ]
  },
  {
   "cell_type": "code",
   "execution_count": 17,
   "metadata": {},
   "outputs": [
    {
     "name": "stdout",
     "output_type": "stream",
     "text": [
      "image array:\n",
      "<class 'numpy.ndarray'>\n",
      "(3228, 64, 64, 3)\n",
      "<class 'numpy.uint8'>\n",
      "steering array:\n",
      "<class 'numpy.ndarray'>\n",
      "(3228,)\n",
      "<class 'numpy.uint8'>\n"
     ]
    }
   ],
   "source": [
    "da.shuffle()"
   ]
  },
  {
   "cell_type": "code",
   "execution_count": 18,
   "metadata": {},
   "outputs": [
    {
     "name": "stdout",
     "output_type": "stream",
     "text": [
      "whole =  3228\n",
      "cut   =  2582   646\n"
     ]
    }
   ],
   "source": [
    "da.split_train_test()"
   ]
  },
  {
   "cell_type": "code",
   "execution_count": 19,
   "metadata": {},
   "outputs": [
    {
     "name": "stdout",
     "output_type": "stream",
     "text": [
      "<class 'dict'>\n",
      "dict_keys(['steering_train', 'DESCR', 'images_train', 'images_test', 'target_names', 'steering_test'])\n",
      "There are 2582 images (training)\n",
      "There are 646 images (test)\n",
      "There are 2582 steering values (training)\n",
      "There are 646 steering values (test)\n",
      "The image array (training) is a (2582, 64, 64, 3) of <class 'numpy.uint8'>\n",
      "The image array (test)     is a (646, 64, 64, 3) of <class 'numpy.uint8'>\n",
      "The steering array (training) is a (2582,) of <class 'numpy.uint8'>\n",
      "The steering array (test)     is a (646,) of <class 'numpy.uint8'>\n"
     ]
    }
   ],
   "source": [
    "da.organize_as_dictionary()"
   ]
  },
  {
   "cell_type": "code",
   "execution_count": 20,
   "metadata": {},
   "outputs": [],
   "source": [
    "da.save_to_pickle_file(\"../data/dataset\") # over-write the dataset file (actually publish)\n",
    "#da.save_to_pickle_file(\"../data/dataset_temp_test\")"
   ]
  },
  {
   "cell_type": "code",
   "execution_count": 21,
   "metadata": {},
   "outputs": [
    {
     "name": "stdout",
     "output_type": "stream",
     "text": [
      "<class 'dict'>\n",
      "dict_keys(['steering_train', 'DESCR', 'images_train', 'images_test', 'target_names', 'steering_test'])\n",
      "There are 2582 images (training)\n",
      "There are 646 images (test)\n",
      "There are 2582 steering values (training)\n",
      "There are 646 steering values (test)\n",
      "The image array (training) is a (2582, 64, 64, 3) of <class 'numpy.uint8'>\n",
      "The image array (test)     is a (646, 64, 64, 3) of <class 'numpy.uint8'>\n",
      "The steering array (training) is a (2582,) of <class 'numpy.uint8'>\n",
      "The steering array (test)     is a (646,) of <class 'numpy.uint8'>\n"
     ]
    }
   ],
   "source": [
    "foo = da.restore_from_pickle_file(\"../data/dataset\")"
   ]
  },
  {
   "cell_type": "code",
   "execution_count": null,
   "metadata": {},
   "outputs": [],
   "source": []
  }
 ],
 "metadata": {
  "kernelspec": {
   "display_name": "Python 3",
   "language": "python",
   "name": "python3"
  },
  "language_info": {
   "codemirror_mode": {
    "name": "ipython",
    "version": 3
   },
   "file_extension": ".py",
   "mimetype": "text/x-python",
   "name": "python",
   "nbconvert_exporter": "python",
   "pygments_lexer": "ipython3",
   "version": "3.5.2"
  }
 },
 "nbformat": 4,
 "nbformat_minor": 2
}
