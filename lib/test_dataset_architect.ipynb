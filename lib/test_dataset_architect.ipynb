{
 "cells": [
  {
   "cell_type": "markdown",
   "metadata": {},
   "source": [
    "# Testing the dataset_architect library\n",
    "```\n",
    "Demonstate CONSTRUCTION of the dataset (that an architect\n",
    "can construct it from raw images in the flatfiles.\n",
    "\n",
    "This involves\n",
    "reading raw data from the flatfiles\n",
    "shuffling\n",
    "segmenting into train/test\n",
    "saving to pickle file\n",
    "```"
   ]
  },
  {
   "cell_type": "markdown",
   "metadata": {},
   "source": [
    "# Construction of dataset from flatfiles"
   ]
  },
  {
   "cell_type": "code",
   "execution_count": 5,
   "metadata": {},
   "outputs": [
    {
     "name": "stdout",
     "output_type": "stream",
     "text": [
      "The autoreload extension is already loaded. To reload it, use:\n",
      "  %reload_ext autoreload\n"
     ]
    }
   ],
   "source": [
    "# force libraries to re-load every time - helpful during development\n",
    "%load_ext autoreload\n",
    "%autoreload 2"
   ]
  },
  {
   "cell_type": "code",
   "execution_count": 6,
   "metadata": {},
   "outputs": [],
   "source": [
    "import sys\n",
    "sys.path.append('../lib')"
   ]
  },
  {
   "cell_type": "code",
   "execution_count": 8,
   "metadata": {},
   "outputs": [
    {
     "name": "stdout",
     "output_type": "stream",
     "text": [
      "loading images from /home/chris/Documents/projects_scikit_tensorflow/test2/metrowest_scikit_tensorflow_cnn_car/lib/../data/picturesX\n",
      "loading images from /home/chris/Documents/projects_scikit_tensorflow/test2/metrowest_scikit_tensorflow_cnn_car/lib/../data/picturesX\n",
      "loading steering from /home/chris/Documents/projects_scikit_tensorflow/test2/metrowest_scikit_tensorflow_cnn_car/lib/../data/picturesX\n",
      "loading steering from /home/chris/Documents/projects_scikit_tensorflow/test2/metrowest_scikit_tensorflow_cnn_car/lib/../data/picturesX\n",
      "image array:\n",
      "<class 'numpy.ndarray'>\n",
      "(68, 64, 64, 3)\n",
      "<class 'numpy.uint8'>\n",
      "steering array:\n",
      "<class 'numpy.ndarray'>\n",
      "(68,)\n",
      "<class 'numpy.uint8'>\n"
     ]
    }
   ],
   "source": [
    "from metrowestcar_dataset_architect import DatasetArchitect\n",
    "\n",
    "from os import getcwd\n",
    "from os.path import abspath\n",
    "from os.path import join\n",
    "\n",
    "# the original raw data files are in...\n",
    "dir_list = [\n",
    "    join(abspath(getcwd()), \"../data/picturesX\"),\n",
    "    join(abspath(getcwd()), \"../data/picturesX\"),\n",
    "]\n",
    "\n",
    "da = DatasetArchitect()\n",
    "da.read_raw_data_from_files(dir_list)"
   ]
  },
  {
   "cell_type": "code",
   "execution_count": 9,
   "metadata": {},
   "outputs": [
    {
     "name": "stdout",
     "output_type": "stream",
     "text": [
      "image array:\n",
      "<class 'numpy.ndarray'>\n",
      "(68, 64, 64, 3)\n",
      "<class 'numpy.uint8'>\n",
      "steering array:\n",
      "<class 'numpy.ndarray'>\n",
      "(68,)\n",
      "<class 'numpy.uint8'>\n"
     ]
    }
   ],
   "source": [
    "da.shuffle()"
   ]
  },
  {
   "cell_type": "code",
   "execution_count": 10,
   "metadata": {},
   "outputs": [
    {
     "name": "stdout",
     "output_type": "stream",
     "text": [
      "whole =  68\n",
      "cut   =  54   14\n"
     ]
    }
   ],
   "source": [
    "da.split_train_test()"
   ]
  },
  {
   "cell_type": "code",
   "execution_count": 11,
   "metadata": {},
   "outputs": [
    {
     "name": "stdout",
     "output_type": "stream",
     "text": [
      "<class 'dict'>\n",
      "dict_keys(['steering_train', 'DESCR', 'images_train', 'images_test', 'target_names', 'steering_test'])\n",
      "There are 54 images (training)\n",
      "There are 14 images (test)\n",
      "There are 54 steering values (training)\n",
      "There are 14 steering values (test)\n",
      "The image array (training) is a (54, 64, 64, 3) of <class 'numpy.uint8'>\n",
      "The image array (test)     is a (14, 64, 64, 3) of <class 'numpy.uint8'>\n",
      "The steering array (training) is a (54,) of <class 'numpy.uint8'>\n",
      "The steering array (test)     is a (14,) of <class 'numpy.uint8'>\n"
     ]
    }
   ],
   "source": [
    "da.organize_as_dictionary()"
   ]
  },
  {
   "cell_type": "code",
   "execution_count": 12,
   "metadata": {},
   "outputs": [],
   "source": [
    "da.save_to_pickle_file(\"../data/dataset\") # over-write the dataset file (actually publish)\n",
    "#da.save_to_pickle_file(\"../data/dataset_temp_test\")"
   ]
  },
  {
   "cell_type": "code",
   "execution_count": 13,
   "metadata": {},
   "outputs": [
    {
     "name": "stdout",
     "output_type": "stream",
     "text": [
      "<class 'dict'>\n",
      "dict_keys(['steering_train', 'DESCR', 'images_train', 'images_test', 'target_names', 'steering_test'])\n",
      "There are 54 images (training)\n",
      "There are 14 images (test)\n",
      "There are 54 steering values (training)\n",
      "There are 14 steering values (test)\n",
      "The image array (training) is a (54, 64, 64, 3) of <class 'numpy.uint8'>\n",
      "The image array (test)     is a (14, 64, 64, 3) of <class 'numpy.uint8'>\n",
      "The steering array (training) is a (54,) of <class 'numpy.uint8'>\n",
      "The steering array (test)     is a (14,) of <class 'numpy.uint8'>\n"
     ]
    }
   ],
   "source": [
    "foo = da.restore_from_pickle_file(\"../data/dataset\")"
   ]
  }
 ],
 "metadata": {
  "kernelspec": {
   "display_name": "Python 3",
   "language": "python",
   "name": "python3"
  },
  "language_info": {
   "codemirror_mode": {
    "name": "ipython",
    "version": 3
   },
   "file_extension": ".py",
   "mimetype": "text/x-python",
   "name": "python",
   "nbconvert_exporter": "python",
   "pygments_lexer": "ipython3",
   "version": "3.5.2"
  }
 },
 "nbformat": 4,
 "nbformat_minor": 2
}
