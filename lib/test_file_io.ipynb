{
 "cells": [
  {
   "cell_type": "code",
   "execution_count": 48,
   "metadata": {},
   "outputs": [
    {
     "name": "stdout",
     "output_type": "stream",
     "text": [
      "The autoreload extension is already loaded. To reload it, use:\n",
      "  %reload_ext autoreload\n"
     ]
    }
   ],
   "source": [
    "# Test the file_io library\n",
    "\n",
    "# force libraries to re-load every time - helpful during development\n",
    "%load_ext autoreload\n",
    "%autoreload 2"
   ]
  },
  {
   "cell_type": "code",
   "execution_count": 49,
   "metadata": {},
   "outputs": [],
   "source": [
    "import sys\n",
    "sys.path.append('../lib')"
   ]
  },
  {
   "cell_type": "code",
   "execution_count": 50,
   "metadata": {},
   "outputs": [],
   "source": [
    "from metrowestcar_file_io import FileReader\n",
    "\n",
    "from os import getcwd\n",
    "from os.path import abspath\n",
    "from os.path import join\n",
    "from os.path import exists\n",
    "\n",
    "dirpath = join(abspath(getcwd()), \"../data/picturesX\")"
   ]
  },
  {
   "cell_type": "code",
   "execution_count": 51,
   "metadata": {},
   "outputs": [],
   "source": [
    "# creating a FileReader\n",
    "file_reader = FileReader(64, 64, 3)"
   ]
  },
  {
   "cell_type": "code",
   "execution_count": 52,
   "metadata": {},
   "outputs": [
    {
     "name": "stdout",
     "output_type": "stream",
     "text": [
      "<class 'numpy.ndarray'>\n",
      "(64, 64, 3)\n",
      "<class 'numpy.uint8'>\n"
     ]
    }
   ],
   "source": [
    "# reading an image file\n",
    "filename = \"image10.jpg\"\n",
    "image = file_reader.read_image_from_file(join(dirpath,filename))\n",
    "\n",
    "print(type(image))\n",
    "print(image.shape)\n",
    "print(type(image[0][0][0]))"
   ]
  },
  {
   "cell_type": "code",
   "execution_count": 53,
   "metadata": {},
   "outputs": [
    {
     "name": "stdout",
     "output_type": "stream",
     "text": [
      "<class 'numpy.ndarray'>\n",
      "(64, 64, 3)\n",
      "<class 'numpy.uint8'>\n"
     ]
    }
   ],
   "source": [
    "# reading an image file using file number\n",
    "file_number = \"10\"\n",
    "image = file_reader.read_image_from_file_using_filenumber(dirpath, file_number)\n",
    "\n",
    "print(type(image))\n",
    "print(image.shape)\n",
    "print(type(image[0][0][0]))"
   ]
  },
  {
   "cell_type": "markdown",
   "metadata": {},
   "source": [
    "# delete me"
   ]
  },
  {
   "cell_type": "code",
   "execution_count": 47,
   "metadata": {},
   "outputs": [
    {
     "name": "stdout",
     "output_type": "stream",
     "text": [
      "<class 'numpy.ndarray'>\n",
      "(2, 2)\n",
      "<class 'numpy.uint8'>\n",
      "<class 'numpy.ndarray'>\n",
      "(1, 2, 2)\n",
      "<class 'numpy.uint8'>\n"
     ]
    }
   ],
   "source": [
    "import numpy as np\n",
    "rows = np.array([[0, 0],\n",
    "                 [3, 3]], dtype=np.uint8)\n",
    "\n",
    "#rows = np.array([[0, 0],\n",
    "#                 [3, 3]], dtype=np.uint8)\n",
    "print(type(rows))\n",
    "print(rows.shape)\n",
    "print(type(rows[0][0]))\n",
    "\n",
    "rows = rows[np.newaxis]\n",
    "print(type(rows))\n",
    "print(rows.shape)\n",
    "print(type(rows[0][0][0]))"
   ]
  },
  {
   "cell_type": "code",
   "execution_count": null,
   "metadata": {},
   "outputs": [],
   "source": []
  },
  {
   "cell_type": "code",
   "execution_count": 54,
   "metadata": {},
   "outputs": [
    {
     "name": "stdout",
     "output_type": "stream",
     "text": [
      "<class 'int'>\n",
      "0\n"
     ]
    }
   ],
   "source": [
    "# reading a direction file\n",
    "filename = \"control10\"\n",
    "control = file_reader.read_steering_from_file(join(dirpath,filename))\n",
    "\n",
    "print(type(control))\n",
    "print(control)"
   ]
  },
  {
   "cell_type": "code",
   "execution_count": 55,
   "metadata": {},
   "outputs": [
    {
     "name": "stdout",
     "output_type": "stream",
     "text": [
      "<class 'list'>\n"
     ]
    }
   ],
   "source": [
    "# getting a list of file numbers from a directory\n",
    "\n",
    "file_numbers = file_reader._get_file_numbers(dirpath)\n",
    "print(list)"
   ]
  },
  {
   "cell_type": "code",
   "execution_count": 56,
   "metadata": {},
   "outputs": [
    {
     "name": "stdout",
     "output_type": "stream",
     "text": [
      "<class 'numpy.ndarray'>\n",
      "(34, 64, 64, 3)\n",
      "<class 'numpy.uint8'>\n"
     ]
    }
   ],
   "source": [
    "# using the list of file numbers to get images\n",
    "# this returns a 4-d numpy array indexed as\n",
    "# [image#][height][width][RGB]\n",
    "\n",
    "image_array = file_reader.read_images_from_directory_given_list(dirpath, file_numbers)\n",
    "print(type(image_array))\n",
    "print(image_array.shape)\n",
    "print(type(image_array[0][0][0][0]))"
   ]
  },
  {
   "cell_type": "code",
   "execution_count": 57,
   "metadata": {},
   "outputs": [
    {
     "name": "stdout",
     "output_type": "stream",
     "text": [
      "<class 'numpy.ndarray'>\n",
      "(34, 64, 64, 3)\n",
      "<class 'numpy.uint8'>\n"
     ]
    }
   ],
   "source": [
    "# reading all images given a directory\n",
    "image_array = file_reader.read_images_from_directory(dirpath)\n",
    "print(type(image_array))\n",
    "print(image_array.shape)\n",
    "print(type(image_array[0][0][0][0]))"
   ]
  },
  {
   "cell_type": "code",
   "execution_count": 61,
   "metadata": {},
   "outputs": [
    {
     "name": "stdout",
     "output_type": "stream",
     "text": [
      "loading images from /home/chris/Documents/projects_scikit_tensorflow/test2/metrowest_scikit_tensorflow_cnn_car/lib/../data/picturesX\n",
      "loading images from /home/chris/Documents/projects_scikit_tensorflow/test2/metrowest_scikit_tensorflow_cnn_car/lib/../data/picturesX\n",
      "<class 'numpy.ndarray'>\n",
      "(68, 64, 64, 3)\n",
      "<class 'numpy.uint8'>\n"
     ]
    }
   ],
   "source": [
    "# reading all images given a list of directories\n",
    "# here I read the same directory twice\n",
    "\n",
    "dir_list = [\n",
    "    dirpath,\n",
    "    dirpath,\n",
    "]\n",
    "\n",
    "image_array = file_reader.read_images_from_list_of_directories(dir_list)\n",
    "print(type(image_array))\n",
    "print(image_array.shape)    \n",
    "print(type(image_array[0][0][0][0]))"
   ]
  },
  {
   "cell_type": "code",
   "execution_count": 62,
   "metadata": {},
   "outputs": [
    {
     "name": "stdout",
     "output_type": "stream",
     "text": [
      "<class 'numpy.ndarray'>\n",
      "(34,)\n",
      "<class 'numpy.uint8'>\n"
     ]
    }
   ],
   "source": [
    "# using the list of file numbers to get steerings\n",
    "# this returns a 1-d numpy array indexed as\n",
    "# [steering#]\n",
    "\n",
    "steering_array = file_reader.read_steering_from_directory_given_list(dirpath, file_numbers)\n",
    "print(type(steering_array))\n",
    "print(steering_array.shape)\n",
    "print(type(steering_array[0]))"
   ]
  },
  {
   "cell_type": "code",
   "execution_count": 63,
   "metadata": {},
   "outputs": [
    {
     "name": "stdout",
     "output_type": "stream",
     "text": [
      "<class 'numpy.ndarray'>\n",
      "(34,)\n"
     ]
    }
   ],
   "source": [
    "# reading all steerings given a directory\n",
    "steering_array = file_reader.read_steering_from_directory(dirpath)\n",
    "print(type(steering_array))\n",
    "print(steering_array.shape)"
   ]
  },
  {
   "cell_type": "code",
   "execution_count": 64,
   "metadata": {},
   "outputs": [
    {
     "name": "stdout",
     "output_type": "stream",
     "text": [
      "loading steering from /home/chris/Documents/projects_scikit_tensorflow/test2/metrowest_scikit_tensorflow_cnn_car/lib/../data/picturesX\n",
      "loading steering from /home/chris/Documents/projects_scikit_tensorflow/test2/metrowest_scikit_tensorflow_cnn_car/lib/../data/picturesX\n",
      "<class 'numpy.ndarray'>\n",
      "(68,)\n"
     ]
    }
   ],
   "source": [
    "# reading all steerings given a list of directories\n",
    "\n",
    "dir_list = [\n",
    "    dirpath,\n",
    "    dirpath,\n",
    "]\n",
    "\n",
    "steering_array = file_reader.read_steering_from_list_of_directories(dir_list)\n",
    "print(type(steering_array))\n",
    "print(steering_array.shape)  "
   ]
  }
 ],
 "metadata": {
  "kernelspec": {
   "display_name": "Python 3",
   "language": "python",
   "name": "python3"
  },
  "language_info": {
   "codemirror_mode": {
    "name": "ipython",
    "version": 3
   },
   "file_extension": ".py",
   "mimetype": "text/x-python",
   "name": "python",
   "nbconvert_exporter": "python",
   "pygments_lexer": "ipython3",
   "version": "3.5.2"
  }
 },
 "nbformat": 4,
 "nbformat_minor": 2
}
