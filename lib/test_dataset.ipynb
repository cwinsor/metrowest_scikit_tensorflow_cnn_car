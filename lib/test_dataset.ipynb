{
 "cells": [
  {
   "cell_type": "markdown",
   "metadata": {},
   "source": [
    "# Testing the dataset library\n",
    "```\n",
    "Demonstrate use of the library (that a user can load it).\n",
    "```"
   ]
  },
  {
   "cell_type": "markdown",
   "metadata": {},
   "source": [
    "# User loading the dataset"
   ]
  },
  {
   "cell_type": "code",
   "execution_count": 97,
   "metadata": {},
   "outputs": [
    {
     "name": "stdout",
     "output_type": "stream",
     "text": [
      "The autoreload extension is already loaded. To reload it, use:\n",
      "  %reload_ext autoreload\n"
     ]
    }
   ],
   "source": [
    "# force libraries to re-load every time - helpful during development\n",
    "%load_ext autoreload\n",
    "%autoreload 2"
   ]
  },
  {
   "cell_type": "code",
   "execution_count": 98,
   "metadata": {},
   "outputs": [],
   "source": [
    "import sys\n",
    "sys.path.append('../lib')"
   ]
  },
  {
   "cell_type": "code",
   "execution_count": 99,
   "metadata": {},
   "outputs": [],
   "source": [
    "from metrowestcar_dataset import Dataset"
   ]
  },
  {
   "cell_type": "code",
   "execution_count": 106,
   "metadata": {},
   "outputs": [
    {
     "name": "stdout",
     "output_type": "stream",
     "text": [
      "<class 'dict'>\n",
      "dict_keys(['target', 'target_names', 'images', 'DESCR'])\n",
      "There are 68 images\n",
      "There are 68 targets\n",
      "The image array is a (68, 64, 64, 3) of <class 'numpy.ndarray'>\n",
      "The class array is a (68,) of <class 'numpy.ndarray'>\n"
     ]
    }
   ],
   "source": [
    "dataset = Dataset.data()\n",
    "\n",
    "print(type(dataset))\n",
    "print(dataset.keys())\n",
    "print('There are ' + str(len(dataset['images'])) + ' images')\n",
    "print('There are ' + str(len(dataset['target'])) + ' targets')\n",
    "\n",
    "print(\"The image array is a \" + str(dataset['images'].shape) + \" of \" + str(type(dataset['images'])))\n",
    "print(\"The class array is a \" + str(dataset['target'].shape) + \" of \" + str(type(dataset['target'])))\n",
    "        "
   ]
  },
  {
   "cell_type": "code",
   "execution_count": 58,
   "metadata": {},
   "outputs": [
    {
     "name": "stdout",
     "output_type": "stream",
     "text": [
      "\n",
      "before:\n",
      "<class 'numpy.ndarray'>\n",
      "(60000, 28, 28, 1)\n",
      "<class 'numpy.uint8'>\n",
      "\n",
      "after:\n",
      "<class 'numpy.ndarray'>\n",
      "(60000, 28, 28, 1)\n",
      "<class 'numpy.float32'>\n",
      "\n",
      "before\n",
      "<class 'numpy.ndarray'>\n",
      "(60000,)\n",
      "<class 'numpy.uint8'>\n",
      "\n",
      "after\n",
      "<class 'numpy.ndarray'>\n",
      "(60000, 10)\n",
      "<class 'numpy.float32'>\n"
     ]
    }
   ],
   "source": [
    "from __future__ import print_function\n",
    "import keras\n",
    "from keras import backend as K\n",
    "\n",
    "batch_size = 128\n",
    "num_classes = 10\n",
    "epochs = 12\n",
    "\n",
    "# input image dimensions\n",
    "img_rows, img_cols = 28, 28\n",
    "\n",
    "# the data, split between train and test sets\n",
    "(x_train, y_train), (x_test, y_test) = Dataset.data()\n",
    "\n",
    "if K.image_data_format() == 'channels_first':\n",
    "    x_train = x_train.reshape(x_train.shape[0], 1, img_rows, img_cols)\n",
    "    x_test = x_test.reshape(x_test.shape[0], 1, img_rows, img_cols)\n",
    "    input_shape = (1, img_rows, img_cols)\n",
    "else:\n",
    "    x_train = x_train.reshape(x_train.shape[0], img_rows, img_cols, 1)\n",
    "    x_test = x_test.reshape(x_test.shape[0], img_rows, img_cols, 1)\n",
    "    input_shape = (img_rows, img_cols, 1)\n",
    "\n",
    "print(\"\\nbefore:\")\n",
    "print(type(x_train))\n",
    "print(x_train.shape)\n",
    "print(type(x_train[0][0][0][0]))\n",
    "\n",
    "x_train = x_train.astype('float32')\n",
    "x_test = x_test.astype('float32')\n",
    "x_train /= 255\n",
    "x_test /= 255\n",
    "\n",
    "print(\"\\nafter:\")\n",
    "print(type(x_train))\n",
    "print(x_train.shape)\n",
    "print(type(x_train[0][0][0][0]))\n",
    "\n",
    "# convert class vectors to binary class matrices\n",
    "print(\"\\nbefore\")\n",
    "print(type(y_train))\n",
    "print(y_train.shape)\n",
    "print(type(y_train[0]))\n",
    "\n",
    "y_train = keras.utils.to_categorical(y_train, num_classes)\n",
    "y_test = keras.utils.to_categorical(y_test, num_classes)\n",
    "\n",
    "print(\"\\nafter\")\n",
    "print(type(y_train))\n",
    "print(y_train.shape)\n",
    "print(type(y_train[0][0]))\n",
    "\n"
   ]
  }
 ],
 "metadata": {
  "kernelspec": {
   "display_name": "Python 3",
   "language": "python",
   "name": "python3"
  },
  "language_info": {
   "codemirror_mode": {
    "name": "ipython",
    "version": 3
   },
   "file_extension": ".py",
   "mimetype": "text/x-python",
   "name": "python",
   "nbconvert_exporter": "python",
   "pygments_lexer": "ipython3",
   "version": "3.5.2"
  }
 },
 "nbformat": 4,
 "nbformat_minor": 2
}
