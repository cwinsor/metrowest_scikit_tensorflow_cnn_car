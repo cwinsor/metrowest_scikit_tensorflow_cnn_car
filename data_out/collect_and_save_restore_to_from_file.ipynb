{
 "cells": [
  {
   "cell_type": "code",
   "execution_count": 208,
   "metadata": {},
   "outputs": [],
   "source": [
    "# The goal is to make it easy to import data\n",
    "# for the self-driving car.\n",
    "#\n",
    "# To do this - this notebook collects raw data\n",
    "# which has been collected into files, and package\n",
    "# it into into a single python structure.\n",
    "# It then saves this structure to\n",
    "# a file that that can be easily imported.\n",
    "#"
   ]
  },
  {
   "cell_type": "code",
   "execution_count": 209,
   "metadata": {},
   "outputs": [
    {
     "name": "stdout",
     "output_type": "stream",
     "text": [
      "/home/chris/Documents/projects_scikit_tensorflow/metrowest_scikit_tensorflow_cnn_car/data_out\n",
      "['pictures_01_two_loops_left', 'pictures_02_three_loops_right', 'pictures_03_three_loops_left', 'pictures_04_four_loops_right']\n"
     ]
    }
   ],
   "source": [
    "import os \n",
    "subdir_base = os.path.dirname(os.path.realpath(\"data_out\"))\n",
    "subdir_list = [\n",
    "    'pictures_01_two_loops_left',\n",
    "    'pictures_02_three_loops_right',\n",
    "    'pictures_03_three_loops_left',\n",
    "    'pictures_04_four_loops_right',\n",
    "#    'pictures_test',\n",
    "]\n",
    "\n",
    "print(subdir_base)\n",
    "print(subdir_list)"
   ]
  },
  {
   "cell_type": "code",
   "execution_count": 210,
   "metadata": {},
   "outputs": [],
   "source": [
    "# get a list of file numbers within a directory\n",
    "# context - it is expected that files come in pairs named as:\n",
    "#    controlNNN.txt\n",
    "#    imageNNN.jpg\n",
    "# The routine returns a list of NNNs\n",
    "\n",
    "import fnmatch\n",
    "def get_file_numbers(basedir, subdir):\n",
    "    fullpath = os.path.join(basedir, subdir)\n",
    "    # get all the file names\n",
    "    names = os.listdir(fullpath)\n",
    "    # filter to get a list of just the \"control\" files\n",
    "    bar = fnmatch.filter(names, \"control*\")\n",
    "    # use regular expression to get just the NNN part of the name\n",
    "    m = [re.search('\\d+', b).group(0) for b in bar]\n",
    "    # convert to integer from string\n",
    "    m = [ int(x) for x in m ]\n",
    "    return m\n",
    "\n"
   ]
  },
  {
   "cell_type": "code",
   "execution_count": 211,
   "metadata": {},
   "outputs": [
    {
     "name": "stdout",
     "output_type": "stream",
     "text": [
      "There are 806 samples\n",
      "<class 'dict'>\n",
      "<class 'numpy.ndarray'>\n",
      "921600\n",
      "straight\n"
     ]
    }
   ],
   "source": [
    "# read raw images and control from files\n",
    "# concatenate into a dataset\n",
    "\n",
    "import os\n",
    "import re\n",
    "import numpy as np\n",
    "from PIL import Image\n",
    "\n",
    "my_dataset = {}\n",
    "my_dataset['DESCR'] = \"\"\"\n",
    "\n",
    "    The dataset is 800 image and steering values from a toy\n",
    "    car as it is driven around a track.  The track is a\n",
    "    piece of white tape on a concrete floor. The steering values\n",
    "    are the steering applied by the driver to keep the\n",
    "    car on the track.\n",
    "    \n",
    "    The dictionary structure of the dataset is:\n",
    "    \n",
    "    \"images\" - A list of JPEG images.\n",
    "    Each is a w=640 h=480 numpy.ndarray with RGB encoding.\n",
    "    \n",
    "    \"steering\" - A list of strings which indicate the direction\n",
    "    the car is being steered at the time of the image is taken.\n",
    "    These have a value ['left', 'right', 'straight']\n",
    "\n",
    "    \"target_names\" - a list of values of the steering class ['left', 'right', 'straight']\n",
    "    \n",
    "    \"DESCR\" - an overview description of the dataset.\n",
    "\"\"\"\n",
    "\n",
    "my_dataset['target_names'] = ['left', 'right']\n",
    "my_dataset['images'] = []\n",
    "my_dataset['target'] = []\n",
    "\n",
    "# loop through the directories/files\n",
    "my_images = []\n",
    "my_control = []\n",
    "for subdir in subdir_list:\n",
    "    filenumbers = get_file_numbers(subdir_base, subdir)\n",
    "    for fnum in filenumbers:\n",
    "        #print(f)\n",
    "        \n",
    "        filepath = os.path.join(subdir_base, subdir)\n",
    "\n",
    "        filename = os.path.join(filepath, 'image' + str(fnum) + '.jpg')\n",
    "        with Image.open(filename) as file:\n",
    "            a = np.asarray(file)\n",
    "            my_images.append(a)\n",
    "            \n",
    "#            print(file.format)            \n",
    "#            [w,h] = file.size\n",
    "#            print(\"width \" + str(w) + \" height \" + str(h))\n",
    "#            my_images.append(file)\n",
    "#            file.show()\n",
    "\n",
    "        filename = os.path.join(filepath, 'control' + str(fnum))\n",
    "        with open(filename, 'rt') as file:\n",
    "            line = file.read()\n",
    "            direction = \"straight\"\n",
    "            if line == \"01\":\n",
    "                direction = \"left\"\n",
    "            elif line == \"10\":\n",
    "                direction = \"right\"\n",
    "            my_control.append(direction)\n",
    "\n",
    "my_dataset['images'] = my_images\n",
    "my_dataset['target'] = my_control\n",
    "my_dataset['DESCR'] = 'This is a description...'\n",
    "my_dataset['target_names'] = ['left', 'right']\n",
    "\n",
    "print('There are ' + str(len(my_dataset['images'])) + ' samples')\n",
    "print(type(my_dataset))\n",
    "#print(my_dataset.keys())\n",
    "#print(type(my_dataset['images']))\n",
    "print(type(my_dataset['images'][0]))\n",
    "print(my_dataset['images'][0].size)  # (width, height) tuple\n",
    "print(my_dataset['target'][0])\n"
   ]
  },
  {
   "cell_type": "code",
   "execution_count": null,
   "metadata": {},
   "outputs": [],
   "source": [
    "# save to file\n",
    "import pickle\n",
    "\n",
    "with open(\"my_dataset.pickle\", 'wb') as output:\n",
    "    pickle.dump(my_dataset, output)"
   ]
  },
  {
   "cell_type": "code",
   "execution_count": 191,
   "metadata": {},
   "outputs": [
    {
     "name": "stdout",
     "output_type": "stream",
     "text": [
      "There are 806 samples\n",
      "dict_keys(['target_names', 'images', 'DESCR', 'target'])\n",
      "<class 'numpy.ndarray'>\n",
      "921600\n",
      "straight\n"
     ]
    }
   ],
   "source": [
    "# load from file\n",
    "import pickle\n",
    "\n",
    "with open('my_dataset.pickle', 'rb') as data:\n",
    "    dataset_in = pickle.load(data)\n",
    "\n",
    "print('There are ' + str(len(dataset_in['images'])) + ' samples')\n",
    "#print(type(dataset_in))\n",
    "print(dataset_in.keys())\n",
    "#print(type(dataset_in['images']))\n",
    "print(type(dataset_in['images'][0]))\n",
    "print(dataset_in['images'][0].size)  # (width, height) tuple   \n",
    "print(my_dataset['target'][0])"
   ]
  },
  {
   "cell_type": "code",
   "execution_count": 192,
   "metadata": {},
   "outputs": [],
   "source": [
    "# with image and steering arrays as given (globals)\n",
    "# the function takes in an index to those arrays\n",
    "# convert nd_arry to PIL Image, and display\n",
    "# it then uses PIL to draw lines forming an arrow\n",
    "# to the left/right/forward based on steering\n",
    "from PIL import Image, ImageDraw\n",
    "import os\n",
    "import time\n",
    "\n",
    "def display_example(img_num):\n",
    "    i_ndarray = my_dataset['images'][img_num]\n",
    "    #print(type(i_ndarray))\n",
    "    im = Image.fromarray(i_ndarray)\n",
    "    #size = 128, 128\n",
    "    #im.thumbnail(size)\n",
    "\n",
    "    draw = ImageDraw.Draw(im)\n",
    "\n",
    "    # establish 4 points and pointers... format for line sequence is is [(x,y),(x,y)...]\n",
    "    hig   =  (im.size[0]/2,    im.size[1]/4)\n",
    "    left  =  (im.size[0]/4,    im.size[1]/2)\n",
    "    right =  (im.size[0]*3/4,  im.size[1]/2)\n",
    "    low   =  (im.size[0]/2,    im.size[1]*3/4)\n",
    "    pointer_left     = [low, left, high]\n",
    "    pointer_straight = [left, high, right]\n",
    "    pointer_right    = [high, right, low]\n",
    "    pointer_box      = [high, right, low, left, high]\n",
    "\n",
    "    steering = my_dataset['target'][img_num] \n",
    "    if steering == \"left\":\n",
    "        pointer = pointer_left\n",
    "    elif steering == \"right\":\n",
    "        pointer = pointer_right\n",
    "    elif steering == \"straight\":\n",
    "        pointer = pointer_straight\n",
    "    else:\n",
    "        pointer = pointer_box\n",
    " \n",
    "    draw.line(pointer)\n",
    "    im.show()\n",
    "    "
   ]
  },
  {
   "cell_type": "code",
   "execution_count": 200,
   "metadata": {},
   "outputs": [
    {
     "name": "stdout",
     "output_type": "stream",
     "text": [
      "806\n",
      "258\n",
      "610\n",
      "377\n",
      "352\n",
      "402\n",
      "341\n",
      "276\n",
      "49\n",
      "279\n",
      "151\n"
     ]
    }
   ],
   "source": [
    "import random\n",
    "#import sleep\n",
    "import time\n",
    "\n",
    "\n",
    "print (len(my_dataset['images']))\n",
    "\n",
    "for i in range(10):\n",
    "    x = random.randrange(len(my_dataset['images']))\n",
    "    print(x)\n",
    "    display_example(x)\n",
    "    time.sleep(3)"
   ]
  },
  {
   "cell_type": "code",
   "execution_count": null,
   "metadata": {},
   "outputs": [],
   "source": []
  }
 ],
 "metadata": {
  "kernelspec": {
   "display_name": "Python 3",
   "language": "python",
   "name": "python3"
  },
  "language_info": {
   "codemirror_mode": {
    "name": "ipython",
    "version": 3
   },
   "file_extension": ".py",
   "mimetype": "text/x-python",
   "name": "python",
   "nbconvert_exporter": "python",
   "pygments_lexer": "ipython3",
   "version": "3.5.2"
  }
 },
 "nbformat": 4,
 "nbformat_minor": 2
}
